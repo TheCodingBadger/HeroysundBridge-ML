{
 "cells": [
  {
   "cell_type": "code",
   "execution_count": 11,
   "metadata": {},
   "outputs": [],
   "source": [
    "import polars as pl"
   ]
  },
  {
   "cell_type": "code",
   "execution_count": 14,
   "metadata": {},
   "outputs": [
    {
     "ename": "AttributeError",
     "evalue": "'DataFrame' object has no attribute 'with_column'",
     "output_type": "error",
     "traceback": [
      "\u001b[1;31m---------------------------------------------------------------------------\u001b[0m",
      "\u001b[1;31mAttributeError\u001b[0m                            Traceback (most recent call last)",
      "Cell \u001b[1;32mIn[14], line 34\u001b[0m\n\u001b[0;32m     30\u001b[0m         sensor_data \u001b[38;5;241m=\u001b[39m sensor_data\u001b[38;5;241m.\u001b[39mwith_column(\n\u001b[0;32m     31\u001b[0m             sensor_data[col]\u001b[38;5;241m.\u001b[39mstr\u001b[38;5;241m.\u001b[39mstrptime(pl\u001b[38;5;241m.\u001b[39mDatetime, fmt\u001b[38;5;241m=\u001b[39m\u001b[38;5;124m\"\u001b[39m\u001b[38;5;124m%\u001b[39m\u001b[38;5;124mY\u001b[39m\u001b[38;5;124m%\u001b[39m\u001b[38;5;124mm\u001b[39m\u001b[38;5;132;01m%d\u001b[39;00m\u001b[38;5;124m%\u001b[39m\u001b[38;5;124mH\u001b[39m\u001b[38;5;124m%\u001b[39m\u001b[38;5;124mM\u001b[39m\u001b[38;5;124m%\u001b[39m\u001b[38;5;124mS\u001b[39m\u001b[38;5;124m\"\u001b[39m)\u001b[38;5;241m.\u001b[39mcast(pl\u001b[38;5;241m.\u001b[39mInt64)\n\u001b[0;32m     32\u001b[0m         )\n\u001b[0;32m     33\u001b[0m     \u001b[38;5;28;01melse\u001b[39;00m:\n\u001b[1;32m---> 34\u001b[0m         sensor_data \u001b[38;5;241m=\u001b[39m \u001b[43msensor_data\u001b[49m\u001b[38;5;241;43m.\u001b[39;49m\u001b[43mwith_column\u001b[49m(sensor_data[col]\u001b[38;5;241m.\u001b[39mcast(pl\u001b[38;5;241m.\u001b[39mFloat64))\n\u001b[0;32m     36\u001b[0m \u001b[38;5;66;03m# Display the contents of the DataFrames\u001b[39;00m\n\u001b[0;32m     37\u001b[0m \u001b[38;5;28mprint\u001b[39m(\u001b[38;5;124m\"\u001b[39m\u001b[38;5;124mWeather Data:\u001b[39m\u001b[38;5;124m\"\u001b[39m)\n",
      "\u001b[1;31mAttributeError\u001b[0m: 'DataFrame' object has no attribute 'with_column'"
     ]
    }
   ],
   "source": [
    "file_path_weather = r'C:\\Users\\200408\\OneDrive - Betonmast\\Skrivebord\\NTNU\\Prosjektoppgave\\Klimadata\\weather_data.parquet'\n",
    "file_path_sensor = r'C:\\Users\\200408\\OneDrive - Betonmast\\Skrivebord\\NTNU\\Prosjektoppgave\\Klimadata\\sensor_data.parquet'\n",
    "\n",
    "# Read the Parquet files into Polars DataFrames\n",
    "weather_data = pl.read_parquet(file_path_weather)\n",
    "sensor_data = pl.read_parquet(file_path_sensor)\n",
    "\n",
    "# Define the list of column names that you want to convert to float\n",
    "float_columns = [\n",
    "    \"Time_since_2019.12.31\",\n",
    "    \"Date\",\n",
    "    \"Point_1_N_mean\",\n",
    "    \"Point_2_N_mean\",\n",
    "    \"Point_3_N_mean\",\n",
    "    \"Point_4_S_mean\",\n",
    "    \"Point_5_S_mean\",\n",
    "    \"Point_6_S_mean\",\n",
    "    \"Omega_N_mean\",\n",
    "    \"Omega_S_mean\",\n",
    "    \"PT100_Temperature_mean\"\n",
    "]\n",
    "\n",
    "# Read the Parquet files into Polars DataFrames\n",
    "weather_data = pl.read_parquet(file_path_weather)\n",
    "sensor_data = pl.read_parquet(file_path_sensor)\n",
    "\n",
    "# Define the list of column names that you want to convert to float\n",
    "float_columns = [\n",
    "    \"Time_since_2019.12.31\",\n",
    "    \"Date\",\n",
    "    \"Point_1_N_mean\",\n",
    "    \"Point_2_N_mean\",\n",
    "    \"Point_3_N_mean\",\n",
    "    \"Point_4_S_mean\",\n",
    "    \"Point_5_S_mean\",\n",
    "    \"Point_6_S_mean\",\n",
    "    \"Omega_N_mean\",\n",
    "    \"Omega_S_mean\",\n",
    "    \"PT100_Temperature_mean\"\n",
    "]\n",
    "\n",
    "for col in float_columns:\n",
    "    if col == \"Date\":\n",
    "        sensor_data = sensor_data.with_columns(\n",
    "            sensor_data[col].str.strptime(pl.Datetime, fmt=\"%Y%m%d%H%M%S\").cast(pl.Int64)\n",
    "        )\n",
    "    else:\n",
    "        sensor_data = sensor_data.with_columns(sensor_data[col].cast(pl.Float64))\n",
    "\n",
    "# Display the contents of the DataFrames\n",
    "print(\"Weather Data:\")\n",
    "print(weather_data)\n",
    "\n",
    "print(\"\\nSensor Data:\")\n",
    "print(sensor_data)\n"
   ]
  }
 ],
 "metadata": {
  "kernelspec": {
   "display_name": "venv",
   "language": "python",
   "name": "python3"
  },
  "language_info": {
   "codemirror_mode": {
    "name": "ipython",
    "version": 3
   },
   "file_extension": ".py",
   "mimetype": "text/x-python",
   "name": "python",
   "nbconvert_exporter": "python",
   "pygments_lexer": "ipython3",
   "version": "3.10.11"
  }
 },
 "nbformat": 4,
 "nbformat_minor": 2
}
