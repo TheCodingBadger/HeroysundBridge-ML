{
 "cells": [
  {
   "cell_type": "markdown",
   "metadata": {},
   "source": [
    "**Notes to YT-Video: https://www.youtube.com/watch?v=c0k-YLQGKjY**"
   ]
  },
  {
   "cell_type": "code",
   "execution_count": 2,
   "metadata": {},
   "outputs": [],
   "source": [
    "# Nice imports\n",
    "import os\n",
    "import tensorflow as tf\n",
    "import numpy as np\n",
    "import pandas as pd\n",
    "import matplotlib.pyplot as plt"
   ]
  },
  {
   "cell_type": "code",
   "execution_count": 7,
   "metadata": {},
   "outputs": [
    {
     "name": "stdout",
     "output_type": "stream",
     "text": [
      "[]\n"
     ]
    }
   ],
   "source": [
    "print(tf.config.list_physical_devices('GPU'))"
   ]
  },
  {
   "cell_type": "code",
   "execution_count": 64,
   "metadata": {},
   "outputs": [
    {
     "name": "stdout",
     "output_type": "stream",
     "text": [
      "Found 'combined.parquet' at: C:\\Users\\erlih\\HeroysundBridge-ML\\combined.parquet\n"
     ]
    }
   ],
   "source": [
    "# Get the user's home directory\n",
    "user_home = os.path.expanduser(\"~\")\n",
    "\n",
    "# Specify the relative path to the target folder from the home directory\n",
    "relative_path = 'HeroysundBridge-ML'\n",
    "\n",
    "# Construct the full path to the target folder\n",
    "target_folder = os.path.join(user_home, relative_path)\n",
    "\n",
    "# Specify the name of the file you're looking for\n",
    "file_name = 'combined.parquet'\n",
    "\n",
    "# Construct the full path to the file\n",
    "file_path = os.path.join(target_folder, file_name)\n",
    "\n",
    "# Check if the file exists\n",
    "if os.path.exists(file_path):\n",
    "    print(f\"Found '{file_name}' at: {file_path}\")\n",
    "else:\n",
    "    print(f\"File '{file_name}' not found in '{target_folder}'.\")\n"
   ]
  },
  {
   "cell_type": "code",
   "execution_count": 20,
   "metadata": {},
   "outputs": [
    {
     "data": {
      "text/html": [
       "<div>\n",
       "<style scoped>\n",
       "    .dataframe tbody tr th:only-of-type {\n",
       "        vertical-align: middle;\n",
       "    }\n",
       "\n",
       "    .dataframe tbody tr th {\n",
       "        vertical-align: top;\n",
       "    }\n",
       "\n",
       "    .dataframe thead th {\n",
       "        text-align: right;\n",
       "    }\n",
       "</style>\n",
       "<table border=\"1\" class=\"dataframe\">\n",
       "  <thead>\n",
       "    <tr style=\"text-align: right;\">\n",
       "      <th></th>\n",
       "      <th>Hours_since_2019.12.31</th>\n",
       "      <th>Date</th>\n",
       "      <th>Point_1_N_mean</th>\n",
       "      <th>Point_2_N_mean</th>\n",
       "      <th>Point_3_N_mean</th>\n",
       "      <th>Point_4_S_mean</th>\n",
       "      <th>Point_5_S_mean</th>\n",
       "      <th>Point_6_S_mean</th>\n",
       "      <th>Omega_N_mean</th>\n",
       "      <th>Omega_S_mean</th>\n",
       "      <th>PT100_Temperature_mean</th>\n",
       "      <th>Gjennomsnittlig globalstråling (1 t)</th>\n",
       "      <th>Solskinnstid (1 t)</th>\n",
       "      <th>Middel av middelvind (1 t)</th>\n",
       "      <th>Nedbør (1 t)</th>\n",
       "      <th>Relativ luftfuktighet</th>\n",
       "    </tr>\n",
       "  </thead>\n",
       "  <tbody>\n",
       "    <tr>\n",
       "      <th>0</th>\n",
       "      <td>5916</td>\n",
       "      <td>2020090212</td>\n",
       "      <td>18.324186</td>\n",
       "      <td>16.439996</td>\n",
       "      <td>12.273690</td>\n",
       "      <td>43.943916</td>\n",
       "      <td>41.496791</td>\n",
       "      <td>32.350760</td>\n",
       "      <td>-0.000391</td>\n",
       "      <td>-0.002391</td>\n",
       "      <td>16.261441</td>\n",
       "      <td>954.0</td>\n",
       "      <td>52.0</td>\n",
       "      <td>0.9</td>\n",
       "      <td>0.1</td>\n",
       "      <td>49.0</td>\n",
       "    </tr>\n",
       "    <tr>\n",
       "      <th>1</th>\n",
       "      <td>5940</td>\n",
       "      <td>2020090312</td>\n",
       "      <td>24.667922</td>\n",
       "      <td>24.155004</td>\n",
       "      <td>18.399311</td>\n",
       "      <td>58.603003</td>\n",
       "      <td>57.104418</td>\n",
       "      <td>46.496854</td>\n",
       "      <td>-0.000950</td>\n",
       "      <td>0.001639</td>\n",
       "      <td>16.858222</td>\n",
       "      <td>966.0</td>\n",
       "      <td>52.0</td>\n",
       "      <td>3.5</td>\n",
       "      <td>0.0</td>\n",
       "      <td>45.0</td>\n",
       "    </tr>\n",
       "    <tr>\n",
       "      <th>2</th>\n",
       "      <td>5962</td>\n",
       "      <td>2020090410</td>\n",
       "      <td>-15.535099</td>\n",
       "      <td>-21.302234</td>\n",
       "      <td>-17.400303</td>\n",
       "      <td>43.134141</td>\n",
       "      <td>39.866109</td>\n",
       "      <td>29.849380</td>\n",
       "      <td>0.004475</td>\n",
       "      <td>0.015130</td>\n",
       "      <td>14.256647</td>\n",
       "      <td>131.6</td>\n",
       "      <td>0.0</td>\n",
       "      <td>2.6</td>\n",
       "      <td>0.5</td>\n",
       "      <td>87.0</td>\n",
       "    </tr>\n",
       "    <tr>\n",
       "      <th>3</th>\n",
       "      <td>5966</td>\n",
       "      <td>2020090414</td>\n",
       "      <td>-10.819921</td>\n",
       "      <td>-15.643464</td>\n",
       "      <td>-12.470669</td>\n",
       "      <td>51.753103</td>\n",
       "      <td>50.788288</td>\n",
       "      <td>37.997157</td>\n",
       "      <td>0.001993</td>\n",
       "      <td>0.014450</td>\n",
       "      <td>14.687477</td>\n",
       "      <td>314.0</td>\n",
       "      <td>0.0</td>\n",
       "      <td>4.0</td>\n",
       "      <td>0.2</td>\n",
       "      <td>86.0</td>\n",
       "    </tr>\n",
       "    <tr>\n",
       "      <th>4</th>\n",
       "      <td>5970</td>\n",
       "      <td>2020090418</td>\n",
       "      <td>-15.399971</td>\n",
       "      <td>-18.856000</td>\n",
       "      <td>-14.976123</td>\n",
       "      <td>52.673533</td>\n",
       "      <td>51.309598</td>\n",
       "      <td>36.255848</td>\n",
       "      <td>0.005713</td>\n",
       "      <td>0.017729</td>\n",
       "      <td>13.874647</td>\n",
       "      <td>236.0</td>\n",
       "      <td>21.0</td>\n",
       "      <td>1.3</td>\n",
       "      <td>0.0</td>\n",
       "      <td>74.0</td>\n",
       "    </tr>\n",
       "    <tr>\n",
       "      <th>...</th>\n",
       "      <td>...</td>\n",
       "      <td>...</td>\n",
       "      <td>...</td>\n",
       "      <td>...</td>\n",
       "      <td>...</td>\n",
       "      <td>...</td>\n",
       "      <td>...</td>\n",
       "      <td>...</td>\n",
       "      <td>...</td>\n",
       "      <td>...</td>\n",
       "      <td>...</td>\n",
       "      <td>...</td>\n",
       "      <td>...</td>\n",
       "      <td>...</td>\n",
       "      <td>...</td>\n",
       "      <td>...</td>\n",
       "    </tr>\n",
       "    <tr>\n",
       "      <th>26807</th>\n",
       "      <td>35082</td>\n",
       "      <td>2023123118</td>\n",
       "      <td>-20.227229</td>\n",
       "      <td>-104.882947</td>\n",
       "      <td>-99.809995</td>\n",
       "      <td>-277.179242</td>\n",
       "      <td>-317.856174</td>\n",
       "      <td>-257.119294</td>\n",
       "      <td>0.000000</td>\n",
       "      <td>-0.040876</td>\n",
       "      <td>-4.738139</td>\n",
       "      <td>-3.0</td>\n",
       "      <td>0.0</td>\n",
       "      <td>1.1</td>\n",
       "      <td>0.0</td>\n",
       "      <td>60.0</td>\n",
       "    </tr>\n",
       "    <tr>\n",
       "      <th>26808</th>\n",
       "      <td>35083</td>\n",
       "      <td>2023123119</td>\n",
       "      <td>-19.488729</td>\n",
       "      <td>-105.022363</td>\n",
       "      <td>-99.542072</td>\n",
       "      <td>-276.450669</td>\n",
       "      <td>-317.423938</td>\n",
       "      <td>-256.383557</td>\n",
       "      <td>0.000000</td>\n",
       "      <td>-0.040332</td>\n",
       "      <td>-4.625233</td>\n",
       "      <td>-3.0</td>\n",
       "      <td>0.0</td>\n",
       "      <td>1.3</td>\n",
       "      <td>0.0</td>\n",
       "      <td>59.0</td>\n",
       "    </tr>\n",
       "    <tr>\n",
       "      <th>26809</th>\n",
       "      <td>35084</td>\n",
       "      <td>2023123120</td>\n",
       "      <td>-21.503484</td>\n",
       "      <td>-107.888565</td>\n",
       "      <td>-100.934269</td>\n",
       "      <td>-278.409798</td>\n",
       "      <td>-319.099933</td>\n",
       "      <td>-258.295017</td>\n",
       "      <td>0.000000</td>\n",
       "      <td>-0.044919</td>\n",
       "      <td>-4.645648</td>\n",
       "      <td>-2.9</td>\n",
       "      <td>0.0</td>\n",
       "      <td>1.3</td>\n",
       "      <td>0.0</td>\n",
       "      <td>57.0</td>\n",
       "    </tr>\n",
       "    <tr>\n",
       "      <th>26810</th>\n",
       "      <td>35085</td>\n",
       "      <td>2023123121</td>\n",
       "      <td>-22.667015</td>\n",
       "      <td>-109.260424</td>\n",
       "      <td>-102.036887</td>\n",
       "      <td>-279.507222</td>\n",
       "      <td>-320.289949</td>\n",
       "      <td>-259.567834</td>\n",
       "      <td>0.000000</td>\n",
       "      <td>-0.048216</td>\n",
       "      <td>-4.756255</td>\n",
       "      <td>-2.9</td>\n",
       "      <td>0.0</td>\n",
       "      <td>1.3</td>\n",
       "      <td>0.0</td>\n",
       "      <td>56.0</td>\n",
       "    </tr>\n",
       "    <tr>\n",
       "      <th>26811</th>\n",
       "      <td>35086</td>\n",
       "      <td>2023123122</td>\n",
       "      <td>-22.800138</td>\n",
       "      <td>-110.541549</td>\n",
       "      <td>-102.633739</td>\n",
       "      <td>-280.061310</td>\n",
       "      <td>-320.786081</td>\n",
       "      <td>-259.985386</td>\n",
       "      <td>0.000000</td>\n",
       "      <td>-0.049865</td>\n",
       "      <td>-4.433085</td>\n",
       "      <td>-3.2</td>\n",
       "      <td>0.0</td>\n",
       "      <td>1.0</td>\n",
       "      <td>0.0</td>\n",
       "      <td>56.0</td>\n",
       "    </tr>\n",
       "  </tbody>\n",
       "</table>\n",
       "<p>26812 rows × 16 columns</p>\n",
       "</div>"
      ],
      "text/plain": [
       "       Hours_since_2019.12.31        Date  Point_1_N_mean  Point_2_N_mean  \\\n",
       "0                        5916  2020090212       18.324186       16.439996   \n",
       "1                        5940  2020090312       24.667922       24.155004   \n",
       "2                        5962  2020090410      -15.535099      -21.302234   \n",
       "3                        5966  2020090414      -10.819921      -15.643464   \n",
       "4                        5970  2020090418      -15.399971      -18.856000   \n",
       "...                       ...         ...             ...             ...   \n",
       "26807                   35082  2023123118      -20.227229     -104.882947   \n",
       "26808                   35083  2023123119      -19.488729     -105.022363   \n",
       "26809                   35084  2023123120      -21.503484     -107.888565   \n",
       "26810                   35085  2023123121      -22.667015     -109.260424   \n",
       "26811                   35086  2023123122      -22.800138     -110.541549   \n",
       "\n",
       "       Point_3_N_mean  Point_4_S_mean  Point_5_S_mean  Point_6_S_mean  \\\n",
       "0           12.273690       43.943916       41.496791       32.350760   \n",
       "1           18.399311       58.603003       57.104418       46.496854   \n",
       "2          -17.400303       43.134141       39.866109       29.849380   \n",
       "3          -12.470669       51.753103       50.788288       37.997157   \n",
       "4          -14.976123       52.673533       51.309598       36.255848   \n",
       "...               ...             ...             ...             ...   \n",
       "26807      -99.809995     -277.179242     -317.856174     -257.119294   \n",
       "26808      -99.542072     -276.450669     -317.423938     -256.383557   \n",
       "26809     -100.934269     -278.409798     -319.099933     -258.295017   \n",
       "26810     -102.036887     -279.507222     -320.289949     -259.567834   \n",
       "26811     -102.633739     -280.061310     -320.786081     -259.985386   \n",
       "\n",
       "       Omega_N_mean  Omega_S_mean  PT100_Temperature_mean  \\\n",
       "0         -0.000391     -0.002391               16.261441   \n",
       "1         -0.000950      0.001639               16.858222   \n",
       "2          0.004475      0.015130               14.256647   \n",
       "3          0.001993      0.014450               14.687477   \n",
       "4          0.005713      0.017729               13.874647   \n",
       "...             ...           ...                     ...   \n",
       "26807      0.000000     -0.040876               -4.738139   \n",
       "26808      0.000000     -0.040332               -4.625233   \n",
       "26809      0.000000     -0.044919               -4.645648   \n",
       "26810      0.000000     -0.048216               -4.756255   \n",
       "26811      0.000000     -0.049865               -4.433085   \n",
       "\n",
       "       Gjennomsnittlig globalstråling (1 t)  Solskinnstid (1 t)  \\\n",
       "0                                     954.0                52.0   \n",
       "1                                     966.0                52.0   \n",
       "2                                     131.6                 0.0   \n",
       "3                                     314.0                 0.0   \n",
       "4                                     236.0                21.0   \n",
       "...                                     ...                 ...   \n",
       "26807                                  -3.0                 0.0   \n",
       "26808                                  -3.0                 0.0   \n",
       "26809                                  -2.9                 0.0   \n",
       "26810                                  -2.9                 0.0   \n",
       "26811                                  -3.2                 0.0   \n",
       "\n",
       "       Middel av middelvind (1 t)  Nedbør (1 t)  Relativ luftfuktighet  \n",
       "0                             0.9           0.1                   49.0  \n",
       "1                             3.5           0.0                   45.0  \n",
       "2                             2.6           0.5                   87.0  \n",
       "3                             4.0           0.2                   86.0  \n",
       "4                             1.3           0.0                   74.0  \n",
       "...                           ...           ...                    ...  \n",
       "26807                         1.1           0.0                   60.0  \n",
       "26808                         1.3           0.0                   59.0  \n",
       "26809                         1.3           0.0                   57.0  \n",
       "26810                         1.3           0.0                   56.0  \n",
       "26811                         1.0           0.0                   56.0  \n",
       "\n",
       "[26812 rows x 16 columns]"
      ]
     },
     "execution_count": 20,
     "metadata": {},
     "output_type": "execute_result"
    }
   ],
   "source": [
    "df = pd.read_parquet(file_path)\n",
    "df"
   ]
  },
  {
   "cell_type": "markdown",
   "metadata": {},
   "source": [
    "**Making index (First column) set up in the correct way**"
   ]
  },
  {
   "cell_type": "code",
   "execution_count": 22,
   "metadata": {},
   "outputs": [
    {
     "data": {
      "text/html": [
       "<div>\n",
       "<style scoped>\n",
       "    .dataframe tbody tr th:only-of-type {\n",
       "        vertical-align: middle;\n",
       "    }\n",
       "\n",
       "    .dataframe tbody tr th {\n",
       "        vertical-align: top;\n",
       "    }\n",
       "\n",
       "    .dataframe thead th {\n",
       "        text-align: right;\n",
       "    }\n",
       "</style>\n",
       "<table border=\"1\" class=\"dataframe\">\n",
       "  <thead>\n",
       "    <tr style=\"text-align: right;\">\n",
       "      <th></th>\n",
       "      <th>Hours_since_2019.12.31</th>\n",
       "      <th>Date</th>\n",
       "      <th>Point_1_N_mean</th>\n",
       "      <th>Point_2_N_mean</th>\n",
       "      <th>Point_3_N_mean</th>\n",
       "      <th>Point_4_S_mean</th>\n",
       "      <th>Point_5_S_mean</th>\n",
       "      <th>Point_6_S_mean</th>\n",
       "      <th>Omega_N_mean</th>\n",
       "      <th>Omega_S_mean</th>\n",
       "      <th>PT100_Temperature_mean</th>\n",
       "      <th>Gjennomsnittlig globalstråling (1 t)</th>\n",
       "      <th>Solskinnstid (1 t)</th>\n",
       "      <th>Middel av middelvind (1 t)</th>\n",
       "      <th>Nedbør (1 t)</th>\n",
       "      <th>Relativ luftfuktighet</th>\n",
       "    </tr>\n",
       "    <tr>\n",
       "      <th>Date</th>\n",
       "      <th></th>\n",
       "      <th></th>\n",
       "      <th></th>\n",
       "      <th></th>\n",
       "      <th></th>\n",
       "      <th></th>\n",
       "      <th></th>\n",
       "      <th></th>\n",
       "      <th></th>\n",
       "      <th></th>\n",
       "      <th></th>\n",
       "      <th></th>\n",
       "      <th></th>\n",
       "      <th></th>\n",
       "      <th></th>\n",
       "      <th></th>\n",
       "    </tr>\n",
       "  </thead>\n",
       "  <tbody>\n",
       "    <tr>\n",
       "      <th>2020-09-02 12:00:00</th>\n",
       "      <td>5916</td>\n",
       "      <td>2020090212</td>\n",
       "      <td>18.324186</td>\n",
       "      <td>16.439996</td>\n",
       "      <td>12.273690</td>\n",
       "      <td>43.943916</td>\n",
       "      <td>41.496791</td>\n",
       "      <td>32.350760</td>\n",
       "      <td>-0.000391</td>\n",
       "      <td>-0.002391</td>\n",
       "      <td>16.261441</td>\n",
       "      <td>954.0</td>\n",
       "      <td>52.0</td>\n",
       "      <td>0.9</td>\n",
       "      <td>0.1</td>\n",
       "      <td>49.0</td>\n",
       "    </tr>\n",
       "    <tr>\n",
       "      <th>2020-09-03 12:00:00</th>\n",
       "      <td>5940</td>\n",
       "      <td>2020090312</td>\n",
       "      <td>24.667922</td>\n",
       "      <td>24.155004</td>\n",
       "      <td>18.399311</td>\n",
       "      <td>58.603003</td>\n",
       "      <td>57.104418</td>\n",
       "      <td>46.496854</td>\n",
       "      <td>-0.000950</td>\n",
       "      <td>0.001639</td>\n",
       "      <td>16.858222</td>\n",
       "      <td>966.0</td>\n",
       "      <td>52.0</td>\n",
       "      <td>3.5</td>\n",
       "      <td>0.0</td>\n",
       "      <td>45.0</td>\n",
       "    </tr>\n",
       "    <tr>\n",
       "      <th>2020-09-04 10:00:00</th>\n",
       "      <td>5962</td>\n",
       "      <td>2020090410</td>\n",
       "      <td>-15.535099</td>\n",
       "      <td>-21.302234</td>\n",
       "      <td>-17.400303</td>\n",
       "      <td>43.134141</td>\n",
       "      <td>39.866109</td>\n",
       "      <td>29.849380</td>\n",
       "      <td>0.004475</td>\n",
       "      <td>0.015130</td>\n",
       "      <td>14.256647</td>\n",
       "      <td>131.6</td>\n",
       "      <td>0.0</td>\n",
       "      <td>2.6</td>\n",
       "      <td>0.5</td>\n",
       "      <td>87.0</td>\n",
       "    </tr>\n",
       "    <tr>\n",
       "      <th>2020-09-04 14:00:00</th>\n",
       "      <td>5966</td>\n",
       "      <td>2020090414</td>\n",
       "      <td>-10.819921</td>\n",
       "      <td>-15.643464</td>\n",
       "      <td>-12.470669</td>\n",
       "      <td>51.753103</td>\n",
       "      <td>50.788288</td>\n",
       "      <td>37.997157</td>\n",
       "      <td>0.001993</td>\n",
       "      <td>0.014450</td>\n",
       "      <td>14.687477</td>\n",
       "      <td>314.0</td>\n",
       "      <td>0.0</td>\n",
       "      <td>4.0</td>\n",
       "      <td>0.2</td>\n",
       "      <td>86.0</td>\n",
       "    </tr>\n",
       "    <tr>\n",
       "      <th>2020-09-04 18:00:00</th>\n",
       "      <td>5970</td>\n",
       "      <td>2020090418</td>\n",
       "      <td>-15.399971</td>\n",
       "      <td>-18.856000</td>\n",
       "      <td>-14.976123</td>\n",
       "      <td>52.673533</td>\n",
       "      <td>51.309598</td>\n",
       "      <td>36.255848</td>\n",
       "      <td>0.005713</td>\n",
       "      <td>0.017729</td>\n",
       "      <td>13.874647</td>\n",
       "      <td>236.0</td>\n",
       "      <td>21.0</td>\n",
       "      <td>1.3</td>\n",
       "      <td>0.0</td>\n",
       "      <td>74.0</td>\n",
       "    </tr>\n",
       "    <tr>\n",
       "      <th>...</th>\n",
       "      <td>...</td>\n",
       "      <td>...</td>\n",
       "      <td>...</td>\n",
       "      <td>...</td>\n",
       "      <td>...</td>\n",
       "      <td>...</td>\n",
       "      <td>...</td>\n",
       "      <td>...</td>\n",
       "      <td>...</td>\n",
       "      <td>...</td>\n",
       "      <td>...</td>\n",
       "      <td>...</td>\n",
       "      <td>...</td>\n",
       "      <td>...</td>\n",
       "      <td>...</td>\n",
       "      <td>...</td>\n",
       "    </tr>\n",
       "    <tr>\n",
       "      <th>2023-12-31 18:00:00</th>\n",
       "      <td>35082</td>\n",
       "      <td>2023123118</td>\n",
       "      <td>-20.227229</td>\n",
       "      <td>-104.882947</td>\n",
       "      <td>-99.809995</td>\n",
       "      <td>-277.179242</td>\n",
       "      <td>-317.856174</td>\n",
       "      <td>-257.119294</td>\n",
       "      <td>0.000000</td>\n",
       "      <td>-0.040876</td>\n",
       "      <td>-4.738139</td>\n",
       "      <td>-3.0</td>\n",
       "      <td>0.0</td>\n",
       "      <td>1.1</td>\n",
       "      <td>0.0</td>\n",
       "      <td>60.0</td>\n",
       "    </tr>\n",
       "    <tr>\n",
       "      <th>2023-12-31 19:00:00</th>\n",
       "      <td>35083</td>\n",
       "      <td>2023123119</td>\n",
       "      <td>-19.488729</td>\n",
       "      <td>-105.022363</td>\n",
       "      <td>-99.542072</td>\n",
       "      <td>-276.450669</td>\n",
       "      <td>-317.423938</td>\n",
       "      <td>-256.383557</td>\n",
       "      <td>0.000000</td>\n",
       "      <td>-0.040332</td>\n",
       "      <td>-4.625233</td>\n",
       "      <td>-3.0</td>\n",
       "      <td>0.0</td>\n",
       "      <td>1.3</td>\n",
       "      <td>0.0</td>\n",
       "      <td>59.0</td>\n",
       "    </tr>\n",
       "    <tr>\n",
       "      <th>2023-12-31 20:00:00</th>\n",
       "      <td>35084</td>\n",
       "      <td>2023123120</td>\n",
       "      <td>-21.503484</td>\n",
       "      <td>-107.888565</td>\n",
       "      <td>-100.934269</td>\n",
       "      <td>-278.409798</td>\n",
       "      <td>-319.099933</td>\n",
       "      <td>-258.295017</td>\n",
       "      <td>0.000000</td>\n",
       "      <td>-0.044919</td>\n",
       "      <td>-4.645648</td>\n",
       "      <td>-2.9</td>\n",
       "      <td>0.0</td>\n",
       "      <td>1.3</td>\n",
       "      <td>0.0</td>\n",
       "      <td>57.0</td>\n",
       "    </tr>\n",
       "    <tr>\n",
       "      <th>2023-12-31 21:00:00</th>\n",
       "      <td>35085</td>\n",
       "      <td>2023123121</td>\n",
       "      <td>-22.667015</td>\n",
       "      <td>-109.260424</td>\n",
       "      <td>-102.036887</td>\n",
       "      <td>-279.507222</td>\n",
       "      <td>-320.289949</td>\n",
       "      <td>-259.567834</td>\n",
       "      <td>0.000000</td>\n",
       "      <td>-0.048216</td>\n",
       "      <td>-4.756255</td>\n",
       "      <td>-2.9</td>\n",
       "      <td>0.0</td>\n",
       "      <td>1.3</td>\n",
       "      <td>0.0</td>\n",
       "      <td>56.0</td>\n",
       "    </tr>\n",
       "    <tr>\n",
       "      <th>2023-12-31 22:00:00</th>\n",
       "      <td>35086</td>\n",
       "      <td>2023123122</td>\n",
       "      <td>-22.800138</td>\n",
       "      <td>-110.541549</td>\n",
       "      <td>-102.633739</td>\n",
       "      <td>-280.061310</td>\n",
       "      <td>-320.786081</td>\n",
       "      <td>-259.985386</td>\n",
       "      <td>0.000000</td>\n",
       "      <td>-0.049865</td>\n",
       "      <td>-4.433085</td>\n",
       "      <td>-3.2</td>\n",
       "      <td>0.0</td>\n",
       "      <td>1.0</td>\n",
       "      <td>0.0</td>\n",
       "      <td>56.0</td>\n",
       "    </tr>\n",
       "  </tbody>\n",
       "</table>\n",
       "<p>26812 rows × 16 columns</p>\n",
       "</div>"
      ],
      "text/plain": [
       "                     Hours_since_2019.12.31        Date  Point_1_N_mean  \\\n",
       "Date                                                                      \n",
       "2020-09-02 12:00:00                    5916  2020090212       18.324186   \n",
       "2020-09-03 12:00:00                    5940  2020090312       24.667922   \n",
       "2020-09-04 10:00:00                    5962  2020090410      -15.535099   \n",
       "2020-09-04 14:00:00                    5966  2020090414      -10.819921   \n",
       "2020-09-04 18:00:00                    5970  2020090418      -15.399971   \n",
       "...                                     ...         ...             ...   \n",
       "2023-12-31 18:00:00                   35082  2023123118      -20.227229   \n",
       "2023-12-31 19:00:00                   35083  2023123119      -19.488729   \n",
       "2023-12-31 20:00:00                   35084  2023123120      -21.503484   \n",
       "2023-12-31 21:00:00                   35085  2023123121      -22.667015   \n",
       "2023-12-31 22:00:00                   35086  2023123122      -22.800138   \n",
       "\n",
       "                     Point_2_N_mean  Point_3_N_mean  Point_4_S_mean  \\\n",
       "Date                                                                  \n",
       "2020-09-02 12:00:00       16.439996       12.273690       43.943916   \n",
       "2020-09-03 12:00:00       24.155004       18.399311       58.603003   \n",
       "2020-09-04 10:00:00      -21.302234      -17.400303       43.134141   \n",
       "2020-09-04 14:00:00      -15.643464      -12.470669       51.753103   \n",
       "2020-09-04 18:00:00      -18.856000      -14.976123       52.673533   \n",
       "...                             ...             ...             ...   \n",
       "2023-12-31 18:00:00     -104.882947      -99.809995     -277.179242   \n",
       "2023-12-31 19:00:00     -105.022363      -99.542072     -276.450669   \n",
       "2023-12-31 20:00:00     -107.888565     -100.934269     -278.409798   \n",
       "2023-12-31 21:00:00     -109.260424     -102.036887     -279.507222   \n",
       "2023-12-31 22:00:00     -110.541549     -102.633739     -280.061310   \n",
       "\n",
       "                     Point_5_S_mean  Point_6_S_mean  Omega_N_mean  \\\n",
       "Date                                                                \n",
       "2020-09-02 12:00:00       41.496791       32.350760     -0.000391   \n",
       "2020-09-03 12:00:00       57.104418       46.496854     -0.000950   \n",
       "2020-09-04 10:00:00       39.866109       29.849380      0.004475   \n",
       "2020-09-04 14:00:00       50.788288       37.997157      0.001993   \n",
       "2020-09-04 18:00:00       51.309598       36.255848      0.005713   \n",
       "...                             ...             ...           ...   \n",
       "2023-12-31 18:00:00     -317.856174     -257.119294      0.000000   \n",
       "2023-12-31 19:00:00     -317.423938     -256.383557      0.000000   \n",
       "2023-12-31 20:00:00     -319.099933     -258.295017      0.000000   \n",
       "2023-12-31 21:00:00     -320.289949     -259.567834      0.000000   \n",
       "2023-12-31 22:00:00     -320.786081     -259.985386      0.000000   \n",
       "\n",
       "                     Omega_S_mean  PT100_Temperature_mean  \\\n",
       "Date                                                        \n",
       "2020-09-02 12:00:00     -0.002391               16.261441   \n",
       "2020-09-03 12:00:00      0.001639               16.858222   \n",
       "2020-09-04 10:00:00      0.015130               14.256647   \n",
       "2020-09-04 14:00:00      0.014450               14.687477   \n",
       "2020-09-04 18:00:00      0.017729               13.874647   \n",
       "...                           ...                     ...   \n",
       "2023-12-31 18:00:00     -0.040876               -4.738139   \n",
       "2023-12-31 19:00:00     -0.040332               -4.625233   \n",
       "2023-12-31 20:00:00     -0.044919               -4.645648   \n",
       "2023-12-31 21:00:00     -0.048216               -4.756255   \n",
       "2023-12-31 22:00:00     -0.049865               -4.433085   \n",
       "\n",
       "                     Gjennomsnittlig globalstråling (1 t)  Solskinnstid (1 t)  \\\n",
       "Date                                                                            \n",
       "2020-09-02 12:00:00                                 954.0                52.0   \n",
       "2020-09-03 12:00:00                                 966.0                52.0   \n",
       "2020-09-04 10:00:00                                 131.6                 0.0   \n",
       "2020-09-04 14:00:00                                 314.0                 0.0   \n",
       "2020-09-04 18:00:00                                 236.0                21.0   \n",
       "...                                                   ...                 ...   \n",
       "2023-12-31 18:00:00                                  -3.0                 0.0   \n",
       "2023-12-31 19:00:00                                  -3.0                 0.0   \n",
       "2023-12-31 20:00:00                                  -2.9                 0.0   \n",
       "2023-12-31 21:00:00                                  -2.9                 0.0   \n",
       "2023-12-31 22:00:00                                  -3.2                 0.0   \n",
       "\n",
       "                     Middel av middelvind (1 t)  Nedbør (1 t)  \\\n",
       "Date                                                            \n",
       "2020-09-02 12:00:00                         0.9           0.1   \n",
       "2020-09-03 12:00:00                         3.5           0.0   \n",
       "2020-09-04 10:00:00                         2.6           0.5   \n",
       "2020-09-04 14:00:00                         4.0           0.2   \n",
       "2020-09-04 18:00:00                         1.3           0.0   \n",
       "...                                         ...           ...   \n",
       "2023-12-31 18:00:00                         1.1           0.0   \n",
       "2023-12-31 19:00:00                         1.3           0.0   \n",
       "2023-12-31 20:00:00                         1.3           0.0   \n",
       "2023-12-31 21:00:00                         1.3           0.0   \n",
       "2023-12-31 22:00:00                         1.0           0.0   \n",
       "\n",
       "                     Relativ luftfuktighet  \n",
       "Date                                        \n",
       "2020-09-02 12:00:00                   49.0  \n",
       "2020-09-03 12:00:00                   45.0  \n",
       "2020-09-04 10:00:00                   87.0  \n",
       "2020-09-04 14:00:00                   86.0  \n",
       "2020-09-04 18:00:00                   74.0  \n",
       "...                                    ...  \n",
       "2023-12-31 18:00:00                   60.0  \n",
       "2023-12-31 19:00:00                   59.0  \n",
       "2023-12-31 20:00:00                   57.0  \n",
       "2023-12-31 21:00:00                   56.0  \n",
       "2023-12-31 22:00:00                   56.0  \n",
       "\n",
       "[26812 rows x 16 columns]"
      ]
     },
     "execution_count": 22,
     "metadata": {},
     "output_type": "execute_result"
    }
   ],
   "source": [
    "df.index = pd.to_datetime(df['Date'], format='%Y%m%d%H')\n",
    "df"
   ]
  },
  {
   "cell_type": "code",
   "execution_count": 32,
   "metadata": {},
   "outputs": [
    {
     "data": {
      "image/png": "[encoded data removed]",
      "text/plain": [
       "<Figure size 640x480 with 1 Axes>"
      ]
     },
     "metadata": {},
     "output_type": "display_data"
    }
   ],
   "source": [
    "# Plot the time series\n",
    "plt.plot(df.index)\n",
    "\n",
    "# Add labels and title\n",
    "plt.xlabel('Rows of the DataFrame')\n",
    "plt.ylabel('Date')\n",
    "plt.title('Time Series Plot')\n",
    "\n",
    "# Show the plot\n",
    "plt.show()"
   ]
  },
  {
   "cell_type": "code",
   "execution_count": 29,
   "metadata": {},
   "outputs": [
    {
     "data": {
      "text/plain": [
       "<Axes: xlabel='Date'>"
      ]
     },
     "execution_count": 29,
     "metadata": {},
     "output_type": "execute_result"
    },
    {
     "data": {
      "image/png": "[encoded data removed]",
      "text/plain": [
       "<Figure size 640x480 with 1 Axes>"
      ]
     },
     "metadata": {},
     "output_type": "display_data"
    }
   ],
   "source": [
    "temp = df['PT100_Temperature_mean']\n",
    "temp.plot()"
   ]
  },
  {
   "cell_type": "code",
   "execution_count": 33,
   "metadata": {},
   "outputs": [],
   "source": [
    " def df_to_X_y(df, window_size = 5):\n",
    "    df_as_np = df.to_numpy()\n",
    "    X = []\n",
    "    y = []\n",
    "    for i in range(len(df_as_np) - window_size):\n",
    "        row = [[a] for a in df_as_np[i:i+window_size]]\n",
    "        X.append(row)\n",
    "        label = df_as_np[i+window_size]\n",
    "        y.append(label)\n",
    "    return np.array(X), np.array(y)"
   ]
  },
  {
   "cell_type": "code",
   "execution_count": 34,
   "metadata": {},
   "outputs": [
    {
     "data": {
      "text/plain": [
       "((26807, 5, 1), (26807,))"
      ]
     },
     "execution_count": 34,
     "metadata": {},
     "output_type": "execute_result"
    }
   ],
   "source": [
    "WINDOW_SIZE = 5\n",
    "X, y = df_to_X_y(temp, window_size = WINDOW_SIZE)\n",
    "X.shape, y.shape"
   ]
  },
  {
   "cell_type": "code",
   "execution_count": 37,
   "metadata": {},
   "outputs": [
    {
     "data": {
      "text/plain": [
       "((20000, 5, 1), (5000, 5, 1), (1807, 5, 1))"
      ]
     },
     "execution_count": 37,
     "metadata": {},
     "output_type": "execute_result"
    }
   ],
   "source": [
    "X_train, y_train = X[:20000], y[:20000]\n",
    "X_valid, y_valid = X[20000:25000], y[20000:25000]\n",
    "X_test, y_test = X[25000:], y[25000:]\n",
    "X_train.shape, X_valid.shape, X_test.shape"
   ]
  },
  {
   "cell_type": "code",
   "execution_count": 42,
   "metadata": {},
   "outputs": [
    {
     "name": "stdout",
     "output_type": "stream",
     "text": [
      "WARNING:tensorflow:From c:\\Users\\erlih\\repos\\HeroysundBridge-ML\\venv\\Lib\\site-packages\\keras\\src\\backend.py:873: The name tf.get_default_graph is deprecated. Please use tf.compat.v1.get_default_graph instead.\n",
      "\n",
      "Model: \"sequential\"\n",
      "_________________________________________________________________\n",
      " Layer (type)                Output Shape              Param #   \n",
      "=================================================================\n",
      " lstm (LSTM)                 (None, 64)                16896     \n",
      "                                                                 \n",
      " dense (Dense)               (None, 8)                 520       \n",
      "                                                                 \n",
      " dense_1 (Dense)             (None, 1)                 9         \n",
      "                                                                 \n",
      "=================================================================\n",
      "Total params: 17425 (68.07 KB)\n",
      "Trainable params: 17425 (68.07 KB)\n",
      "Non-trainable params: 0 (0.00 Byte)\n",
      "_________________________________________________________________\n"
     ]
    }
   ],
   "source": [
    "from tensorflow.keras.models import Sequential\n",
    "from tensorflow.keras.layers import *\n",
    "from tensorflow.keras.callbacks import ModelCheckpoint, EarlyStopping\n",
    "from tensorflow.keras.losses import mean_squared_error\n",
    "from tensorflow.keras.optimizers import Adam\n",
    "\n",
    "model1 = Sequential()\n",
    "model1.add(InputLayer((WINDOW_SIZE, 1)))\n",
    "model1.add(LSTM(64))\n",
    "model1.add(Dense(8, activation='relu'))\n",
    "model1.add(Dense(1, activation='linear'))\n",
    "model1.summary()\n",
    "\n",
    "# Assuming you want to use mean squared error as a metric\n",
    "model1.compile(optimizer=Adam(), loss=mean_squared_error, metrics=['mse'])\n"
   ]
  },
  {
   "cell_type": "code",
   "execution_count": 43,
   "metadata": {},
   "outputs": [],
   "source": [
    "cp = ModelCheckpoint(os.path.join(target_folder, 'model1/'), save_best_only=True)\n",
    "model1.compile(optimizer=Adam(learning_rate=0.0001), loss=mean_squared_error, metrics=['mse'])"
   ]
  },
  {
   "cell_type": "code",
   "execution_count": 44,
   "metadata": {},
   "outputs": [
    {
     "name": "stdout",
     "output_type": "stream",
     "text": [
      "Epoch 1/100\n",
      "WARNING:tensorflow:From c:\\Users\\erlih\\repos\\HeroysundBridge-ML\\venv\\Lib\\site-packages\\keras\\src\\utils\\tf_utils.py:492: The name tf.ragged.RaggedTensorValue is deprecated. Please use tf.compat.v1.ragged.RaggedTensorValue instead.\n",
      "\n",
      "WARNING:tensorflow:From c:\\Users\\erlih\\repos\\HeroysundBridge-ML\\venv\\Lib\\site-packages\\keras\\src\\engine\\base_layer_utils.py:384: The name tf.executing_eagerly_outside_functions is deprecated. Please use tf.compat.v1.executing_eagerly_outside_functions instead.\n",
      "\n",
      "621/625 [============================>.] - ETA: 0s - loss: 33.4746 - mse: 33.4746INFO:tensorflow:Assets written to: model1\\assets\n"
     ]
    },
    {
     "name": "stderr",
     "output_type": "stream",
     "text": [
      "INFO:tensorflow:Assets written to: model1\\assets\n"
     ]
    },
    {
     "name": "stdout",
     "output_type": "stream",
     "text": [
      "625/625 [==============================] - 6s 7ms/step - loss: 33.2862 - mse: 33.2862 - val_loss: 11.9200 - val_mse: 11.9200\n",
      "Epoch 2/100\n",
      "622/625 [============================>.] - ETA: 0s - loss: 2.4976 - mse: 2.4976INFO:tensorflow:Assets written to: model1\\assets\n"
     ]
    },
    {
     "name": "stderr",
     "output_type": "stream",
     "text": [
      "INFO:tensorflow:Assets written to: model1\\assets\n"
     ]
    },
    {
     "name": "stdout",
     "output_type": "stream",
     "text": [
      "625/625 [==============================] - 3s 5ms/step - loss: 2.4943 - mse: 2.4943 - val_loss: 1.7923 - val_mse: 1.7923\n",
      "Epoch 3/100\n",
      "620/625 [============================>.] - ETA: 0s - loss: 0.8373 - mse: 0.8373INFO:tensorflow:Assets written to: model1\\assets\n"
     ]
    },
    {
     "name": "stderr",
     "output_type": "stream",
     "text": [
      "INFO:tensorflow:Assets written to: model1\\assets\n"
     ]
    },
    {
     "name": "stdout",
     "output_type": "stream",
     "text": [
      "625/625 [==============================] - 3s 5ms/step - loss: 0.8350 - mse: 0.8350 - val_loss: 0.6779 - val_mse: 0.6779\n",
      "Epoch 4/100\n",
      "600/625 [===========================>..] - ETA: 0s - loss: 0.4418 - mse: 0.4418INFO:tensorflow:Assets written to: model1\\assets\n"
     ]
    },
    {
     "name": "stderr",
     "output_type": "stream",
     "text": [
      "INFO:tensorflow:Assets written to: model1\\assets\n"
     ]
    },
    {
     "name": "stdout",
     "output_type": "stream",
     "text": [
      "625/625 [==============================] - 3s 6ms/step - loss: 0.4393 - mse: 0.4393 - val_loss: 0.3619 - val_mse: 0.3619\n",
      "Epoch 5/100\n",
      "624/625 [============================>.] - ETA: 0s - loss: 0.2815 - mse: 0.2815INFO:tensorflow:Assets written to: model1\\assets\n"
     ]
    },
    {
     "name": "stderr",
     "output_type": "stream",
     "text": [
      "INFO:tensorflow:Assets written to: model1\\assets\n"
     ]
    },
    {
     "name": "stdout",
     "output_type": "stream",
     "text": [
      "625/625 [==============================] - 4s 6ms/step - loss: 0.2814 - mse: 0.2814 - val_loss: 0.2486 - val_mse: 0.2486\n",
      "Epoch 6/100\n",
      "621/625 [============================>.] - ETA: 0s - loss: 0.2033 - mse: 0.2033INFO:tensorflow:Assets written to: model1\\assets\n"
     ]
    },
    {
     "name": "stderr",
     "output_type": "stream",
     "text": [
      "INFO:tensorflow:Assets written to: model1\\assets\n"
     ]
    },
    {
     "name": "stdout",
     "output_type": "stream",
     "text": [
      "625/625 [==============================] - 3s 6ms/step - loss: 0.2029 - mse: 0.2029 - val_loss: 0.1875 - val_mse: 0.1875\n",
      "Epoch 7/100\n",
      "620/625 [============================>.] - ETA: 0s - loss: 0.1586 - mse: 0.1586INFO:tensorflow:Assets written to: model1\\assets\n"
     ]
    },
    {
     "name": "stderr",
     "output_type": "stream",
     "text": [
      "INFO:tensorflow:Assets written to: model1\\assets\n"
     ]
    },
    {
     "name": "stdout",
     "output_type": "stream",
     "text": [
      "625/625 [==============================] - 3s 5ms/step - loss: 0.1583 - mse: 0.1583 - val_loss: 0.1551 - val_mse: 0.1551\n",
      "Epoch 8/100\n",
      "619/625 [============================>.] - ETA: 0s - loss: 0.1313 - mse: 0.1313INFO:tensorflow:Assets written to: model1\\assets\n"
     ]
    },
    {
     "name": "stderr",
     "output_type": "stream",
     "text": [
      "INFO:tensorflow:Assets written to: model1\\assets\n"
     ]
    },
    {
     "name": "stdout",
     "output_type": "stream",
     "text": [
      "625/625 [==============================] - 3s 5ms/step - loss: 0.1314 - mse: 0.1314 - val_loss: 0.1313 - val_mse: 0.1313\n",
      "Epoch 9/100\n",
      "618/625 [============================>.] - ETA: 0s - loss: 0.1153 - mse: 0.1153INFO:tensorflow:Assets written to: model1\\assets\n"
     ]
    },
    {
     "name": "stderr",
     "output_type": "stream",
     "text": [
      "INFO:tensorflow:Assets written to: model1\\assets\n"
     ]
    },
    {
     "name": "stdout",
     "output_type": "stream",
     "text": [
      "625/625 [==============================] - 4s 6ms/step - loss: 0.1152 - mse: 0.1152 - val_loss: 0.1188 - val_mse: 0.1188\n",
      "Epoch 10/100\n",
      "597/625 [===========================>..] - ETA: 0s - loss: 0.1052 - mse: 0.1052INFO:tensorflow:Assets written to: model1\\assets\n"
     ]
    },
    {
     "name": "stderr",
     "output_type": "stream",
     "text": [
      "INFO:tensorflow:Assets written to: model1\\assets\n"
     ]
    },
    {
     "name": "stdout",
     "output_type": "stream",
     "text": [
      "625/625 [==============================] - 3s 5ms/step - loss: 0.1053 - mse: 0.1053 - val_loss: 0.1100 - val_mse: 0.1100\n",
      "Epoch 11/100\n",
      "604/625 [===========================>..] - ETA: 0s - loss: 0.0979 - mse: 0.0979INFO:tensorflow:Assets written to: model1\\assets\n"
     ]
    },
    {
     "name": "stderr",
     "output_type": "stream",
     "text": [
      "INFO:tensorflow:Assets written to: model1\\assets\n"
     ]
    },
    {
     "name": "stdout",
     "output_type": "stream",
     "text": [
      "625/625 [==============================] - 3s 5ms/step - loss: 0.0983 - mse: 0.0983 - val_loss: 0.1080 - val_mse: 0.1080\n",
      "Epoch 12/100\n",
      "602/625 [===========================>..] - ETA: 0s - loss: 0.0939 - mse: 0.0939INFO:tensorflow:Assets written to: model1\\assets\n"
     ]
    },
    {
     "name": "stderr",
     "output_type": "stream",
     "text": [
      "INFO:tensorflow:Assets written to: model1\\assets\n"
     ]
    },
    {
     "name": "stdout",
     "output_type": "stream",
     "text": [
      "625/625 [==============================] - 3s 5ms/step - loss: 0.0941 - mse: 0.0941 - val_loss: 0.1019 - val_mse: 0.1019\n",
      "Epoch 13/100\n",
      "611/625 [============================>.] - ETA: 0s - loss: 0.0910 - mse: 0.0910INFO:tensorflow:Assets written to: model1\\assets\n"
     ]
    },
    {
     "name": "stderr",
     "output_type": "stream",
     "text": [
      "INFO:tensorflow:Assets written to: model1\\assets\n"
     ]
    },
    {
     "name": "stdout",
     "output_type": "stream",
     "text": [
      "625/625 [==============================] - 4s 6ms/step - loss: 0.0910 - mse: 0.0910 - val_loss: 0.0991 - val_mse: 0.0991\n",
      "Epoch 14/100\n",
      "602/625 [===========================>..] - ETA: 0s - loss: 0.0888 - mse: 0.0888INFO:tensorflow:Assets written to: model1\\assets\n"
     ]
    },
    {
     "name": "stderr",
     "output_type": "stream",
     "text": [
      "INFO:tensorflow:Assets written to: model1\\assets\n"
     ]
    },
    {
     "name": "stdout",
     "output_type": "stream",
     "text": [
      "625/625 [==============================] - 3s 5ms/step - loss: 0.0884 - mse: 0.0884 - val_loss: 0.0976 - val_mse: 0.0976\n",
      "Epoch 15/100\n",
      "607/625 [============================>.] - ETA: 0s - loss: 0.0861 - mse: 0.0861INFO:tensorflow:Assets written to: model1\\assets\n"
     ]
    },
    {
     "name": "stderr",
     "output_type": "stream",
     "text": [
      "INFO:tensorflow:Assets written to: model1\\assets\n"
     ]
    },
    {
     "name": "stdout",
     "output_type": "stream",
     "text": [
      "625/625 [==============================] - 4s 6ms/step - loss: 0.0865 - mse: 0.0865 - val_loss: 0.0956 - val_mse: 0.0956\n",
      "Epoch 16/100\n",
      "600/625 [===========================>..] - ETA: 0s - loss: 0.0852 - mse: 0.0852INFO:tensorflow:Assets written to: model1\\assets\n"
     ]
    },
    {
     "name": "stderr",
     "output_type": "stream",
     "text": [
      "INFO:tensorflow:Assets written to: model1\\assets\n"
     ]
    },
    {
     "name": "stdout",
     "output_type": "stream",
     "text": [
      "625/625 [==============================] - 4s 6ms/step - loss: 0.0850 - mse: 0.0850 - val_loss: 0.0927 - val_mse: 0.0927\n",
      "Epoch 17/100\n",
      "602/625 [===========================>..] - ETA: 0s - loss: 0.0836 - mse: 0.0836INFO:tensorflow:Assets written to: model1\\assets\n"
     ]
    },
    {
     "name": "stderr",
     "output_type": "stream",
     "text": [
      "INFO:tensorflow:Assets written to: model1\\assets\n"
     ]
    },
    {
     "name": "stdout",
     "output_type": "stream",
     "text": [
      "625/625 [==============================] - 4s 6ms/step - loss: 0.0837 - mse: 0.0837 - val_loss: 0.0915 - val_mse: 0.0915\n",
      "Epoch 18/100\n",
      "625/625 [==============================] - 2s 2ms/step - loss: 0.0827 - mse: 0.0827 - val_loss: 0.0917 - val_mse: 0.0917\n",
      "Epoch 19/100\n",
      "622/625 [============================>.] - ETA: 0s - loss: 0.0821 - mse: 0.0821INFO:tensorflow:Assets written to: model1\\assets\n"
     ]
    },
    {
     "name": "stderr",
     "output_type": "stream",
     "text": [
      "INFO:tensorflow:Assets written to: model1\\assets\n"
     ]
    },
    {
     "name": "stdout",
     "output_type": "stream",
     "text": [
      "625/625 [==============================] - 4s 6ms/step - loss: 0.0821 - mse: 0.0821 - val_loss: 0.0908 - val_mse: 0.0908\n",
      "Epoch 20/100\n",
      "608/625 [============================>.] - ETA: 0s - loss: 0.0806 - mse: 0.0806INFO:tensorflow:Assets written to: model1\\assets\n"
     ]
    },
    {
     "name": "stderr",
     "output_type": "stream",
     "text": [
      "INFO:tensorflow:Assets written to: model1\\assets\n"
     ]
    },
    {
     "name": "stdout",
     "output_type": "stream",
     "text": [
      "625/625 [==============================] - 4s 6ms/step - loss: 0.0810 - mse: 0.0810 - val_loss: 0.0904 - val_mse: 0.0904\n",
      "Epoch 21/100\n",
      "625/625 [==============================] - 2s 3ms/step - loss: 0.0805 - mse: 0.0805 - val_loss: 0.0920 - val_mse: 0.0920\n",
      "Epoch 22/100\n",
      "625/625 [==============================] - 2s 3ms/step - loss: 0.0802 - mse: 0.0802 - val_loss: 0.0907 - val_mse: 0.0907\n",
      "Epoch 23/100\n",
      "606/625 [============================>.] - ETA: 0s - loss: 0.0802 - mse: 0.0802INFO:tensorflow:Assets written to: model1\\assets\n"
     ]
    },
    {
     "name": "stderr",
     "output_type": "stream",
     "text": [
      "INFO:tensorflow:Assets written to: model1\\assets\n"
     ]
    },
    {
     "name": "stdout",
     "output_type": "stream",
     "text": [
      "625/625 [==============================] - 4s 6ms/step - loss: 0.0800 - mse: 0.0800 - val_loss: 0.0897 - val_mse: 0.0897\n",
      "Epoch 24/100\n",
      "625/625 [==============================] - 2s 3ms/step - loss: 0.0793 - mse: 0.0793 - val_loss: 0.0911 - val_mse: 0.0911\n",
      "Epoch 25/100\n",
      "625/625 [==============================] - 2s 2ms/step - loss: 0.0791 - mse: 0.0791 - val_loss: 0.0922 - val_mse: 0.0922\n",
      "Epoch 26/100\n",
      "625/625 [==============================] - ETA: 0s - loss: 0.0787 - mse: 0.0787INFO:tensorflow:Assets written to: model1\\assets\n"
     ]
    },
    {
     "name": "stderr",
     "output_type": "stream",
     "text": [
      "INFO:tensorflow:Assets written to: model1\\assets\n"
     ]
    },
    {
     "name": "stdout",
     "output_type": "stream",
     "text": [
      "625/625 [==============================] - 4s 6ms/step - loss: 0.0787 - mse: 0.0787 - val_loss: 0.0897 - val_mse: 0.0897\n",
      "Epoch 27/100\n",
      "620/625 [============================>.] - ETA: 0s - loss: 0.0790 - mse: 0.0790INFO:tensorflow:Assets written to: model1\\assets\n"
     ]
    },
    {
     "name": "stderr",
     "output_type": "stream",
     "text": [
      "INFO:tensorflow:Assets written to: model1\\assets\n"
     ]
    },
    {
     "name": "stdout",
     "output_type": "stream",
     "text": [
      "625/625 [==============================] - 4s 6ms/step - loss: 0.0788 - mse: 0.0788 - val_loss: 0.0890 - val_mse: 0.0890\n",
      "Epoch 28/100\n",
      "625/625 [==============================] - 2s 3ms/step - loss: 0.0785 - mse: 0.0785 - val_loss: 0.0894 - val_mse: 0.0894\n",
      "Epoch 29/100\n",
      "625/625 [==============================] - 2s 2ms/step - loss: 0.0787 - mse: 0.0787 - val_loss: 0.0898 - val_mse: 0.0898\n",
      "Epoch 30/100\n",
      "625/625 [==============================] - 2s 2ms/step - loss: 0.0785 - mse: 0.0785 - val_loss: 0.0943 - val_mse: 0.0943\n",
      "Epoch 31/100\n",
      "625/625 [==============================] - 2s 2ms/step - loss: 0.0783 - mse: 0.0783 - val_loss: 0.0941 - val_mse: 0.0941\n",
      "Epoch 32/100\n",
      "625/625 [==============================] - 2s 3ms/step - loss: 0.0782 - mse: 0.0782 - val_loss: 0.0907 - val_mse: 0.0907\n",
      "Epoch 33/100\n",
      "612/625 [============================>.] - ETA: 0s - loss: 0.0783 - mse: 0.0783INFO:tensorflow:Assets written to: model1\\assets\n"
     ]
    },
    {
     "name": "stderr",
     "output_type": "stream",
     "text": [
      "INFO:tensorflow:Assets written to: model1\\assets\n"
     ]
    },
    {
     "name": "stdout",
     "output_type": "stream",
     "text": [
      "625/625 [==============================] - 4s 6ms/step - loss: 0.0781 - mse: 0.0781 - val_loss: 0.0886 - val_mse: 0.0886\n",
      "Epoch 34/100\n",
      "625/625 [==============================] - 2s 2ms/step - loss: 0.0780 - mse: 0.0780 - val_loss: 0.0888 - val_mse: 0.0888\n",
      "Epoch 35/100\n",
      "625/625 [==============================] - 2s 2ms/step - loss: 0.0777 - mse: 0.0777 - val_loss: 0.0890 - val_mse: 0.0890\n",
      "Epoch 36/100\n",
      "625/625 [==============================] - 2s 2ms/step - loss: 0.0777 - mse: 0.0777 - val_loss: 0.0896 - val_mse: 0.0896\n",
      "Epoch 37/100\n",
      "625/625 [==============================] - 2s 2ms/step - loss: 0.0779 - mse: 0.0779 - val_loss: 0.0920 - val_mse: 0.0920\n",
      "Epoch 38/100\n",
      "620/625 [============================>.] - ETA: 0s - loss: 0.0781 - mse: 0.0781INFO:tensorflow:Assets written to: model1\\assets\n"
     ]
    },
    {
     "name": "stderr",
     "output_type": "stream",
     "text": [
      "INFO:tensorflow:Assets written to: model1\\assets\n"
     ]
    },
    {
     "name": "stdout",
     "output_type": "stream",
     "text": [
      "625/625 [==============================] - 4s 6ms/step - loss: 0.0781 - mse: 0.0781 - val_loss: 0.0883 - val_mse: 0.0883\n",
      "Epoch 39/100\n",
      "625/625 [==============================] - 2s 2ms/step - loss: 0.0776 - mse: 0.0776 - val_loss: 0.0904 - val_mse: 0.0904\n",
      "Epoch 40/100\n",
      "625/625 [==============================] - 2s 2ms/step - loss: 0.0774 - mse: 0.0774 - val_loss: 0.0907 - val_mse: 0.0907\n",
      "Epoch 41/100\n",
      "625/625 [==============================] - 2s 2ms/step - loss: 0.0777 - mse: 0.0777 - val_loss: 0.0886 - val_mse: 0.0886\n",
      "Epoch 42/100\n",
      "612/625 [============================>.] - ETA: 0s - loss: 0.0777 - mse: 0.0777INFO:tensorflow:Assets written to: model1\\assets\n"
     ]
    },
    {
     "name": "stderr",
     "output_type": "stream",
     "text": [
      "INFO:tensorflow:Assets written to: model1\\assets\n"
     ]
    },
    {
     "name": "stdout",
     "output_type": "stream",
     "text": [
      "625/625 [==============================] - 3s 6ms/step - loss: 0.0776 - mse: 0.0776 - val_loss: 0.0880 - val_mse: 0.0880\n",
      "Epoch 43/100\n",
      "625/625 [==============================] - 2s 2ms/step - loss: 0.0774 - mse: 0.0774 - val_loss: 0.0948 - val_mse: 0.0948\n",
      "Epoch 44/100\n",
      "625/625 [==============================] - 2s 2ms/step - loss: 0.0777 - mse: 0.0777 - val_loss: 0.0894 - val_mse: 0.0894\n",
      "Epoch 45/100\n",
      "625/625 [==============================] - 2s 3ms/step - loss: 0.0777 - mse: 0.0777 - val_loss: 0.0907 - val_mse: 0.0907\n",
      "Epoch 46/100\n",
      "625/625 [==============================] - 2s 2ms/step - loss: 0.0779 - mse: 0.0779 - val_loss: 0.0896 - val_mse: 0.0896\n",
      "Epoch 47/100\n",
      "625/625 [==============================] - 2s 2ms/step - loss: 0.0775 - mse: 0.0775 - val_loss: 0.0883 - val_mse: 0.0883\n",
      "Epoch 48/100\n",
      "625/625 [==============================] - 2s 2ms/step - loss: 0.0776 - mse: 0.0776 - val_loss: 0.0884 - val_mse: 0.0884\n",
      "Epoch 49/100\n",
      "625/625 [==============================] - 2s 2ms/step - loss: 0.0773 - mse: 0.0773 - val_loss: 0.0928 - val_mse: 0.0928\n",
      "Epoch 50/100\n",
      "625/625 [==============================] - 2s 2ms/step - loss: 0.0774 - mse: 0.0774 - val_loss: 0.0890 - val_mse: 0.0890\n",
      "Epoch 51/100\n",
      "625/625 [==============================] - 1s 2ms/step - loss: 0.0774 - mse: 0.0774 - val_loss: 0.0882 - val_mse: 0.0882\n",
      "Epoch 52/100\n",
      "625/625 [==============================] - 2s 2ms/step - loss: 0.0770 - mse: 0.0770 - val_loss: 0.0897 - val_mse: 0.0897\n",
      "Epoch 53/100\n",
      "625/625 [==============================] - 2s 2ms/step - loss: 0.0772 - mse: 0.0772 - val_loss: 0.0882 - val_mse: 0.0882\n",
      "Epoch 54/100\n",
      "625/625 [==============================] - 2s 2ms/step - loss: 0.0774 - mse: 0.0774 - val_loss: 0.0882 - val_mse: 0.0882\n",
      "Epoch 55/100\n",
      "625/625 [==============================] - 2s 2ms/step - loss: 0.0773 - mse: 0.0773 - val_loss: 0.0914 - val_mse: 0.0914\n",
      "Epoch 56/100\n",
      "625/625 [==============================] - 2s 2ms/step - loss: 0.0770 - mse: 0.0770 - val_loss: 0.0925 - val_mse: 0.0925\n",
      "Epoch 57/100\n",
      "625/625 [==============================] - 2s 2ms/step - loss: 0.0770 - mse: 0.0770 - val_loss: 0.0961 - val_mse: 0.0961\n",
      "Epoch 58/100\n",
      "625/625 [==============================] - 1s 2ms/step - loss: 0.0770 - mse: 0.0770 - val_loss: 0.0888 - val_mse: 0.0888\n",
      "Epoch 59/100\n",
      "625/625 [==============================] - 2s 2ms/step - loss: 0.0770 - mse: 0.0770 - val_loss: 0.0882 - val_mse: 0.0882\n",
      "Epoch 60/100\n",
      "625/625 [==============================] - 1s 2ms/step - loss: 0.0769 - mse: 0.0769 - val_loss: 0.0884 - val_mse: 0.0884\n",
      "Epoch 61/100\n",
      "625/625 [==============================] - 2s 2ms/step - loss: 0.0772 - mse: 0.0772 - val_loss: 0.0902 - val_mse: 0.0902\n",
      "Epoch 62/100\n",
      "625/625 [==============================] - 2s 2ms/step - loss: 0.0769 - mse: 0.0769 - val_loss: 0.0891 - val_mse: 0.0891\n",
      "Epoch 63/100\n",
      "625/625 [==============================] - 2s 2ms/step - loss: 0.0769 - mse: 0.0769 - val_loss: 0.0898 - val_mse: 0.0898\n",
      "Epoch 64/100\n",
      "625/625 [==============================] - 2s 2ms/step - loss: 0.0769 - mse: 0.0769 - val_loss: 0.0883 - val_mse: 0.0883\n",
      "Epoch 65/100\n",
      "625/625 [==============================] - 2s 3ms/step - loss: 0.0775 - mse: 0.0775 - val_loss: 0.0917 - val_mse: 0.0917\n",
      "Epoch 66/100\n",
      "625/625 [==============================] - 2s 2ms/step - loss: 0.0773 - mse: 0.0773 - val_loss: 0.0893 - val_mse: 0.0893\n",
      "Epoch 67/100\n",
      "625/625 [==============================] - 1s 2ms/step - loss: 0.0769 - mse: 0.0769 - val_loss: 0.0885 - val_mse: 0.0885\n",
      "Epoch 68/100\n",
      "625/625 [==============================] - 2s 2ms/step - loss: 0.0768 - mse: 0.0768 - val_loss: 0.0883 - val_mse: 0.0883\n",
      "Epoch 69/100\n",
      "625/625 [==============================] - 2s 3ms/step - loss: 0.0770 - mse: 0.0770 - val_loss: 0.0883 - val_mse: 0.0883\n",
      "Epoch 70/100\n",
      "625/625 [==============================] - 2s 3ms/step - loss: 0.0769 - mse: 0.0769 - val_loss: 0.0891 - val_mse: 0.0891\n",
      "Epoch 71/100\n",
      "625/625 [==============================] - 2s 3ms/step - loss: 0.0768 - mse: 0.0768 - val_loss: 0.0889 - val_mse: 0.0889\n",
      "Epoch 72/100\n",
      "619/625 [============================>.] - ETA: 0s - loss: 0.0773 - mse: 0.0773INFO:tensorflow:Assets written to: model1\\assets\n"
     ]
    },
    {
     "name": "stderr",
     "output_type": "stream",
     "text": [
      "INFO:tensorflow:Assets written to: model1\\assets\n"
     ]
    },
    {
     "name": "stdout",
     "output_type": "stream",
     "text": [
      "625/625 [==============================] - 4s 6ms/step - loss: 0.0771 - mse: 0.0771 - val_loss: 0.0880 - val_mse: 0.0880\n",
      "Epoch 73/100\n",
      "625/625 [==============================] - 2s 3ms/step - loss: 0.0767 - mse: 0.0767 - val_loss: 0.0888 - val_mse: 0.0888\n",
      "Epoch 74/100\n",
      "625/625 [==============================] - 2s 2ms/step - loss: 0.0769 - mse: 0.0769 - val_loss: 0.0935 - val_mse: 0.0935\n",
      "Epoch 75/100\n",
      "625/625 [==============================] - 2s 2ms/step - loss: 0.0766 - mse: 0.0766 - val_loss: 0.0908 - val_mse: 0.0908\n",
      "Epoch 76/100\n",
      "625/625 [==============================] - 2s 2ms/step - loss: 0.0768 - mse: 0.0768 - val_loss: 0.0883 - val_mse: 0.0883\n",
      "Epoch 77/100\n",
      "625/625 [==============================] - 2s 2ms/step - loss: 0.0772 - mse: 0.0772 - val_loss: 0.0900 - val_mse: 0.0900\n",
      "Epoch 78/100\n",
      "625/625 [==============================] - 2s 2ms/step - loss: 0.0769 - mse: 0.0769 - val_loss: 0.0881 - val_mse: 0.0881\n",
      "Epoch 79/100\n",
      "625/625 [==============================] - 2s 2ms/step - loss: 0.0768 - mse: 0.0768 - val_loss: 0.0908 - val_mse: 0.0908\n",
      "Epoch 80/100\n",
      "625/625 [==============================] - 2s 2ms/step - loss: 0.0767 - mse: 0.0767 - val_loss: 0.0912 - val_mse: 0.0912\n",
      "Epoch 81/100\n",
      "625/625 [==============================] - 2s 2ms/step - loss: 0.0769 - mse: 0.0769 - val_loss: 0.0886 - val_mse: 0.0886\n",
      "Epoch 82/100\n",
      "625/625 [==============================] - 2s 2ms/step - loss: 0.0772 - mse: 0.0772 - val_loss: 0.0882 - val_mse: 0.0882\n",
      "Epoch 83/100\n",
      "625/625 [==============================] - 2s 2ms/step - loss: 0.0769 - mse: 0.0769 - val_loss: 0.0901 - val_mse: 0.0901\n",
      "Epoch 84/100\n",
      "625/625 [==============================] - 2s 3ms/step - loss: 0.0767 - mse: 0.0767 - val_loss: 0.0898 - val_mse: 0.0898\n",
      "Epoch 85/100\n",
      "625/625 [==============================] - 2s 3ms/step - loss: 0.0767 - mse: 0.0767 - val_loss: 0.0887 - val_mse: 0.0887\n",
      "Epoch 86/100\n",
      "625/625 [==============================] - 2s 3ms/step - loss: 0.0767 - mse: 0.0767 - val_loss: 0.0934 - val_mse: 0.0934\n",
      "Epoch 87/100\n",
      "625/625 [==============================] - 2s 2ms/step - loss: 0.0767 - mse: 0.0767 - val_loss: 0.0897 - val_mse: 0.0897\n",
      "Epoch 88/100\n",
      "625/625 [==============================] - 2s 2ms/step - loss: 0.0767 - mse: 0.0767 - val_loss: 0.0890 - val_mse: 0.0890\n",
      "Epoch 89/100\n",
      "625/625 [==============================] - 2s 2ms/step - loss: 0.0769 - mse: 0.0769 - val_loss: 0.0881 - val_mse: 0.0881\n",
      "Epoch 90/100\n",
      "625/625 [==============================] - 2s 2ms/step - loss: 0.0767 - mse: 0.0767 - val_loss: 0.0889 - val_mse: 0.0889\n",
      "Epoch 91/100\n",
      "625/625 [==============================] - 2s 3ms/step - loss: 0.0766 - mse: 0.0766 - val_loss: 0.0891 - val_mse: 0.0891\n",
      "Epoch 92/100\n",
      "625/625 [==============================] - 2s 2ms/step - loss: 0.0766 - mse: 0.0766 - val_loss: 0.0882 - val_mse: 0.0882\n",
      "Epoch 93/100\n",
      "625/625 [==============================] - 2s 2ms/step - loss: 0.0767 - mse: 0.0767 - val_loss: 0.0885 - val_mse: 0.0885\n",
      "Epoch 94/100\n",
      "625/625 [==============================] - 2s 2ms/step - loss: 0.0767 - mse: 0.0767 - val_loss: 0.0881 - val_mse: 0.0881\n",
      "Epoch 95/100\n",
      "625/625 [==============================] - 2s 2ms/step - loss: 0.0768 - mse: 0.0768 - val_loss: 0.0910 - val_mse: 0.0910\n",
      "Epoch 96/100\n",
      "625/625 [==============================] - 2s 3ms/step - loss: 0.0768 - mse: 0.0768 - val_loss: 0.0932 - val_mse: 0.0932\n",
      "Epoch 97/100\n",
      "625/625 [==============================] - 2s 2ms/step - loss: 0.0767 - mse: 0.0767 - val_loss: 0.0881 - val_mse: 0.0881\n",
      "Epoch 98/100\n",
      "625/625 [==============================] - 2s 2ms/step - loss: 0.0764 - mse: 0.0764 - val_loss: 0.0885 - val_mse: 0.0885\n",
      "Epoch 99/100\n",
      "625/625 [==============================] - 2s 2ms/step - loss: 0.0765 - mse: 0.0765 - val_loss: 0.0908 - val_mse: 0.0908\n",
      "Epoch 100/100\n",
      "625/625 [==============================] - 2s 3ms/step - loss: 0.0766 - mse: 0.0766 - val_loss: 0.0898 - val_mse: 0.0898\n"
     ]
    },
    {
     "data": {
      "text/plain": [
       "<keras.src.callbacks.History at 0x24326a7d150>"
      ]
     },
     "execution_count": 44,
     "metadata": {},
     "output_type": "execute_result"
    }
   ],
   "source": [
    "model1.fit(X_train, y_train, validation_data=(X_valid, y_valid), epochs=100, callbacks=[cp])"
   ]
  },
  {
   "cell_type": "code",
   "execution_count": 46,
   "metadata": {},
   "outputs": [],
   "source": [
    "from tensorflow.keras.models import load_model\n",
    "\n",
    "# Specify the full path to the model file\n",
    "model_file_path = os.path.join(target_folder, 'model1/')\n",
    "\n",
    "# Load the model from the specified file path\n",
    "model1 = load_model(model_file_path)\n"
   ]
  },
  {
   "cell_type": "code",
   "execution_count": 48,
   "metadata": {},
   "outputs": [
    {
     "name": "stdout",
     "output_type": "stream",
     "text": [
      "625/625 [==============================] - 1s 1ms/step\n"
     ]
    },
    {
     "data": {
      "text/html": [
       "<div>\n",
       "<style scoped>\n",
       "    .dataframe tbody tr th:only-of-type {\n",
       "        vertical-align: middle;\n",
       "    }\n",
       "\n",
       "    .dataframe tbody tr th {\n",
       "        vertical-align: top;\n",
       "    }\n",
       "\n",
       "    .dataframe thead th {\n",
       "        text-align: right;\n",
       "    }\n",
       "</style>\n",
       "<table border=\"1\" class=\"dataframe\">\n",
       "  <thead>\n",
       "    <tr style=\"text-align: right;\">\n",
       "      <th></th>\n",
       "      <th>Train Predictions</th>\n",
       "      <th>Actuals</th>\n",
       "    </tr>\n",
       "  </thead>\n",
       "  <tbody>\n",
       "    <tr>\n",
       "      <th>0</th>\n",
       "      <td>13.324555</td>\n",
       "      <td>13.374030</td>\n",
       "    </tr>\n",
       "    <tr>\n",
       "      <th>1</th>\n",
       "      <td>13.069264</td>\n",
       "      <td>13.060795</td>\n",
       "    </tr>\n",
       "    <tr>\n",
       "      <th>2</th>\n",
       "      <td>12.843001</td>\n",
       "      <td>12.576049</td>\n",
       "    </tr>\n",
       "    <tr>\n",
       "      <th>3</th>\n",
       "      <td>12.281738</td>\n",
       "      <td>12.645185</td>\n",
       "    </tr>\n",
       "    <tr>\n",
       "      <th>4</th>\n",
       "      <td>12.631172</td>\n",
       "      <td>12.193944</td>\n",
       "    </tr>\n",
       "    <tr>\n",
       "      <th>...</th>\n",
       "      <td>...</td>\n",
       "      <td>...</td>\n",
       "    </tr>\n",
       "    <tr>\n",
       "      <th>19995</th>\n",
       "      <td>-1.196631</td>\n",
       "      <td>-0.870970</td>\n",
       "    </tr>\n",
       "    <tr>\n",
       "      <th>19996</th>\n",
       "      <td>-0.729605</td>\n",
       "      <td>0.452271</td>\n",
       "    </tr>\n",
       "    <tr>\n",
       "      <th>19997</th>\n",
       "      <td>0.963290</td>\n",
       "      <td>0.730716</td>\n",
       "    </tr>\n",
       "    <tr>\n",
       "      <th>19998</th>\n",
       "      <td>0.834422</td>\n",
       "      <td>1.024656</td>\n",
       "    </tr>\n",
       "    <tr>\n",
       "      <th>19999</th>\n",
       "      <td>1.086610</td>\n",
       "      <td>1.476443</td>\n",
       "    </tr>\n",
       "  </tbody>\n",
       "</table>\n",
       "<p>20000 rows × 2 columns</p>\n",
       "</div>"
      ],
      "text/plain": [
       "       Train Predictions    Actuals\n",
       "0              13.324555  13.374030\n",
       "1              13.069264  13.060795\n",
       "2              12.843001  12.576049\n",
       "3              12.281738  12.645185\n",
       "4              12.631172  12.193944\n",
       "...                  ...        ...\n",
       "19995          -1.196631  -0.870970\n",
       "19996          -0.729605   0.452271\n",
       "19997           0.963290   0.730716\n",
       "19998           0.834422   1.024656\n",
       "19999           1.086610   1.476443\n",
       "\n",
       "[20000 rows x 2 columns]"
      ]
     },
     "execution_count": 48,
     "metadata": {},
     "output_type": "execute_result"
    }
   ],
   "source": [
    "train_predicitons = model1.predict(X_train).flatten()\n",
    "train_results = pd.DataFrame(data={'Train Predictions': train_predicitons,'Actuals': y_train})\n",
    "train_results"
   ]
  },
  {
   "cell_type": "code",
   "execution_count": 49,
   "metadata": {},
   "outputs": [
    {
     "data": {
      "text/plain": [
       "[<matplotlib.lines.Line2D at 0x243365ed5d0>]"
      ]
     },
     "execution_count": 49,
     "metadata": {},
     "output_type": "execute_result"
    },
    {
     "data": {
      "image/png": "[encoded data removed]",
      "text/plain": [
       "<Figure size 640x480 with 1 Axes>"
      ]
     },
     "metadata": {},
     "output_type": "display_data"
    }
   ],
   "source": [
    "plt.plot(train_results['Actuals'], label='Actuals')\n",
    "plt.plot(train_results['Train Predictions'], label='Predictions')"
   ]
  },
  {
   "cell_type": "code",
   "execution_count": 57,
   "metadata": {},
   "outputs": [
    {
     "data": {
      "text/plain": [
       "<matplotlib.legend.Legend at 0x2433f539990>"
      ]
     },
     "execution_count": 57,
     "metadata": {},
     "output_type": "execute_result"
    },
    {
     "data": {
      "image/png": "[encoded data removed]",
      "text/plain": [
       "<Figure size 640x480 with 1 Axes>"
      ]
     },
     "metadata": {},
     "output_type": "display_data"
    }
   ],
   "source": [
    "plt.plot(train_results['Actuals'][50:150], label='Actuals')\n",
    "plt.plot(train_results['Train Predictions'][50:150], label='Predictions')\n",
    "plt.legend()"
   ]
  },
  {
   "cell_type": "markdown",
   "metadata": {},
   "source": [
    "**But we don't really care about how it did on the training, it has seen that data before**"
   ]
  },
  {
   "cell_type": "code",
   "execution_count": 51,
   "metadata": {},
   "outputs": [
    {
     "name": "stdout",
     "output_type": "stream",
     "text": [
      "157/157 [==============================] - 0s 1ms/step\n"
     ]
    },
    {
     "data": {
      "text/html": [
       "<div>\n",
       "<style scoped>\n",
       "    .dataframe tbody tr th:only-of-type {\n",
       "        vertical-align: middle;\n",
       "    }\n",
       "\n",
       "    .dataframe tbody tr th {\n",
       "        vertical-align: top;\n",
       "    }\n",
       "\n",
       "    .dataframe thead th {\n",
       "        text-align: right;\n",
       "    }\n",
       "</style>\n",
       "<table border=\"1\" class=\"dataframe\">\n",
       "  <thead>\n",
       "    <tr style=\"text-align: right;\">\n",
       "      <th></th>\n",
       "      <th>Validation Predictions</th>\n",
       "      <th>Actuals</th>\n",
       "    </tr>\n",
       "  </thead>\n",
       "  <tbody>\n",
       "    <tr>\n",
       "      <th>0</th>\n",
       "      <td>1.595200</td>\n",
       "      <td>1.556393</td>\n",
       "    </tr>\n",
       "    <tr>\n",
       "      <th>1</th>\n",
       "      <td>1.622741</td>\n",
       "      <td>1.682176</td>\n",
       "    </tr>\n",
       "    <tr>\n",
       "      <th>2</th>\n",
       "      <td>1.746481</td>\n",
       "      <td>1.245521</td>\n",
       "    </tr>\n",
       "    <tr>\n",
       "      <th>3</th>\n",
       "      <td>1.162489</td>\n",
       "      <td>0.851200</td>\n",
       "    </tr>\n",
       "    <tr>\n",
       "      <th>4</th>\n",
       "      <td>0.772522</td>\n",
       "      <td>0.605789</td>\n",
       "    </tr>\n",
       "    <tr>\n",
       "      <th>...</th>\n",
       "      <td>...</td>\n",
       "      <td>...</td>\n",
       "    </tr>\n",
       "    <tr>\n",
       "      <th>4995</th>\n",
       "      <td>4.664723</td>\n",
       "      <td>4.831999</td>\n",
       "    </tr>\n",
       "    <tr>\n",
       "      <th>4996</th>\n",
       "      <td>4.871965</td>\n",
       "      <td>5.040882</td>\n",
       "    </tr>\n",
       "    <tr>\n",
       "      <th>4997</th>\n",
       "      <td>5.109012</td>\n",
       "      <td>5.038145</td>\n",
       "    </tr>\n",
       "    <tr>\n",
       "      <th>4998</th>\n",
       "      <td>5.039693</td>\n",
       "      <td>4.956447</td>\n",
       "    </tr>\n",
       "    <tr>\n",
       "      <th>4999</th>\n",
       "      <td>4.938257</td>\n",
       "      <td>4.810770</td>\n",
       "    </tr>\n",
       "  </tbody>\n",
       "</table>\n",
       "<p>5000 rows × 2 columns</p>\n",
       "</div>"
      ],
      "text/plain": [
       "      Validation Predictions   Actuals\n",
       "0                   1.595200  1.556393\n",
       "1                   1.622741  1.682176\n",
       "2                   1.746481  1.245521\n",
       "3                   1.162489  0.851200\n",
       "4                   0.772522  0.605789\n",
       "...                      ...       ...\n",
       "4995                4.664723  4.831999\n",
       "4996                4.871965  5.040882\n",
       "4997                5.109012  5.038145\n",
       "4998                5.039693  4.956447\n",
       "4999                4.938257  4.810770\n",
       "\n",
       "[5000 rows x 2 columns]"
      ]
     },
     "execution_count": 51,
     "metadata": {},
     "output_type": "execute_result"
    }
   ],
   "source": [
    "val_predictions = model1.predict(X_valid).flatten()\n",
    "val_results = pd.DataFrame(data={'Validation Predictions': val_predictions,'Actuals': y_valid}) \n",
    "val_results"
   ]
  },
  {
   "cell_type": "code",
   "execution_count": 59,
   "metadata": {},
   "outputs": [
    {
     "data": {
      "text/plain": [
       "<matplotlib.legend.Legend at 0x2432f3ecfd0>"
      ]
     },
     "execution_count": 59,
     "metadata": {},
     "output_type": "execute_result"
    },
    {
     "data": {
      "image/png": "[encoded data removed]",
      "text/plain": [
       "<Figure size 640x480 with 1 Axes>"
      ]
     },
     "metadata": {},
     "output_type": "display_data"
    }
   ],
   "source": [
    "plt.plot(val_results['Actuals'][1000:1500], label='Actuals')\n",
    "plt.plot(val_results['Validation Predictions'][1000:1500], label='Predictions')\n",
    "plt.legend()    "
   ]
  },
  {
   "cell_type": "code",
   "execution_count": null,
   "metadata": {},
   "outputs": [],
   "source": []
  }
 ],
 "metadata": {
  "kernelspec": {
   "display_name": "venv",
   "language": "python",
   "name": "python3"
  },
  "language_info": {
   "codemirror_mode": {
    "name": "ipython",
    "version": 3
   },
   "file_extension": ".py",
   "mimetype": "text/x-python",
   "name": "python",
   "nbconvert_exporter": "python",
   "pygments_lexer": "ipython3",
   "version": "3.11.7"
  }
 },
 "nbformat": 4,
 "nbformat_minor": 2
}
