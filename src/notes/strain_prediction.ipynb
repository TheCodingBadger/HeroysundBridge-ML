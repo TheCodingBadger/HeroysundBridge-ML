{
 "cells": [
  {
   "cell_type": "markdown",
   "metadata": {},
   "source": [
    "**Notes to YT-Video: https://www.youtube.com/watch?v=c0k-YLQGKjY**"
   ]
  },
  {
   "cell_type": "code",
   "execution_count": null,
   "metadata": {},
   "outputs": [],
   "source": [
    "# Nice imports\n",
    "import os\n",
    "import tensorflow as tf\n",
    "import numpy as np\n",
    "import pandas as pd\n",
    "import matplotlib.pyplot as plt"
   ]
  },
  {
   "cell_type": "code",
   "execution_count": null,
   "metadata": {},
   "outputs": [],
   "source": [
    "# Get the user's home directory\n",
    "user_home = os.path.expanduser(\"~\")\n",
    "\n",
    "# Specify the relative path to the target folder from the home directory\n",
    "relative_path = 'HeroysundBridge-ML'\n",
    "\n",
    "# Construct the full path to the target folder\n",
    "target_folder = os.path.join(user_home, relative_path)\n",
    "\n",
    "# Specify the name of the file you're looking for\n",
    "file_name = 'combined.parquet'\n",
    "\n",
    "# Construct the full path to the file\n",
    "file_path = os.path.join(target_folder, file_name)\n",
    "\n",
    "# Check if the file exists\n",
    "if os.path.exists(file_path):\n",
    "    print(f\"Found '{file_name}' at: {file_path}\")\n",
    "else:\n",
    "    print(f\"File '{file_name}' not found in '{target_folder}'.\")\n"
   ]
  },
  {
   "cell_type": "code",
   "execution_count": null,
   "metadata": {},
   "outputs": [],
   "source": [
    "df = pd.read_parquet(file_path)\n",
    "df"
   ]
  },
  {
   "cell_type": "markdown",
   "metadata": {},
   "source": [
    "**Making index (First column) set up in the correct way**"
   ]
  },
  {
   "cell_type": "code",
   "execution_count": null,
   "metadata": {},
   "outputs": [],
   "source": [
    "df.index = pd.to_datetime(df['Date'], format='%Y%m%d%H')\n",
    "df"
   ]
  },
  {
   "cell_type": "code",
   "execution_count": null,
   "metadata": {},
   "outputs": [],
   "source": [
    "# Plot the time series\n",
    "plt.plot(df.index)\n",
    "\n",
    "# Add labels and title\n",
    "plt.xlabel('Rows of the DataFrame')\n",
    "plt.ylabel('Date')\n",
    "plt.title('Time Series Plot')\n",
    "\n",
    "# Show the plot\n",
    "plt.show()"
   ]
  },
  {
   "cell_type": "code",
   "execution_count": null,
   "metadata": {},
   "outputs": [],
   "source": [
    "temp = df['Point_1_N_mean']\n"
   ]
  },
  {
   "cell_type": "code",
   "execution_count": null,
   "metadata": {},
   "outputs": [],
   "source": [
    "def df_to_X_y(df, window_size = 5):\n",
    "   df_as_np = df.to_numpy()\n",
    "   X = []\n",
    "   y = []\n",
    "   for i in range(len(df_as_np) - window_size):\n",
    "       row = [[a] for a in df_as_np[i:i+window_size]]\n",
    "       X.append(row)\n",
    "       label = df_as_np[i+window_size]\n",
    "       y.append(label)\n",
    "   return np.array(X), np.array(y)"
   ]
  },
  {
   "cell_type": "code",
   "execution_count": null,
   "metadata": {},
   "outputs": [],
   "source": [
    "WINDOW_SIZE = 5\n",
    "X, y = df_to_X_y(temp, window_size = WINDOW_SIZE)\n",
    "X.shape, y.shape"
   ]
  },
  {
   "cell_type": "code",
   "execution_count": null,
   "metadata": {},
   "outputs": [],
   "source": [
    "X_train, y_train = X[:20000], y[:20000]\n",
    "X_valid, y_valid = X[20000:25000], y[20000:25000]\n",
    "X_test, y_test = X[25000:], y[25000:]\n",
    "X_train.shape, X_valid.shape, X_test.shape"
   ]
  },
  {
   "cell_type": "code",
   "execution_count": null,
   "metadata": {},
   "outputs": [],
   "source": [
    "from tensorflow.keras.models import Sequential\n",
    "from tensorflow.keras.layers import *\n",
    "from tensorflow.keras.callbacks import ModelCheckpoint, EarlyStopping\n",
    "from tensorflow.keras.losses import mean_squared_error\n",
    "from tensorflow.keras.optimizers import Adam\n",
    "\n",
    "model1 = Sequential()\n",
    "model1.add(InputLayer((WINDOW_SIZE, 1)))\n",
    "model1.add(LSTM(64))\n",
    "model1.add(Dense(8, activation='relu'))\n",
    "model1.add(Dense(1, activation='linear'))\n",
    "model1.summary()\n",
    "\n",
    "# Assuming you want to use mean squared error as a metric\n",
    "model1.compile(optimizer=Adam(), loss=mean_squared_error, metrics=['mse'])\n"
   ]
  },
  {
   "cell_type": "code",
   "execution_count": null,
   "metadata": {},
   "outputs": [],
   "source": [
    "cp = ModelCheckpoint(os.path.join(target_folder, 'model1/'), save_best_only=True)\n",
    "model1.compile(optimizer=Adam(learning_rate=0.0001), loss=mean_squared_error, metrics=['mse'])"
   ]
  },
  {
   "cell_type": "code",
   "execution_count": null,
   "metadata": {},
   "outputs": [],
   "source": [
    "model1.fit(X_train, y_train, validation_data=(X_valid, y_valid), epochs=4, callbacks=[cp])"
   ]
  },
  {
   "cell_type": "code",
   "execution_count": null,
   "metadata": {},
   "outputs": [],
   "source": [
    "from tensorflow.keras.models import load_model\n",
    "\n",
    "# Specify the full path to the model file\n",
    "model_file_path = os.path.join(target_folder, 'model1/')\n",
    "\n",
    "# Load the model from the specified file path\n",
    "model1 = load_model(model_file_path)\n"
   ]
  },
  {
   "cell_type": "code",
   "execution_count": null,
   "metadata": {},
   "outputs": [],
   "source": [
    "train_predicitons = model1.predict(X_train).flatten()\n",
    "train_results = pd.DataFrame(data={'Train Predictions': train_predicitons,'Actuals': y_train})\n",
    "train_results"
   ]
  },
  {
   "cell_type": "code",
   "execution_count": null,
   "metadata": {},
   "outputs": [],
   "source": [
    "plt.plot(train_results['Actuals'], label='Actuals')\n",
    "plt.plot(train_results['Train Predictions'], label='Predictions')"
   ]
  },
  {
   "cell_type": "code",
   "execution_count": null,
   "metadata": {},
   "outputs": [],
   "source": [
    "plt.plot(train_results['Actuals'][50:150], label='Actuals')\n",
    "plt.plot(train_results['Train Predictions'][50:150], label='Predictions')\n",
    "plt.legend()"
   ]
  },
  {
   "cell_type": "markdown",
   "metadata": {},
   "source": [
    "**But we don't really care about how it did on the training, it has seen that data before**"
   ]
  },
  {
   "cell_type": "code",
   "execution_count": null,
   "metadata": {},
   "outputs": [],
   "source": [
    "val_predictions = model1.predict(X_valid).flatten()\n",
    "val_results = pd.DataFrame(data={'Validation Predictions': val_predictions,'Actuals': y_valid}) \n",
    "val_results"
   ]
  },
  {
   "cell_type": "code",
   "execution_count": null,
   "metadata": {},
   "outputs": [],
   "source": [
    "plt.plot(val_results['Actuals'][1000:1500], label='Actuals')\n",
    "plt.plot(val_results['Validation Predictions'][1000:1500], label='Predictions')\n",
    "plt.legend()    "
   ]
  },
  {
   "cell_type": "code",
   "execution_count": null,
   "metadata": {},
   "outputs": [],
   "source": [
    "print(\"Num GPUs Available: \", len(tf.config.list_physical_devices('GPU')))\n"
   ]
  },
  {
   "cell_type": "code",
   "execution_count": null,
   "metadata": {},
   "outputs": [],
   "source": [
    "print(\"Num CPUs Available: \", len(tf.config.list_physical_devices('CPU')))\n"
   ]
  }
 ],
 "metadata": {
  "kernelspec": {
   "display_name": "venv",
   "language": "python",
   "name": "python3"
  },
  "language_info": {
   "codemirror_mode": {
    "name": "ipython",
    "version": 3
   },
   "file_extension": ".py",
   "mimetype": "text/x-python",
   "name": "python",
   "nbconvert_exporter": "python",
   "pygments_lexer": "ipython3",
   "version": "3.11.7"
  }
 },
 "nbformat": 4,
 "nbformat_minor": 2
}
