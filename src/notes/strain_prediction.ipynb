{
 "cells": [
  {
   "cell_type": "markdown",
   "metadata": {},
   "source": [
    "**Notes to YT-Video: https://www.youtube.com/watch?v=c0k-YLQGKjY**"
   ]
  },
  {
   "cell_type": "code",
   "execution_count": 1,
   "metadata": {},
   "outputs": [
    {
     "name": "stdout",
     "output_type": "stream",
     "text": [
      "WARNING:tensorflow:From c:\\Users\\erlih\\repos\\HeroysundBridge-ML\\venv\\Lib\\site-packages\\keras\\src\\losses.py:2976: The name tf.losses.sparse_softmax_cross_entropy is deprecated. Please use tf.compat.v1.losses.sparse_softmax_cross_entropy instead.\n",
      "\n"
     ]
    }
   ],
   "source": [
    "# Nice imports\n",
    "import os\n",
    "import tensorflow as tf\n",
    "import numpy as np\n",
    "import pandas as pd\n",
    "import matplotlib.pyplot as plt"
   ]
  },
  {
   "cell_type": "code",
   "execution_count": 2,
   "metadata": {},
   "outputs": [
    {
     "name": "stdout",
     "output_type": "stream",
     "text": [
      "Found 'combined.parquet' at: C:\\Users\\erlih\\HeroysundBridge-ML\\combined.parquet\n"
     ]
    }
   ],
   "source": [
    "# Get the user's home directory\n",
    "user_home = os.path.expanduser(\"~\")\n",
    "\n",
    "# Specify the relative path to the target folder from the home directory\n",
    "relative_path = 'HeroysundBridge-ML'\n",
    "\n",
    "# Construct the full path to the target folder\n",
    "target_folder = os.path.join(user_home, relative_path)\n",
    "\n",
    "# Specify the name of the file you're looking for\n",
    "file_name = 'combined.parquet'\n",
    "\n",
    "# Construct the full path to the file\n",
    "file_path = os.path.join(target_folder, file_name)\n",
    "\n",
    "# Check if the file exists\n",
    "if os.path.exists(file_path):\n",
    "    print(f\"Found '{file_name}' at: {file_path}\")\n",
    "else:\n",
    "    print(f\"File '{file_name}' not found in '{target_folder}'.\")\n"
   ]
  },
  {
   "cell_type": "code",
   "execution_count": 3,
   "metadata": {},
   "outputs": [
    {
     "data": {
      "text/html": [
       "<div>\n",
       "<style scoped>\n",
       "    .dataframe tbody tr th:only-of-type {\n",
       "        vertical-align: middle;\n",
       "    }\n",
       "\n",
       "    .dataframe tbody tr th {\n",
       "        vertical-align: top;\n",
       "    }\n",
       "\n",
       "    .dataframe thead th {\n",
       "        text-align: right;\n",
       "    }\n",
       "</style>\n",
       "<table border=\"1\" class=\"dataframe\">\n",
       "  <thead>\n",
       "    <tr style=\"text-align: right;\">\n",
       "      <th></th>\n",
       "      <th>Hours_since_2019.12.31</th>\n",
       "      <th>Date</th>\n",
       "      <th>Point_1_N_mean</th>\n",
       "      <th>Point_2_N_mean</th>\n",
       "      <th>Point_3_N_mean</th>\n",
       "      <th>Point_4_S_mean</th>\n",
       "      <th>Point_5_S_mean</th>\n",
       "      <th>Point_6_S_mean</th>\n",
       "      <th>Omega_N_mean</th>\n",
       "      <th>Omega_S_mean</th>\n",
       "      <th>PT100_Temperature_mean</th>\n",
       "      <th>Gjennomsnittlig globalstråling (1 t)</th>\n",
       "      <th>Solskinnstid (1 t)</th>\n",
       "      <th>Middel av middelvind (1 t)</th>\n",
       "      <th>Nedbør (1 t)</th>\n",
       "      <th>Relativ luftfuktighet</th>\n",
       "    </tr>\n",
       "  </thead>\n",
       "  <tbody>\n",
       "    <tr>\n",
       "      <th>0</th>\n",
       "      <td>5916</td>\n",
       "      <td>2020090212</td>\n",
       "      <td>18.324186</td>\n",
       "      <td>16.439996</td>\n",
       "      <td>12.273690</td>\n",
       "      <td>43.943916</td>\n",
       "      <td>41.496791</td>\n",
       "      <td>32.350760</td>\n",
       "      <td>-0.000391</td>\n",
       "      <td>-0.002391</td>\n",
       "      <td>16.261441</td>\n",
       "      <td>954.0</td>\n",
       "      <td>52.0</td>\n",
       "      <td>0.9</td>\n",
       "      <td>0.1</td>\n",
       "      <td>49.0</td>\n",
       "    </tr>\n",
       "    <tr>\n",
       "      <th>1</th>\n",
       "      <td>5940</td>\n",
       "      <td>2020090312</td>\n",
       "      <td>24.667922</td>\n",
       "      <td>24.155004</td>\n",
       "      <td>18.399311</td>\n",
       "      <td>58.603003</td>\n",
       "      <td>57.104418</td>\n",
       "      <td>46.496854</td>\n",
       "      <td>-0.000950</td>\n",
       "      <td>0.001639</td>\n",
       "      <td>16.858222</td>\n",
       "      <td>966.0</td>\n",
       "      <td>52.0</td>\n",
       "      <td>3.5</td>\n",
       "      <td>0.0</td>\n",
       "      <td>45.0</td>\n",
       "    </tr>\n",
       "    <tr>\n",
       "      <th>2</th>\n",
       "      <td>5962</td>\n",
       "      <td>2020090410</td>\n",
       "      <td>-15.535099</td>\n",
       "      <td>-21.302234</td>\n",
       "      <td>-17.400303</td>\n",
       "      <td>43.134141</td>\n",
       "      <td>39.866109</td>\n",
       "      <td>29.849380</td>\n",
       "      <td>0.004475</td>\n",
       "      <td>0.015130</td>\n",
       "      <td>14.256647</td>\n",
       "      <td>131.6</td>\n",
       "      <td>0.0</td>\n",
       "      <td>2.6</td>\n",
       "      <td>0.5</td>\n",
       "      <td>87.0</td>\n",
       "    </tr>\n",
       "    <tr>\n",
       "      <th>3</th>\n",
       "      <td>5966</td>\n",
       "      <td>2020090414</td>\n",
       "      <td>-10.819921</td>\n",
       "      <td>-15.643464</td>\n",
       "      <td>-12.470669</td>\n",
       "      <td>51.753103</td>\n",
       "      <td>50.788288</td>\n",
       "      <td>37.997157</td>\n",
       "      <td>0.001993</td>\n",
       "      <td>0.014450</td>\n",
       "      <td>14.687477</td>\n",
       "      <td>314.0</td>\n",
       "      <td>0.0</td>\n",
       "      <td>4.0</td>\n",
       "      <td>0.2</td>\n",
       "      <td>86.0</td>\n",
       "    </tr>\n",
       "    <tr>\n",
       "      <th>4</th>\n",
       "      <td>5970</td>\n",
       "      <td>2020090418</td>\n",
       "      <td>-15.399971</td>\n",
       "      <td>-18.856000</td>\n",
       "      <td>-14.976123</td>\n",
       "      <td>52.673533</td>\n",
       "      <td>51.309598</td>\n",
       "      <td>36.255848</td>\n",
       "      <td>0.005713</td>\n",
       "      <td>0.017729</td>\n",
       "      <td>13.874647</td>\n",
       "      <td>236.0</td>\n",
       "      <td>21.0</td>\n",
       "      <td>1.3</td>\n",
       "      <td>0.0</td>\n",
       "      <td>74.0</td>\n",
       "    </tr>\n",
       "    <tr>\n",
       "      <th>...</th>\n",
       "      <td>...</td>\n",
       "      <td>...</td>\n",
       "      <td>...</td>\n",
       "      <td>...</td>\n",
       "      <td>...</td>\n",
       "      <td>...</td>\n",
       "      <td>...</td>\n",
       "      <td>...</td>\n",
       "      <td>...</td>\n",
       "      <td>...</td>\n",
       "      <td>...</td>\n",
       "      <td>...</td>\n",
       "      <td>...</td>\n",
       "      <td>...</td>\n",
       "      <td>...</td>\n",
       "      <td>...</td>\n",
       "    </tr>\n",
       "    <tr>\n",
       "      <th>26807</th>\n",
       "      <td>35082</td>\n",
       "      <td>2023123118</td>\n",
       "      <td>-20.227229</td>\n",
       "      <td>-104.882947</td>\n",
       "      <td>-99.809995</td>\n",
       "      <td>-277.179242</td>\n",
       "      <td>-317.856174</td>\n",
       "      <td>-257.119294</td>\n",
       "      <td>0.000000</td>\n",
       "      <td>-0.040876</td>\n",
       "      <td>-4.738139</td>\n",
       "      <td>-3.0</td>\n",
       "      <td>0.0</td>\n",
       "      <td>1.1</td>\n",
       "      <td>0.0</td>\n",
       "      <td>60.0</td>\n",
       "    </tr>\n",
       "    <tr>\n",
       "      <th>26808</th>\n",
       "      <td>35083</td>\n",
       "      <td>2023123119</td>\n",
       "      <td>-19.488729</td>\n",
       "      <td>-105.022363</td>\n",
       "      <td>-99.542072</td>\n",
       "      <td>-276.450669</td>\n",
       "      <td>-317.423938</td>\n",
       "      <td>-256.383557</td>\n",
       "      <td>0.000000</td>\n",
       "      <td>-0.040332</td>\n",
       "      <td>-4.625233</td>\n",
       "      <td>-3.0</td>\n",
       "      <td>0.0</td>\n",
       "      <td>1.3</td>\n",
       "      <td>0.0</td>\n",
       "      <td>59.0</td>\n",
       "    </tr>\n",
       "    <tr>\n",
       "      <th>26809</th>\n",
       "      <td>35084</td>\n",
       "      <td>2023123120</td>\n",
       "      <td>-21.503484</td>\n",
       "      <td>-107.888565</td>\n",
       "      <td>-100.934269</td>\n",
       "      <td>-278.409798</td>\n",
       "      <td>-319.099933</td>\n",
       "      <td>-258.295017</td>\n",
       "      <td>0.000000</td>\n",
       "      <td>-0.044919</td>\n",
       "      <td>-4.645648</td>\n",
       "      <td>-2.9</td>\n",
       "      <td>0.0</td>\n",
       "      <td>1.3</td>\n",
       "      <td>0.0</td>\n",
       "      <td>57.0</td>\n",
       "    </tr>\n",
       "    <tr>\n",
       "      <th>26810</th>\n",
       "      <td>35085</td>\n",
       "      <td>2023123121</td>\n",
       "      <td>-22.667015</td>\n",
       "      <td>-109.260424</td>\n",
       "      <td>-102.036887</td>\n",
       "      <td>-279.507222</td>\n",
       "      <td>-320.289949</td>\n",
       "      <td>-259.567834</td>\n",
       "      <td>0.000000</td>\n",
       "      <td>-0.048216</td>\n",
       "      <td>-4.756255</td>\n",
       "      <td>-2.9</td>\n",
       "      <td>0.0</td>\n",
       "      <td>1.3</td>\n",
       "      <td>0.0</td>\n",
       "      <td>56.0</td>\n",
       "    </tr>\n",
       "    <tr>\n",
       "      <th>26811</th>\n",
       "      <td>35086</td>\n",
       "      <td>2023123122</td>\n",
       "      <td>-22.800138</td>\n",
       "      <td>-110.541549</td>\n",
       "      <td>-102.633739</td>\n",
       "      <td>-280.061310</td>\n",
       "      <td>-320.786081</td>\n",
       "      <td>-259.985386</td>\n",
       "      <td>0.000000</td>\n",
       "      <td>-0.049865</td>\n",
       "      <td>-4.433085</td>\n",
       "      <td>-3.2</td>\n",
       "      <td>0.0</td>\n",
       "      <td>1.0</td>\n",
       "      <td>0.0</td>\n",
       "      <td>56.0</td>\n",
       "    </tr>\n",
       "  </tbody>\n",
       "</table>\n",
       "<p>26812 rows × 16 columns</p>\n",
       "</div>"
      ],
      "text/plain": [
       "       Hours_since_2019.12.31        Date  Point_1_N_mean  Point_2_N_mean  \\\n",
       "0                        5916  2020090212       18.324186       16.439996   \n",
       "1                        5940  2020090312       24.667922       24.155004   \n",
       "2                        5962  2020090410      -15.535099      -21.302234   \n",
       "3                        5966  2020090414      -10.819921      -15.643464   \n",
       "4                        5970  2020090418      -15.399971      -18.856000   \n",
       "...                       ...         ...             ...             ...   \n",
       "26807                   35082  2023123118      -20.227229     -104.882947   \n",
       "26808                   35083  2023123119      -19.488729     -105.022363   \n",
       "26809                   35084  2023123120      -21.503484     -107.888565   \n",
       "26810                   35085  2023123121      -22.667015     -109.260424   \n",
       "26811                   35086  2023123122      -22.800138     -110.541549   \n",
       "\n",
       "       Point_3_N_mean  Point_4_S_mean  Point_5_S_mean  Point_6_S_mean  \\\n",
       "0           12.273690       43.943916       41.496791       32.350760   \n",
       "1           18.399311       58.603003       57.104418       46.496854   \n",
       "2          -17.400303       43.134141       39.866109       29.849380   \n",
       "3          -12.470669       51.753103       50.788288       37.997157   \n",
       "4          -14.976123       52.673533       51.309598       36.255848   \n",
       "...               ...             ...             ...             ...   \n",
       "26807      -99.809995     -277.179242     -317.856174     -257.119294   \n",
       "26808      -99.542072     -276.450669     -317.423938     -256.383557   \n",
       "26809     -100.934269     -278.409798     -319.099933     -258.295017   \n",
       "26810     -102.036887     -279.507222     -320.289949     -259.567834   \n",
       "26811     -102.633739     -280.061310     -320.786081     -259.985386   \n",
       "\n",
       "       Omega_N_mean  Omega_S_mean  PT100_Temperature_mean  \\\n",
       "0         -0.000391     -0.002391               16.261441   \n",
       "1         -0.000950      0.001639               16.858222   \n",
       "2          0.004475      0.015130               14.256647   \n",
       "3          0.001993      0.014450               14.687477   \n",
       "4          0.005713      0.017729               13.874647   \n",
       "...             ...           ...                     ...   \n",
       "26807      0.000000     -0.040876               -4.738139   \n",
       "26808      0.000000     -0.040332               -4.625233   \n",
       "26809      0.000000     -0.044919               -4.645648   \n",
       "26810      0.000000     -0.048216               -4.756255   \n",
       "26811      0.000000     -0.049865               -4.433085   \n",
       "\n",
       "       Gjennomsnittlig globalstråling (1 t)  Solskinnstid (1 t)  \\\n",
       "0                                     954.0                52.0   \n",
       "1                                     966.0                52.0   \n",
       "2                                     131.6                 0.0   \n",
       "3                                     314.0                 0.0   \n",
       "4                                     236.0                21.0   \n",
       "...                                     ...                 ...   \n",
       "26807                                  -3.0                 0.0   \n",
       "26808                                  -3.0                 0.0   \n",
       "26809                                  -2.9                 0.0   \n",
       "26810                                  -2.9                 0.0   \n",
       "26811                                  -3.2                 0.0   \n",
       "\n",
       "       Middel av middelvind (1 t)  Nedbør (1 t)  Relativ luftfuktighet  \n",
       "0                             0.9           0.1                   49.0  \n",
       "1                             3.5           0.0                   45.0  \n",
       "2                             2.6           0.5                   87.0  \n",
       "3                             4.0           0.2                   86.0  \n",
       "4                             1.3           0.0                   74.0  \n",
       "...                           ...           ...                    ...  \n",
       "26807                         1.1           0.0                   60.0  \n",
       "26808                         1.3           0.0                   59.0  \n",
       "26809                         1.3           0.0                   57.0  \n",
       "26810                         1.3           0.0                   56.0  \n",
       "26811                         1.0           0.0                   56.0  \n",
       "\n",
       "[26812 rows x 16 columns]"
      ]
     },
     "execution_count": 3,
     "metadata": {},
     "output_type": "execute_result"
    }
   ],
   "source": [
    "df = pd.read_parquet(file_path)\n",
    "df"
   ]
  },
  {
   "cell_type": "markdown",
   "metadata": {},
   "source": [
    "**Making index (First column) set up in the correct way**"
   ]
  },
  {
   "cell_type": "code",
   "execution_count": 4,
   "metadata": {},
   "outputs": [
    {
     "data": {
      "text/html": [
       "<div>\n",
       "<style scoped>\n",
       "    .dataframe tbody tr th:only-of-type {\n",
       "        vertical-align: middle;\n",
       "    }\n",
       "\n",
       "    .dataframe tbody tr th {\n",
       "        vertical-align: top;\n",
       "    }\n",
       "\n",
       "    .dataframe thead th {\n",
       "        text-align: right;\n",
       "    }\n",
       "</style>\n",
       "<table border=\"1\" class=\"dataframe\">\n",
       "  <thead>\n",
       "    <tr style=\"text-align: right;\">\n",
       "      <th></th>\n",
       "      <th>Hours_since_2019.12.31</th>\n",
       "      <th>Date</th>\n",
       "      <th>Point_1_N_mean</th>\n",
       "      <th>Point_2_N_mean</th>\n",
       "      <th>Point_3_N_mean</th>\n",
       "      <th>Point_4_S_mean</th>\n",
       "      <th>Point_5_S_mean</th>\n",
       "      <th>Point_6_S_mean</th>\n",
       "      <th>Omega_N_mean</th>\n",
       "      <th>Omega_S_mean</th>\n",
       "      <th>PT100_Temperature_mean</th>\n",
       "      <th>Gjennomsnittlig globalstråling (1 t)</th>\n",
       "      <th>Solskinnstid (1 t)</th>\n",
       "      <th>Middel av middelvind (1 t)</th>\n",
       "      <th>Nedbør (1 t)</th>\n",
       "      <th>Relativ luftfuktighet</th>\n",
       "    </tr>\n",
       "    <tr>\n",
       "      <th>Date</th>\n",
       "      <th></th>\n",
       "      <th></th>\n",
       "      <th></th>\n",
       "      <th></th>\n",
       "      <th></th>\n",
       "      <th></th>\n",
       "      <th></th>\n",
       "      <th></th>\n",
       "      <th></th>\n",
       "      <th></th>\n",
       "      <th></th>\n",
       "      <th></th>\n",
       "      <th></th>\n",
       "      <th></th>\n",
       "      <th></th>\n",
       "      <th></th>\n",
       "    </tr>\n",
       "  </thead>\n",
       "  <tbody>\n",
       "    <tr>\n",
       "      <th>2020-09-02 12:00:00</th>\n",
       "      <td>5916</td>\n",
       "      <td>2020090212</td>\n",
       "      <td>18.324186</td>\n",
       "      <td>16.439996</td>\n",
       "      <td>12.273690</td>\n",
       "      <td>43.943916</td>\n",
       "      <td>41.496791</td>\n",
       "      <td>32.350760</td>\n",
       "      <td>-0.000391</td>\n",
       "      <td>-0.002391</td>\n",
       "      <td>16.261441</td>\n",
       "      <td>954.0</td>\n",
       "      <td>52.0</td>\n",
       "      <td>0.9</td>\n",
       "      <td>0.1</td>\n",
       "      <td>49.0</td>\n",
       "    </tr>\n",
       "    <tr>\n",
       "      <th>2020-09-03 12:00:00</th>\n",
       "      <td>5940</td>\n",
       "      <td>2020090312</td>\n",
       "      <td>24.667922</td>\n",
       "      <td>24.155004</td>\n",
       "      <td>18.399311</td>\n",
       "      <td>58.603003</td>\n",
       "      <td>57.104418</td>\n",
       "      <td>46.496854</td>\n",
       "      <td>-0.000950</td>\n",
       "      <td>0.001639</td>\n",
       "      <td>16.858222</td>\n",
       "      <td>966.0</td>\n",
       "      <td>52.0</td>\n",
       "      <td>3.5</td>\n",
       "      <td>0.0</td>\n",
       "      <td>45.0</td>\n",
       "    </tr>\n",
       "    <tr>\n",
       "      <th>2020-09-04 10:00:00</th>\n",
       "      <td>5962</td>\n",
       "      <td>2020090410</td>\n",
       "      <td>-15.535099</td>\n",
       "      <td>-21.302234</td>\n",
       "      <td>-17.400303</td>\n",
       "      <td>43.134141</td>\n",
       "      <td>39.866109</td>\n",
       "      <td>29.849380</td>\n",
       "      <td>0.004475</td>\n",
       "      <td>0.015130</td>\n",
       "      <td>14.256647</td>\n",
       "      <td>131.6</td>\n",
       "      <td>0.0</td>\n",
       "      <td>2.6</td>\n",
       "      <td>0.5</td>\n",
       "      <td>87.0</td>\n",
       "    </tr>\n",
       "    <tr>\n",
       "      <th>2020-09-04 14:00:00</th>\n",
       "      <td>5966</td>\n",
       "      <td>2020090414</td>\n",
       "      <td>-10.819921</td>\n",
       "      <td>-15.643464</td>\n",
       "      <td>-12.470669</td>\n",
       "      <td>51.753103</td>\n",
       "      <td>50.788288</td>\n",
       "      <td>37.997157</td>\n",
       "      <td>0.001993</td>\n",
       "      <td>0.014450</td>\n",
       "      <td>14.687477</td>\n",
       "      <td>314.0</td>\n",
       "      <td>0.0</td>\n",
       "      <td>4.0</td>\n",
       "      <td>0.2</td>\n",
       "      <td>86.0</td>\n",
       "    </tr>\n",
       "    <tr>\n",
       "      <th>2020-09-04 18:00:00</th>\n",
       "      <td>5970</td>\n",
       "      <td>2020090418</td>\n",
       "      <td>-15.399971</td>\n",
       "      <td>-18.856000</td>\n",
       "      <td>-14.976123</td>\n",
       "      <td>52.673533</td>\n",
       "      <td>51.309598</td>\n",
       "      <td>36.255848</td>\n",
       "      <td>0.005713</td>\n",
       "      <td>0.017729</td>\n",
       "      <td>13.874647</td>\n",
       "      <td>236.0</td>\n",
       "      <td>21.0</td>\n",
       "      <td>1.3</td>\n",
       "      <td>0.0</td>\n",
       "      <td>74.0</td>\n",
       "    </tr>\n",
       "    <tr>\n",
       "      <th>...</th>\n",
       "      <td>...</td>\n",
       "      <td>...</td>\n",
       "      <td>...</td>\n",
       "      <td>...</td>\n",
       "      <td>...</td>\n",
       "      <td>...</td>\n",
       "      <td>...</td>\n",
       "      <td>...</td>\n",
       "      <td>...</td>\n",
       "      <td>...</td>\n",
       "      <td>...</td>\n",
       "      <td>...</td>\n",
       "      <td>...</td>\n",
       "      <td>...</td>\n",
       "      <td>...</td>\n",
       "      <td>...</td>\n",
       "    </tr>\n",
       "    <tr>\n",
       "      <th>2023-12-31 18:00:00</th>\n",
       "      <td>35082</td>\n",
       "      <td>2023123118</td>\n",
       "      <td>-20.227229</td>\n",
       "      <td>-104.882947</td>\n",
       "      <td>-99.809995</td>\n",
       "      <td>-277.179242</td>\n",
       "      <td>-317.856174</td>\n",
       "      <td>-257.119294</td>\n",
       "      <td>0.000000</td>\n",
       "      <td>-0.040876</td>\n",
       "      <td>-4.738139</td>\n",
       "      <td>-3.0</td>\n",
       "      <td>0.0</td>\n",
       "      <td>1.1</td>\n",
       "      <td>0.0</td>\n",
       "      <td>60.0</td>\n",
       "    </tr>\n",
       "    <tr>\n",
       "      <th>2023-12-31 19:00:00</th>\n",
       "      <td>35083</td>\n",
       "      <td>2023123119</td>\n",
       "      <td>-19.488729</td>\n",
       "      <td>-105.022363</td>\n",
       "      <td>-99.542072</td>\n",
       "      <td>-276.450669</td>\n",
       "      <td>-317.423938</td>\n",
       "      <td>-256.383557</td>\n",
       "      <td>0.000000</td>\n",
       "      <td>-0.040332</td>\n",
       "      <td>-4.625233</td>\n",
       "      <td>-3.0</td>\n",
       "      <td>0.0</td>\n",
       "      <td>1.3</td>\n",
       "      <td>0.0</td>\n",
       "      <td>59.0</td>\n",
       "    </tr>\n",
       "    <tr>\n",
       "      <th>2023-12-31 20:00:00</th>\n",
       "      <td>35084</td>\n",
       "      <td>2023123120</td>\n",
       "      <td>-21.503484</td>\n",
       "      <td>-107.888565</td>\n",
       "      <td>-100.934269</td>\n",
       "      <td>-278.409798</td>\n",
       "      <td>-319.099933</td>\n",
       "      <td>-258.295017</td>\n",
       "      <td>0.000000</td>\n",
       "      <td>-0.044919</td>\n",
       "      <td>-4.645648</td>\n",
       "      <td>-2.9</td>\n",
       "      <td>0.0</td>\n",
       "      <td>1.3</td>\n",
       "      <td>0.0</td>\n",
       "      <td>57.0</td>\n",
       "    </tr>\n",
       "    <tr>\n",
       "      <th>2023-12-31 21:00:00</th>\n",
       "      <td>35085</td>\n",
       "      <td>2023123121</td>\n",
       "      <td>-22.667015</td>\n",
       "      <td>-109.260424</td>\n",
       "      <td>-102.036887</td>\n",
       "      <td>-279.507222</td>\n",
       "      <td>-320.289949</td>\n",
       "      <td>-259.567834</td>\n",
       "      <td>0.000000</td>\n",
       "      <td>-0.048216</td>\n",
       "      <td>-4.756255</td>\n",
       "      <td>-2.9</td>\n",
       "      <td>0.0</td>\n",
       "      <td>1.3</td>\n",
       "      <td>0.0</td>\n",
       "      <td>56.0</td>\n",
       "    </tr>\n",
       "    <tr>\n",
       "      <th>2023-12-31 22:00:00</th>\n",
       "      <td>35086</td>\n",
       "      <td>2023123122</td>\n",
       "      <td>-22.800138</td>\n",
       "      <td>-110.541549</td>\n",
       "      <td>-102.633739</td>\n",
       "      <td>-280.061310</td>\n",
       "      <td>-320.786081</td>\n",
       "      <td>-259.985386</td>\n",
       "      <td>0.000000</td>\n",
       "      <td>-0.049865</td>\n",
       "      <td>-4.433085</td>\n",
       "      <td>-3.2</td>\n",
       "      <td>0.0</td>\n",
       "      <td>1.0</td>\n",
       "      <td>0.0</td>\n",
       "      <td>56.0</td>\n",
       "    </tr>\n",
       "  </tbody>\n",
       "</table>\n",
       "<p>26812 rows × 16 columns</p>\n",
       "</div>"
      ],
      "text/plain": [
       "                     Hours_since_2019.12.31        Date  Point_1_N_mean  \\\n",
       "Date                                                                      \n",
       "2020-09-02 12:00:00                    5916  2020090212       18.324186   \n",
       "2020-09-03 12:00:00                    5940  2020090312       24.667922   \n",
       "2020-09-04 10:00:00                    5962  2020090410      -15.535099   \n",
       "2020-09-04 14:00:00                    5966  2020090414      -10.819921   \n",
       "2020-09-04 18:00:00                    5970  2020090418      -15.399971   \n",
       "...                                     ...         ...             ...   \n",
       "2023-12-31 18:00:00                   35082  2023123118      -20.227229   \n",
       "2023-12-31 19:00:00                   35083  2023123119      -19.488729   \n",
       "2023-12-31 20:00:00                   35084  2023123120      -21.503484   \n",
       "2023-12-31 21:00:00                   35085  2023123121      -22.667015   \n",
       "2023-12-31 22:00:00                   35086  2023123122      -22.800138   \n",
       "\n",
       "                     Point_2_N_mean  Point_3_N_mean  Point_4_S_mean  \\\n",
       "Date                                                                  \n",
       "2020-09-02 12:00:00       16.439996       12.273690       43.943916   \n",
       "2020-09-03 12:00:00       24.155004       18.399311       58.603003   \n",
       "2020-09-04 10:00:00      -21.302234      -17.400303       43.134141   \n",
       "2020-09-04 14:00:00      -15.643464      -12.470669       51.753103   \n",
       "2020-09-04 18:00:00      -18.856000      -14.976123       52.673533   \n",
       "...                             ...             ...             ...   \n",
       "2023-12-31 18:00:00     -104.882947      -99.809995     -277.179242   \n",
       "2023-12-31 19:00:00     -105.022363      -99.542072     -276.450669   \n",
       "2023-12-31 20:00:00     -107.888565     -100.934269     -278.409798   \n",
       "2023-12-31 21:00:00     -109.260424     -102.036887     -279.507222   \n",
       "2023-12-31 22:00:00     -110.541549     -102.633739     -280.061310   \n",
       "\n",
       "                     Point_5_S_mean  Point_6_S_mean  Omega_N_mean  \\\n",
       "Date                                                                \n",
       "2020-09-02 12:00:00       41.496791       32.350760     -0.000391   \n",
       "2020-09-03 12:00:00       57.104418       46.496854     -0.000950   \n",
       "2020-09-04 10:00:00       39.866109       29.849380      0.004475   \n",
       "2020-09-04 14:00:00       50.788288       37.997157      0.001993   \n",
       "2020-09-04 18:00:00       51.309598       36.255848      0.005713   \n",
       "...                             ...             ...           ...   \n",
       "2023-12-31 18:00:00     -317.856174     -257.119294      0.000000   \n",
       "2023-12-31 19:00:00     -317.423938     -256.383557      0.000000   \n",
       "2023-12-31 20:00:00     -319.099933     -258.295017      0.000000   \n",
       "2023-12-31 21:00:00     -320.289949     -259.567834      0.000000   \n",
       "2023-12-31 22:00:00     -320.786081     -259.985386      0.000000   \n",
       "\n",
       "                     Omega_S_mean  PT100_Temperature_mean  \\\n",
       "Date                                                        \n",
       "2020-09-02 12:00:00     -0.002391               16.261441   \n",
       "2020-09-03 12:00:00      0.001639               16.858222   \n",
       "2020-09-04 10:00:00      0.015130               14.256647   \n",
       "2020-09-04 14:00:00      0.014450               14.687477   \n",
       "2020-09-04 18:00:00      0.017729               13.874647   \n",
       "...                           ...                     ...   \n",
       "2023-12-31 18:00:00     -0.040876               -4.738139   \n",
       "2023-12-31 19:00:00     -0.040332               -4.625233   \n",
       "2023-12-31 20:00:00     -0.044919               -4.645648   \n",
       "2023-12-31 21:00:00     -0.048216               -4.756255   \n",
       "2023-12-31 22:00:00     -0.049865               -4.433085   \n",
       "\n",
       "                     Gjennomsnittlig globalstråling (1 t)  Solskinnstid (1 t)  \\\n",
       "Date                                                                            \n",
       "2020-09-02 12:00:00                                 954.0                52.0   \n",
       "2020-09-03 12:00:00                                 966.0                52.0   \n",
       "2020-09-04 10:00:00                                 131.6                 0.0   \n",
       "2020-09-04 14:00:00                                 314.0                 0.0   \n",
       "2020-09-04 18:00:00                                 236.0                21.0   \n",
       "...                                                   ...                 ...   \n",
       "2023-12-31 18:00:00                                  -3.0                 0.0   \n",
       "2023-12-31 19:00:00                                  -3.0                 0.0   \n",
       "2023-12-31 20:00:00                                  -2.9                 0.0   \n",
       "2023-12-31 21:00:00                                  -2.9                 0.0   \n",
       "2023-12-31 22:00:00                                  -3.2                 0.0   \n",
       "\n",
       "                     Middel av middelvind (1 t)  Nedbør (1 t)  \\\n",
       "Date                                                            \n",
       "2020-09-02 12:00:00                         0.9           0.1   \n",
       "2020-09-03 12:00:00                         3.5           0.0   \n",
       "2020-09-04 10:00:00                         2.6           0.5   \n",
       "2020-09-04 14:00:00                         4.0           0.2   \n",
       "2020-09-04 18:00:00                         1.3           0.0   \n",
       "...                                         ...           ...   \n",
       "2023-12-31 18:00:00                         1.1           0.0   \n",
       "2023-12-31 19:00:00                         1.3           0.0   \n",
       "2023-12-31 20:00:00                         1.3           0.0   \n",
       "2023-12-31 21:00:00                         1.3           0.0   \n",
       "2023-12-31 22:00:00                         1.0           0.0   \n",
       "\n",
       "                     Relativ luftfuktighet  \n",
       "Date                                        \n",
       "2020-09-02 12:00:00                   49.0  \n",
       "2020-09-03 12:00:00                   45.0  \n",
       "2020-09-04 10:00:00                   87.0  \n",
       "2020-09-04 14:00:00                   86.0  \n",
       "2020-09-04 18:00:00                   74.0  \n",
       "...                                    ...  \n",
       "2023-12-31 18:00:00                   60.0  \n",
       "2023-12-31 19:00:00                   59.0  \n",
       "2023-12-31 20:00:00                   57.0  \n",
       "2023-12-31 21:00:00                   56.0  \n",
       "2023-12-31 22:00:00                   56.0  \n",
       "\n",
       "[26812 rows x 16 columns]"
      ]
     },
     "execution_count": 4,
     "metadata": {},
     "output_type": "execute_result"
    }
   ],
   "source": [
    "df.index = pd.to_datetime(df['Date'], format='%Y%m%d%H')\n",
    "df"
   ]
  },
  {
   "cell_type": "code",
   "execution_count": 5,
   "metadata": {},
   "outputs": [
    {
     "data": {
      "image/png": "[encoded data removed]",
      "text/plain": [
       "<Figure size 640x480 with 1 Axes>"
      ]
     },
     "metadata": {},
     "output_type": "display_data"
    }
   ],
   "source": [
    "# Plot the time series\n",
    "plt.plot(df.index)\n",
    "\n",
    "# Add labels and title\n",
    "plt.xlabel('Rows of the DataFrame')\n",
    "plt.ylabel('Date')\n",
    "plt.title('Time Series Plot')\n",
    "\n",
    "# Show the plot\n",
    "plt.show()"
   ]
  },
  {
   "cell_type": "code",
   "execution_count": 6,
   "metadata": {},
   "outputs": [
    {
     "data": {
      "text/plain": [
       "<Axes: xlabel='Date'>"
      ]
     },
     "execution_count": 6,
     "metadata": {},
     "output_type": "execute_result"
    },
    {
     "data": {
      "image/png": "[encoded data removed]",
      "text/plain": [
       "<Figure size 640x480 with 1 Axes>"
      ]
     },
     "metadata": {},
     "output_type": "display_data"
    }
   ],
   "source": [
    "temp = df['Point_1_N_mean']\n",
    "temp.plot()"
   ]
  },
  {
   "cell_type": "code",
   "execution_count": 7,
   "metadata": {},
   "outputs": [],
   "source": [
    " def df_to_X_y(df, window_size = 5):\n",
    "    df_as_np = df.to_numpy()\n",
    "    X = []\n",
    "    y = []\n",
    "    for i in range(len(df_as_np) - window_size):\n",
    "        row = [[a] for a in df_as_np[i:i+window_size]]\n",
    "        X.append(row)\n",
    "        label = df_as_np[i+window_size]\n",
    "        y.append(label)\n",
    "    return np.array(X), np.array(y)"
   ]
  },
  {
   "cell_type": "code",
   "execution_count": 8,
   "metadata": {},
   "outputs": [
    {
     "data": {
      "text/plain": [
       "((26807, 5, 1), (26807,))"
      ]
     },
     "execution_count": 8,
     "metadata": {},
     "output_type": "execute_result"
    }
   ],
   "source": [
    "WINDOW_SIZE = 5\n",
    "X, y = df_to_X_y(temp, window_size = WINDOW_SIZE)\n",
    "X.shape, y.shape"
   ]
  },
  {
   "cell_type": "code",
   "execution_count": 9,
   "metadata": {},
   "outputs": [
    {
     "data": {
      "text/plain": [
       "((20000, 5, 1), (5000, 5, 1), (1807, 5, 1))"
      ]
     },
     "execution_count": 9,
     "metadata": {},
     "output_type": "execute_result"
    }
   ],
   "source": [
    "X_train, y_train = X[:20000], y[:20000]\n",
    "X_valid, y_valid = X[20000:25000], y[20000:25000]\n",
    "X_test, y_test = X[25000:], y[25000:]\n",
    "X_train.shape, X_valid.shape, X_test.shape"
   ]
  },
  {
   "cell_type": "code",
   "execution_count": 10,
   "metadata": {},
   "outputs": [
    {
     "name": "stdout",
     "output_type": "stream",
     "text": [
      "WARNING:tensorflow:From c:\\Users\\erlih\\repos\\HeroysundBridge-ML\\venv\\Lib\\site-packages\\keras\\src\\backend.py:873: The name tf.get_default_graph is deprecated. Please use tf.compat.v1.get_default_graph instead.\n",
      "\n",
      "Model: \"sequential\"\n",
      "_________________________________________________________________\n",
      " Layer (type)                Output Shape              Param #   \n",
      "=================================================================\n",
      " lstm (LSTM)                 (None, 64)                16896     \n",
      "                                                                 \n",
      " dense (Dense)               (None, 8)                 520       \n",
      "                                                                 \n",
      " dense_1 (Dense)             (None, 1)                 9         \n",
      "                                                                 \n",
      "=================================================================\n",
      "Total params: 17425 (68.07 KB)\n",
      "Trainable params: 17425 (68.07 KB)\n",
      "Non-trainable params: 0 (0.00 Byte)\n",
      "_________________________________________________________________\n"
     ]
    }
   ],
   "source": [
    "from tensorflow.keras.models import Sequential\n",
    "from tensorflow.keras.layers import *\n",
    "from tensorflow.keras.callbacks import ModelCheckpoint, EarlyStopping\n",
    "from tensorflow.keras.losses import mean_squared_error\n",
    "from tensorflow.keras.optimizers import Adam\n",
    "\n",
    "model1 = Sequential()\n",
    "model1.add(InputLayer((WINDOW_SIZE, 1)))\n",
    "model1.add(LSTM(64))\n",
    "model1.add(Dense(8, activation='relu'))\n",
    "model1.add(Dense(1, activation='linear'))\n",
    "model1.summary()\n",
    "\n",
    "# Assuming you want to use mean squared error as a metric\n",
    "model1.compile(optimizer=Adam(), loss=mean_squared_error, metrics=['mse'])\n"
   ]
  },
  {
   "cell_type": "code",
   "execution_count": 11,
   "metadata": {},
   "outputs": [],
   "source": [
    "cp = ModelCheckpoint(os.path.join(target_folder, 'model1/'), save_best_only=True)\n",
    "model1.compile(optimizer=Adam(learning_rate=0.0001), loss=mean_squared_error, metrics=['mse'])"
   ]
  },
  {
   "cell_type": "code",
   "execution_count": 12,
   "metadata": {},
   "outputs": [
    {
     "name": "stdout",
     "output_type": "stream",
     "text": [
      "Epoch 1/4\n",
      "WARNING:tensorflow:From c:\\Users\\erlih\\repos\\HeroysundBridge-ML\\venv\\Lib\\site-packages\\keras\\src\\utils\\tf_utils.py:492: The name tf.ragged.RaggedTensorValue is deprecated. Please use tf.compat.v1.ragged.RaggedTensorValue instead.\n",
      "\n",
      "WARNING:tensorflow:From c:\\Users\\erlih\\repos\\HeroysundBridge-ML\\venv\\Lib\\site-packages\\keras\\src\\engine\\base_layer_utils.py:384: The name tf.executing_eagerly_outside_functions is deprecated. Please use tf.compat.v1.executing_eagerly_outside_functions instead.\n",
      "\n",
      "612/625 [============================>.] - ETA: 0s - loss: 3302.6621 - mse: 3302.6621INFO:tensorflow:Assets written to: C:\\Users\\erlih\\HeroysundBridge-ML\\model1\\assets\n"
     ]
    },
    {
     "name": "stderr",
     "output_type": "stream",
     "text": [
      "INFO:tensorflow:Assets written to: C:\\Users\\erlih\\HeroysundBridge-ML\\model1\\assets\n"
     ]
    },
    {
     "name": "stdout",
     "output_type": "stream",
     "text": [
      "625/625 [==============================] - 5s 6ms/step - loss: 3287.7419 - mse: 3287.7419 - val_loss: 1780.2303 - val_mse: 1780.2303\n",
      "Epoch 2/4\n",
      "603/625 [===========================>..] - ETA: 0s - loss: 2055.8042 - mse: 2055.8042INFO:tensorflow:Assets written to: C:\\Users\\erlih\\HeroysundBridge-ML\\model1\\assets\n"
     ]
    },
    {
     "name": "stderr",
     "output_type": "stream",
     "text": [
      "INFO:tensorflow:Assets written to: C:\\Users\\erlih\\HeroysundBridge-ML\\model1\\assets\n"
     ]
    },
    {
     "name": "stdout",
     "output_type": "stream",
     "text": [
      "625/625 [==============================] - 3s 5ms/step - loss: 2040.7584 - mse: 2040.7584 - val_loss: 1443.9481 - val_mse: 1443.9481\n",
      "Epoch 3/4\n",
      "621/625 [============================>.] - ETA: 0s - loss: 1319.2091 - mse: 1319.2091INFO:tensorflow:Assets written to: C:\\Users\\erlih\\HeroysundBridge-ML\\model1\\assets\n"
     ]
    },
    {
     "name": "stderr",
     "output_type": "stream",
     "text": [
      "INFO:tensorflow:Assets written to: C:\\Users\\erlih\\HeroysundBridge-ML\\model1\\assets\n"
     ]
    },
    {
     "name": "stdout",
     "output_type": "stream",
     "text": [
      "625/625 [==============================] - 3s 5ms/step - loss: 1317.3134 - mse: 1317.3134 - val_loss: 1194.4797 - val_mse: 1194.4797\n",
      "Epoch 4/4\n",
      "605/625 [============================>.] - ETA: 0s - loss: 816.1631 - mse: 816.1631INFO:tensorflow:Assets written to: C:\\Users\\erlih\\HeroysundBridge-ML\\model1\\assets\n"
     ]
    },
    {
     "name": "stderr",
     "output_type": "stream",
     "text": [
      "INFO:tensorflow:Assets written to: C:\\Users\\erlih\\HeroysundBridge-ML\\model1\\assets\n"
     ]
    },
    {
     "name": "stdout",
     "output_type": "stream",
     "text": [
      "625/625 [==============================] - 4s 6ms/step - loss: 811.1232 - mse: 811.1232 - val_loss: 991.6813 - val_mse: 991.6813\n"
     ]
    },
    {
     "data": {
      "text/plain": [
       "<keras.src.callbacks.History at 0x2013c3f3550>"
      ]
     },
     "execution_count": 12,
     "metadata": {},
     "output_type": "execute_result"
    }
   ],
   "source": [
    "model1.fit(X_train, y_train, validation_data=(X_valid, y_valid), epochs=4, callbacks=[cp])"
   ]
  },
  {
   "cell_type": "code",
   "execution_count": 13,
   "metadata": {},
   "outputs": [
    {
     "name": "stdout",
     "output_type": "stream",
     "text": [
      "WARNING:tensorflow:From c:\\Users\\erlih\\repos\\HeroysundBridge-ML\\venv\\Lib\\site-packages\\keras\\src\\saving\\legacy\\saved_model\\load.py:107: The name tf.gfile.Exists is deprecated. Please use tf.io.gfile.exists instead.\n",
      "\n"
     ]
    },
    {
     "name": "stderr",
     "output_type": "stream",
     "text": [
      "WARNING:tensorflow:From c:\\Users\\erlih\\repos\\HeroysundBridge-ML\\venv\\Lib\\site-packages\\keras\\src\\saving\\legacy\\saved_model\\load.py:107: The name tf.gfile.Exists is deprecated. Please use tf.io.gfile.exists instead.\n",
      "\n"
     ]
    }
   ],
   "source": [
    "from tensorflow.keras.models import load_model\n",
    "\n",
    "# Specify the full path to the model file\n",
    "model_file_path = os.path.join(target_folder, 'model1/')\n",
    "\n",
    "# Load the model from the specified file path\n",
    "model1 = load_model(model_file_path)\n"
   ]
  },
  {
   "cell_type": "code",
   "execution_count": 14,
   "metadata": {},
   "outputs": [
    {
     "name": "stdout",
     "output_type": "stream",
     "text": [
      "625/625 [==============================] - 1s 1ms/step\n"
     ]
    },
    {
     "data": {
      "text/html": [
       "<div>\n",
       "<style scoped>\n",
       "    .dataframe tbody tr th:only-of-type {\n",
       "        vertical-align: middle;\n",
       "    }\n",
       "\n",
       "    .dataframe tbody tr th {\n",
       "        vertical-align: top;\n",
       "    }\n",
       "\n",
       "    .dataframe thead th {\n",
       "        text-align: right;\n",
       "    }\n",
       "</style>\n",
       "<table border=\"1\" class=\"dataframe\">\n",
       "  <thead>\n",
       "    <tr style=\"text-align: right;\">\n",
       "      <th></th>\n",
       "      <th>Train Predictions</th>\n",
       "      <th>Actuals</th>\n",
       "    </tr>\n",
       "  </thead>\n",
       "  <tbody>\n",
       "    <tr>\n",
       "      <th>0</th>\n",
       "      <td>-18.414665</td>\n",
       "      <td>-27.594261</td>\n",
       "    </tr>\n",
       "    <tr>\n",
       "      <th>1</th>\n",
       "      <td>-37.135338</td>\n",
       "      <td>-35.693842</td>\n",
       "    </tr>\n",
       "    <tr>\n",
       "      <th>2</th>\n",
       "      <td>-39.709206</td>\n",
       "      <td>-41.641105</td>\n",
       "    </tr>\n",
       "    <tr>\n",
       "      <th>3</th>\n",
       "      <td>-44.292923</td>\n",
       "      <td>-40.452516</td>\n",
       "    </tr>\n",
       "    <tr>\n",
       "      <th>4</th>\n",
       "      <td>-41.092487</td>\n",
       "      <td>-41.855607</td>\n",
       "    </tr>\n",
       "    <tr>\n",
       "      <th>...</th>\n",
       "      <td>...</td>\n",
       "      <td>...</td>\n",
       "    </tr>\n",
       "    <tr>\n",
       "      <th>19995</th>\n",
       "      <td>0.621044</td>\n",
       "      <td>-5.304325</td>\n",
       "    </tr>\n",
       "    <tr>\n",
       "      <th>19996</th>\n",
       "      <td>-11.690798</td>\n",
       "      <td>-21.041623</td>\n",
       "    </tr>\n",
       "    <tr>\n",
       "      <th>19997</th>\n",
       "      <td>-35.532116</td>\n",
       "      <td>-38.226744</td>\n",
       "    </tr>\n",
       "    <tr>\n",
       "      <th>19998</th>\n",
       "      <td>-44.746605</td>\n",
       "      <td>-74.107251</td>\n",
       "    </tr>\n",
       "    <tr>\n",
       "      <th>19999</th>\n",
       "      <td>-49.130672</td>\n",
       "      <td>-93.686540</td>\n",
       "    </tr>\n",
       "  </tbody>\n",
       "</table>\n",
       "<p>20000 rows × 2 columns</p>\n",
       "</div>"
      ],
      "text/plain": [
       "       Train Predictions    Actuals\n",
       "0             -18.414665 -27.594261\n",
       "1             -37.135338 -35.693842\n",
       "2             -39.709206 -41.641105\n",
       "3             -44.292923 -40.452516\n",
       "4             -41.092487 -41.855607\n",
       "...                  ...        ...\n",
       "19995           0.621044  -5.304325\n",
       "19996         -11.690798 -21.041623\n",
       "19997         -35.532116 -38.226744\n",
       "19998         -44.746605 -74.107251\n",
       "19999         -49.130672 -93.686540\n",
       "\n",
       "[20000 rows x 2 columns]"
      ]
     },
     "execution_count": 14,
     "metadata": {},
     "output_type": "execute_result"
    }
   ],
   "source": [
    "train_predicitons = model1.predict(X_train).flatten()\n",
    "train_results = pd.DataFrame(data={'Train Predictions': train_predicitons,'Actuals': y_train})\n",
    "train_results"
   ]
  },
  {
   "cell_type": "code",
   "execution_count": 15,
   "metadata": {},
   "outputs": [
    {
     "data": {
      "text/plain": [
       "[<matplotlib.lines.Line2D at 0x2014148a6d0>]"
      ]
     },
     "execution_count": 15,
     "metadata": {},
     "output_type": "execute_result"
    },
    {
     "data": {
      "image/png": "[encoded data removed]",
      "text/plain": [
       "<Figure size 640x480 with 1 Axes>"
      ]
     },
     "metadata": {},
     "output_type": "display_data"
    }
   ],
   "source": [
    "plt.plot(train_results['Actuals'], label='Actuals')\n",
    "plt.plot(train_results['Train Predictions'], label='Predictions')"
   ]
  },
  {
   "cell_type": "code",
   "execution_count": 16,
   "metadata": {},
   "outputs": [
    {
     "data": {
      "text/plain": [
       "<matplotlib.legend.Legend at 0x20140c49590>"
      ]
     },
     "execution_count": 16,
     "metadata": {},
     "output_type": "execute_result"
    },
    {
     "data": {
      "image/png": "[encoded data removed]",
      "text/plain": [
       "<Figure size 640x480 with 1 Axes>"
      ]
     },
     "metadata": {},
     "output_type": "display_data"
    }
   ],
   "source": [
    "plt.plot(train_results['Actuals'][50:150], label='Actuals')\n",
    "plt.plot(train_results['Train Predictions'][50:150], label='Predictions')\n",
    "plt.legend()"
   ]
  },
  {
   "cell_type": "markdown",
   "metadata": {},
   "source": [
    "**But we don't really care about how it did on the training, it has seen that data before**"
   ]
  },
  {
   "cell_type": "code",
   "execution_count": 17,
   "metadata": {},
   "outputs": [
    {
     "name": "stdout",
     "output_type": "stream",
     "text": [
      "157/157 [==============================] - 0s 1ms/step\n"
     ]
    },
    {
     "data": {
      "text/html": [
       "<div>\n",
       "<style scoped>\n",
       "    .dataframe tbody tr th:only-of-type {\n",
       "        vertical-align: middle;\n",
       "    }\n",
       "\n",
       "    .dataframe tbody tr th {\n",
       "        vertical-align: top;\n",
       "    }\n",
       "\n",
       "    .dataframe thead th {\n",
       "        text-align: right;\n",
       "    }\n",
       "</style>\n",
       "<table border=\"1\" class=\"dataframe\">\n",
       "  <thead>\n",
       "    <tr style=\"text-align: right;\">\n",
       "      <th></th>\n",
       "      <th>Validation Predictions</th>\n",
       "      <th>Actuals</th>\n",
       "    </tr>\n",
       "  </thead>\n",
       "  <tbody>\n",
       "    <tr>\n",
       "      <th>0</th>\n",
       "      <td>-49.755123</td>\n",
       "      <td>-96.550086</td>\n",
       "    </tr>\n",
       "    <tr>\n",
       "      <th>1</th>\n",
       "      <td>-49.843197</td>\n",
       "      <td>-94.092458</td>\n",
       "    </tr>\n",
       "    <tr>\n",
       "      <th>2</th>\n",
       "      <td>-49.848400</td>\n",
       "      <td>-92.644098</td>\n",
       "    </tr>\n",
       "    <tr>\n",
       "      <th>3</th>\n",
       "      <td>-49.845074</td>\n",
       "      <td>-81.136179</td>\n",
       "    </tr>\n",
       "    <tr>\n",
       "      <th>4</th>\n",
       "      <td>-49.842121</td>\n",
       "      <td>-86.065332</td>\n",
       "    </tr>\n",
       "    <tr>\n",
       "      <th>...</th>\n",
       "      <td>...</td>\n",
       "      <td>...</td>\n",
       "    </tr>\n",
       "    <tr>\n",
       "      <th>4995</th>\n",
       "      <td>-49.822437</td>\n",
       "      <td>-63.889108</td>\n",
       "    </tr>\n",
       "    <tr>\n",
       "      <th>4996</th>\n",
       "      <td>-49.808537</td>\n",
       "      <td>-64.981470</td>\n",
       "    </tr>\n",
       "    <tr>\n",
       "      <th>4997</th>\n",
       "      <td>-49.806988</td>\n",
       "      <td>-67.381354</td>\n",
       "    </tr>\n",
       "    <tr>\n",
       "      <th>4998</th>\n",
       "      <td>-49.816357</td>\n",
       "      <td>-67.859735</td>\n",
       "    </tr>\n",
       "    <tr>\n",
       "      <th>4999</th>\n",
       "      <td>-49.822498</td>\n",
       "      <td>-68.844261</td>\n",
       "    </tr>\n",
       "  </tbody>\n",
       "</table>\n",
       "<p>5000 rows × 2 columns</p>\n",
       "</div>"
      ],
      "text/plain": [
       "      Validation Predictions    Actuals\n",
       "0                 -49.755123 -96.550086\n",
       "1                 -49.843197 -94.092458\n",
       "2                 -49.848400 -92.644098\n",
       "3                 -49.845074 -81.136179\n",
       "4                 -49.842121 -86.065332\n",
       "...                      ...        ...\n",
       "4995              -49.822437 -63.889108\n",
       "4996              -49.808537 -64.981470\n",
       "4997              -49.806988 -67.381354\n",
       "4998              -49.816357 -67.859735\n",
       "4999              -49.822498 -68.844261\n",
       "\n",
       "[5000 rows x 2 columns]"
      ]
     },
     "execution_count": 17,
     "metadata": {},
     "output_type": "execute_result"
    }
   ],
   "source": [
    "val_predictions = model1.predict(X_valid).flatten()\n",
    "val_results = pd.DataFrame(data={'Validation Predictions': val_predictions,'Actuals': y_valid}) \n",
    "val_results"
   ]
  },
  {
   "cell_type": "code",
   "execution_count": 18,
   "metadata": {},
   "outputs": [
    {
     "data": {
      "text/plain": [
       "<matplotlib.legend.Legend at 0x20140e38550>"
      ]
     },
     "execution_count": 18,
     "metadata": {},
     "output_type": "execute_result"
    },
    {
     "data": {
      "image/png": "[encoded data removed]",
      "text/plain": [
       "<Figure size 640x480 with 1 Axes>"
      ]
     },
     "metadata": {},
     "output_type": "display_data"
    }
   ],
   "source": [
    "plt.plot(val_results['Actuals'][1000:1500], label='Actuals')\n",
    "plt.plot(val_results['Validation Predictions'][1000:1500], label='Predictions')\n",
    "plt.legend()    "
   ]
  },
  {
   "cell_type": "code",
   "execution_count": 19,
   "metadata": {},
   "outputs": [
    {
     "name": "stdout",
     "output_type": "stream",
     "text": [
      "Num GPUs Available:  0\n"
     ]
    }
   ],
   "source": [
    "print(\"Num GPUs Available: \", len(tf.config.list_physical_devices('GPU')))\n"
   ]
  },
  {
   "cell_type": "code",
   "execution_count": 1,
   "metadata": {},
   "outputs": [
    {
     "ename": "NameError",
     "evalue": "name 'tf' is not defined",
     "output_type": "error",
     "traceback": [
      "\u001b[1;31m---------------------------------------------------------------------------\u001b[0m",
      "\u001b[1;31mNameError\u001b[0m                                 Traceback (most recent call last)",
      "Cell \u001b[1;32mIn[1], line 1\u001b[0m\n\u001b[1;32m----> 1\u001b[0m \u001b[38;5;28mprint\u001b[39m(\u001b[38;5;124m\"\u001b[39m\u001b[38;5;124mNum CPUs Available: \u001b[39m\u001b[38;5;124m\"\u001b[39m, \u001b[38;5;28mlen\u001b[39m(\u001b[43mtf\u001b[49m\u001b[38;5;241m.\u001b[39mconfig\u001b[38;5;241m.\u001b[39mlist_physical_devices(\u001b[38;5;124m'\u001b[39m\u001b[38;5;124mCPU\u001b[39m\u001b[38;5;124m'\u001b[39m)))\n",
      "\u001b[1;31mNameError\u001b[0m: name 'tf' is not defined"
     ]
    }
   ],
   "source": [
    "print(\"Num CPUs Available: \", len(tf.config.list_physical_devices('CPU')))\n"
   ]
  }
 ],
 "metadata": {
  "kernelspec": {
   "display_name": "venv",
   "language": "python",
   "name": "python3"
  },
  "language_info": {
   "codemirror_mode": {
    "name": "ipython",
    "version": 3
   },
   "file_extension": ".py",
   "mimetype": "text/x-python",
   "name": "python",
   "nbconvert_exporter": "python",
   "pygments_lexer": "ipython3",
   "version": "3.11.7"
  }
 },
 "nbformat": 4,
 "nbformat_minor": 2
}
