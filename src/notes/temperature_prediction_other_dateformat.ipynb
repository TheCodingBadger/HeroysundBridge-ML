{
 "cells": [
  {
   "cell_type": "markdown",
   "metadata": {},
   "source": [
    "**Notes to YT-Video: https://www.youtube.com/watch?v=c0k-YLQGKjY**"
   ]
  },
  {
   "cell_type": "code",
   "execution_count": 1,
   "metadata": {},
   "outputs": [],
   "source": [
    "# Nice imports\n",
    "import os\n",
    "import tensorflow as tf\n",
    "import numpy as np\n",
    "import pandas as pd\n",
    "import matplotlib.pyplot as plt"
   ]
  },
  {
   "cell_type": "code",
   "execution_count": 162,
   "metadata": {},
   "outputs": [
    {
     "name": "stdout",
     "output_type": "stream",
     "text": [
      "[name: \"/device:CPU:0\"\n",
      "device_type: \"CPU\"\n",
      "memory_limit: 268435456\n",
      "locality {\n",
      "}\n",
      "incarnation: 13725435248592680278\n",
      "xla_global_id: -1\n",
      "]\n"
     ]
    }
   ],
   "source": [
    "from tensorflow.python.client import device_lib\n",
    "print(device_lib.list_local_devices())"
   ]
  },
  {
   "cell_type": "code",
   "execution_count": 2,
   "metadata": {},
   "outputs": [],
   "source": [
    "model_name = \"model_4\""
   ]
  },
  {
   "cell_type": "code",
   "execution_count": 3,
   "metadata": {},
   "outputs": [
    {
     "name": "stdout",
     "output_type": "stream",
     "text": [
      "Path to git folder: c:\\Users\\erlih\\repos\\HeroysundBridge-ML\n",
      "Path to asset folder: c:\\Users\\erlih\\repos\\HeroysundBridge-ML-Assets\n"
     ]
    }
   ],
   "source": [
    "git_folder = os.path.abspath(os.path.join(os.getcwd(), '..', '..', '..', 'HeroysundBridge-ML'))\n",
    "asset_folder = os.path.abspath(os.path.join(os.getcwd(), '..', '..', '..', 'HeroysundBridge-ML-Assets'))\n",
    "\n",
    "print(\"Path to git folder:\", git_folder)\n",
    "print(\"Path to asset folder:\", asset_folder)\n"
   ]
  },
  {
   "cell_type": "code",
   "execution_count": 4,
   "metadata": {},
   "outputs": [
    {
     "data": {
      "text/html": [
       "<div>\n",
       "<style scoped>\n",
       "    .dataframe tbody tr th:only-of-type {\n",
       "        vertical-align: middle;\n",
       "    }\n",
       "\n",
       "    .dataframe tbody tr th {\n",
       "        vertical-align: top;\n",
       "    }\n",
       "\n",
       "    .dataframe thead th {\n",
       "        text-align: right;\n",
       "    }\n",
       "</style>\n",
       "<table border=\"1\" class=\"dataframe\">\n",
       "  <thead>\n",
       "    <tr style=\"text-align: right;\">\n",
       "      <th></th>\n",
       "      <th>Hours_since_2019.12.31</th>\n",
       "      <th>Date</th>\n",
       "      <th>Point_1_N_mean</th>\n",
       "      <th>Point_2_N_mean</th>\n",
       "      <th>Point_3_N_mean</th>\n",
       "      <th>Point_4_S_mean</th>\n",
       "      <th>Point_5_S_mean</th>\n",
       "      <th>Point_6_S_mean</th>\n",
       "      <th>Omega_N_mean</th>\n",
       "      <th>Omega_S_mean</th>\n",
       "      <th>PT100_Temperature_mean</th>\n",
       "      <th>Average_Global_Radiation_(1h)</th>\n",
       "      <th>Sunshine_Duration_(1h)</th>\n",
       "      <th>Average_of_Mean_Wind_(1h)</th>\n",
       "      <th>Precipitation_(1h)</th>\n",
       "      <th>Relative_Humidity(1h)</th>\n",
       "    </tr>\n",
       "  </thead>\n",
       "  <tbody>\n",
       "    <tr>\n",
       "      <th>0</th>\n",
       "      <td>5916</td>\n",
       "      <td>2020090212</td>\n",
       "      <td>18.324186</td>\n",
       "      <td>16.439996</td>\n",
       "      <td>12.273690</td>\n",
       "      <td>43.943916</td>\n",
       "      <td>41.496791</td>\n",
       "      <td>32.350760</td>\n",
       "      <td>-0.000391</td>\n",
       "      <td>-0.002391</td>\n",
       "      <td>16.261441</td>\n",
       "      <td>954.0</td>\n",
       "      <td>52.0</td>\n",
       "      <td>0.9</td>\n",
       "      <td>0.1</td>\n",
       "      <td>49.0</td>\n",
       "    </tr>\n",
       "    <tr>\n",
       "      <th>1</th>\n",
       "      <td>5940</td>\n",
       "      <td>2020090312</td>\n",
       "      <td>24.667922</td>\n",
       "      <td>24.155004</td>\n",
       "      <td>18.399311</td>\n",
       "      <td>58.603003</td>\n",
       "      <td>57.104418</td>\n",
       "      <td>46.496854</td>\n",
       "      <td>-0.000950</td>\n",
       "      <td>0.001639</td>\n",
       "      <td>16.858222</td>\n",
       "      <td>966.0</td>\n",
       "      <td>52.0</td>\n",
       "      <td>3.5</td>\n",
       "      <td>0.0</td>\n",
       "      <td>45.0</td>\n",
       "    </tr>\n",
       "    <tr>\n",
       "      <th>2</th>\n",
       "      <td>5962</td>\n",
       "      <td>2020090410</td>\n",
       "      <td>-15.535099</td>\n",
       "      <td>-21.302234</td>\n",
       "      <td>-17.400303</td>\n",
       "      <td>43.134141</td>\n",
       "      <td>39.866109</td>\n",
       "      <td>29.849380</td>\n",
       "      <td>0.004475</td>\n",
       "      <td>0.015130</td>\n",
       "      <td>14.256647</td>\n",
       "      <td>131.6</td>\n",
       "      <td>0.0</td>\n",
       "      <td>2.6</td>\n",
       "      <td>0.5</td>\n",
       "      <td>87.0</td>\n",
       "    </tr>\n",
       "    <tr>\n",
       "      <th>3</th>\n",
       "      <td>5966</td>\n",
       "      <td>2020090414</td>\n",
       "      <td>-10.819921</td>\n",
       "      <td>-15.643464</td>\n",
       "      <td>-12.470669</td>\n",
       "      <td>51.753103</td>\n",
       "      <td>50.788288</td>\n",
       "      <td>37.997157</td>\n",
       "      <td>0.001993</td>\n",
       "      <td>0.014450</td>\n",
       "      <td>14.687477</td>\n",
       "      <td>314.0</td>\n",
       "      <td>0.0</td>\n",
       "      <td>4.0</td>\n",
       "      <td>0.2</td>\n",
       "      <td>86.0</td>\n",
       "    </tr>\n",
       "    <tr>\n",
       "      <th>4</th>\n",
       "      <td>5970</td>\n",
       "      <td>2020090418</td>\n",
       "      <td>-15.399971</td>\n",
       "      <td>-18.856000</td>\n",
       "      <td>-14.976123</td>\n",
       "      <td>52.673533</td>\n",
       "      <td>51.309598</td>\n",
       "      <td>36.255848</td>\n",
       "      <td>0.005713</td>\n",
       "      <td>0.017729</td>\n",
       "      <td>13.874647</td>\n",
       "      <td>236.0</td>\n",
       "      <td>21.0</td>\n",
       "      <td>1.3</td>\n",
       "      <td>0.0</td>\n",
       "      <td>74.0</td>\n",
       "    </tr>\n",
       "    <tr>\n",
       "      <th>...</th>\n",
       "      <td>...</td>\n",
       "      <td>...</td>\n",
       "      <td>...</td>\n",
       "      <td>...</td>\n",
       "      <td>...</td>\n",
       "      <td>...</td>\n",
       "      <td>...</td>\n",
       "      <td>...</td>\n",
       "      <td>...</td>\n",
       "      <td>...</td>\n",
       "      <td>...</td>\n",
       "      <td>...</td>\n",
       "      <td>...</td>\n",
       "      <td>...</td>\n",
       "      <td>...</td>\n",
       "      <td>...</td>\n",
       "    </tr>\n",
       "    <tr>\n",
       "      <th>26807</th>\n",
       "      <td>35082</td>\n",
       "      <td>2023123118</td>\n",
       "      <td>-20.227229</td>\n",
       "      <td>-104.882947</td>\n",
       "      <td>-99.809995</td>\n",
       "      <td>-277.179242</td>\n",
       "      <td>-317.856174</td>\n",
       "      <td>-257.119294</td>\n",
       "      <td>0.000000</td>\n",
       "      <td>-0.040876</td>\n",
       "      <td>-4.738139</td>\n",
       "      <td>-3.0</td>\n",
       "      <td>0.0</td>\n",
       "      <td>1.1</td>\n",
       "      <td>0.0</td>\n",
       "      <td>60.0</td>\n",
       "    </tr>\n",
       "    <tr>\n",
       "      <th>26808</th>\n",
       "      <td>35083</td>\n",
       "      <td>2023123119</td>\n",
       "      <td>-19.488729</td>\n",
       "      <td>-105.022363</td>\n",
       "      <td>-99.542072</td>\n",
       "      <td>-276.450669</td>\n",
       "      <td>-317.423938</td>\n",
       "      <td>-256.383557</td>\n",
       "      <td>0.000000</td>\n",
       "      <td>-0.040332</td>\n",
       "      <td>-4.625233</td>\n",
       "      <td>-3.0</td>\n",
       "      <td>0.0</td>\n",
       "      <td>1.3</td>\n",
       "      <td>0.0</td>\n",
       "      <td>59.0</td>\n",
       "    </tr>\n",
       "    <tr>\n",
       "      <th>26809</th>\n",
       "      <td>35084</td>\n",
       "      <td>2023123120</td>\n",
       "      <td>-21.503484</td>\n",
       "      <td>-107.888565</td>\n",
       "      <td>-100.934269</td>\n",
       "      <td>-278.409798</td>\n",
       "      <td>-319.099933</td>\n",
       "      <td>-258.295017</td>\n",
       "      <td>0.000000</td>\n",
       "      <td>-0.044919</td>\n",
       "      <td>-4.645648</td>\n",
       "      <td>-2.9</td>\n",
       "      <td>0.0</td>\n",
       "      <td>1.3</td>\n",
       "      <td>0.0</td>\n",
       "      <td>57.0</td>\n",
       "    </tr>\n",
       "    <tr>\n",
       "      <th>26810</th>\n",
       "      <td>35085</td>\n",
       "      <td>2023123121</td>\n",
       "      <td>-22.667015</td>\n",
       "      <td>-109.260424</td>\n",
       "      <td>-102.036887</td>\n",
       "      <td>-279.507222</td>\n",
       "      <td>-320.289949</td>\n",
       "      <td>-259.567834</td>\n",
       "      <td>0.000000</td>\n",
       "      <td>-0.048216</td>\n",
       "      <td>-4.756255</td>\n",
       "      <td>-2.9</td>\n",
       "      <td>0.0</td>\n",
       "      <td>1.3</td>\n",
       "      <td>0.0</td>\n",
       "      <td>56.0</td>\n",
       "    </tr>\n",
       "    <tr>\n",
       "      <th>26811</th>\n",
       "      <td>35086</td>\n",
       "      <td>2023123122</td>\n",
       "      <td>-22.800138</td>\n",
       "      <td>-110.541549</td>\n",
       "      <td>-102.633739</td>\n",
       "      <td>-280.061310</td>\n",
       "      <td>-320.786081</td>\n",
       "      <td>-259.985386</td>\n",
       "      <td>0.000000</td>\n",
       "      <td>-0.049865</td>\n",
       "      <td>-4.433085</td>\n",
       "      <td>-3.2</td>\n",
       "      <td>0.0</td>\n",
       "      <td>1.0</td>\n",
       "      <td>0.0</td>\n",
       "      <td>56.0</td>\n",
       "    </tr>\n",
       "  </tbody>\n",
       "</table>\n",
       "<p>26812 rows × 16 columns</p>\n",
       "</div>"
      ],
      "text/plain": [
       "       Hours_since_2019.12.31        Date  Point_1_N_mean  Point_2_N_mean  \\\n",
       "0                        5916  2020090212       18.324186       16.439996   \n",
       "1                        5940  2020090312       24.667922       24.155004   \n",
       "2                        5962  2020090410      -15.535099      -21.302234   \n",
       "3                        5966  2020090414      -10.819921      -15.643464   \n",
       "4                        5970  2020090418      -15.399971      -18.856000   \n",
       "...                       ...         ...             ...             ...   \n",
       "26807                   35082  2023123118      -20.227229     -104.882947   \n",
       "26808                   35083  2023123119      -19.488729     -105.022363   \n",
       "26809                   35084  2023123120      -21.503484     -107.888565   \n",
       "26810                   35085  2023123121      -22.667015     -109.260424   \n",
       "26811                   35086  2023123122      -22.800138     -110.541549   \n",
       "\n",
       "       Point_3_N_mean  Point_4_S_mean  Point_5_S_mean  Point_6_S_mean  \\\n",
       "0           12.273690       43.943916       41.496791       32.350760   \n",
       "1           18.399311       58.603003       57.104418       46.496854   \n",
       "2          -17.400303       43.134141       39.866109       29.849380   \n",
       "3          -12.470669       51.753103       50.788288       37.997157   \n",
       "4          -14.976123       52.673533       51.309598       36.255848   \n",
       "...               ...             ...             ...             ...   \n",
       "26807      -99.809995     -277.179242     -317.856174     -257.119294   \n",
       "26808      -99.542072     -276.450669     -317.423938     -256.383557   \n",
       "26809     -100.934269     -278.409798     -319.099933     -258.295017   \n",
       "26810     -102.036887     -279.507222     -320.289949     -259.567834   \n",
       "26811     -102.633739     -280.061310     -320.786081     -259.985386   \n",
       "\n",
       "       Omega_N_mean  Omega_S_mean  PT100_Temperature_mean  \\\n",
       "0         -0.000391     -0.002391               16.261441   \n",
       "1         -0.000950      0.001639               16.858222   \n",
       "2          0.004475      0.015130               14.256647   \n",
       "3          0.001993      0.014450               14.687477   \n",
       "4          0.005713      0.017729               13.874647   \n",
       "...             ...           ...                     ...   \n",
       "26807      0.000000     -0.040876               -4.738139   \n",
       "26808      0.000000     -0.040332               -4.625233   \n",
       "26809      0.000000     -0.044919               -4.645648   \n",
       "26810      0.000000     -0.048216               -4.756255   \n",
       "26811      0.000000     -0.049865               -4.433085   \n",
       "\n",
       "       Average_Global_Radiation_(1h)  Sunshine_Duration_(1h)  \\\n",
       "0                              954.0                    52.0   \n",
       "1                              966.0                    52.0   \n",
       "2                              131.6                     0.0   \n",
       "3                              314.0                     0.0   \n",
       "4                              236.0                    21.0   \n",
       "...                              ...                     ...   \n",
       "26807                           -3.0                     0.0   \n",
       "26808                           -3.0                     0.0   \n",
       "26809                           -2.9                     0.0   \n",
       "26810                           -2.9                     0.0   \n",
       "26811                           -3.2                     0.0   \n",
       "\n",
       "       Average_of_Mean_Wind_(1h)  Precipitation_(1h)  Relative_Humidity(1h)  \n",
       "0                            0.9                 0.1                   49.0  \n",
       "1                            3.5                 0.0                   45.0  \n",
       "2                            2.6                 0.5                   87.0  \n",
       "3                            4.0                 0.2                   86.0  \n",
       "4                            1.3                 0.0                   74.0  \n",
       "...                          ...                 ...                    ...  \n",
       "26807                        1.1                 0.0                   60.0  \n",
       "26808                        1.3                 0.0                   59.0  \n",
       "26809                        1.3                 0.0                   57.0  \n",
       "26810                        1.3                 0.0                   56.0  \n",
       "26811                        1.0                 0.0                   56.0  \n",
       "\n",
       "[26812 rows x 16 columns]"
      ]
     },
     "execution_count": 4,
     "metadata": {},
     "output_type": "execute_result"
    }
   ],
   "source": [
    "df = pd.read_parquet(os.path.join(asset_folder, 'silver','combined_data_v01.parquet'))\n",
    "df"
   ]
  },
  {
   "cell_type": "markdown",
   "metadata": {},
   "source": [
    "**Making index (First column) set up in the correct way**"
   ]
  },
  {
   "cell_type": "code",
   "execution_count": 5,
   "metadata": {},
   "outputs": [
    {
     "data": {
      "text/html": [
       "<div>\n",
       "<style scoped>\n",
       "    .dataframe tbody tr th:only-of-type {\n",
       "        vertical-align: middle;\n",
       "    }\n",
       "\n",
       "    .dataframe tbody tr th {\n",
       "        vertical-align: top;\n",
       "    }\n",
       "\n",
       "    .dataframe thead th {\n",
       "        text-align: right;\n",
       "    }\n",
       "</style>\n",
       "<table border=\"1\" class=\"dataframe\">\n",
       "  <thead>\n",
       "    <tr style=\"text-align: right;\">\n",
       "      <th></th>\n",
       "      <th>Date</th>\n",
       "      <th>Point_1_N_mean</th>\n",
       "      <th>Point_2_N_mean</th>\n",
       "      <th>Point_3_N_mean</th>\n",
       "      <th>Point_4_S_mean</th>\n",
       "      <th>Point_5_S_mean</th>\n",
       "      <th>Point_6_S_mean</th>\n",
       "      <th>Omega_N_mean</th>\n",
       "      <th>Omega_S_mean</th>\n",
       "      <th>PT100_Temperature_mean</th>\n",
       "      <th>Average_Global_Radiation_(1h)</th>\n",
       "      <th>Sunshine_Duration_(1h)</th>\n",
       "      <th>Average_of_Mean_Wind_(1h)</th>\n",
       "      <th>Precipitation_(1h)</th>\n",
       "      <th>Relative_Humidity(1h)</th>\n",
       "    </tr>\n",
       "    <tr>\n",
       "      <th>Hours_since_2019.12.31</th>\n",
       "      <th></th>\n",
       "      <th></th>\n",
       "      <th></th>\n",
       "      <th></th>\n",
       "      <th></th>\n",
       "      <th></th>\n",
       "      <th></th>\n",
       "      <th></th>\n",
       "      <th></th>\n",
       "      <th></th>\n",
       "      <th></th>\n",
       "      <th></th>\n",
       "      <th></th>\n",
       "      <th></th>\n",
       "      <th></th>\n",
       "    </tr>\n",
       "  </thead>\n",
       "  <tbody>\n",
       "    <tr>\n",
       "      <th>5916</th>\n",
       "      <td>2020090212</td>\n",
       "      <td>18.324186</td>\n",
       "      <td>16.439996</td>\n",
       "      <td>12.273690</td>\n",
       "      <td>43.943916</td>\n",
       "      <td>41.496791</td>\n",
       "      <td>32.350760</td>\n",
       "      <td>-0.000391</td>\n",
       "      <td>-0.002391</td>\n",
       "      <td>16.261441</td>\n",
       "      <td>954.0</td>\n",
       "      <td>52.0</td>\n",
       "      <td>0.9</td>\n",
       "      <td>0.1</td>\n",
       "      <td>49.0</td>\n",
       "    </tr>\n",
       "    <tr>\n",
       "      <th>5940</th>\n",
       "      <td>2020090312</td>\n",
       "      <td>24.667922</td>\n",
       "      <td>24.155004</td>\n",
       "      <td>18.399311</td>\n",
       "      <td>58.603003</td>\n",
       "      <td>57.104418</td>\n",
       "      <td>46.496854</td>\n",
       "      <td>-0.000950</td>\n",
       "      <td>0.001639</td>\n",
       "      <td>16.858222</td>\n",
       "      <td>966.0</td>\n",
       "      <td>52.0</td>\n",
       "      <td>3.5</td>\n",
       "      <td>0.0</td>\n",
       "      <td>45.0</td>\n",
       "    </tr>\n",
       "    <tr>\n",
       "      <th>5962</th>\n",
       "      <td>2020090410</td>\n",
       "      <td>-15.535099</td>\n",
       "      <td>-21.302234</td>\n",
       "      <td>-17.400303</td>\n",
       "      <td>43.134141</td>\n",
       "      <td>39.866109</td>\n",
       "      <td>29.849380</td>\n",
       "      <td>0.004475</td>\n",
       "      <td>0.015130</td>\n",
       "      <td>14.256647</td>\n",
       "      <td>131.6</td>\n",
       "      <td>0.0</td>\n",
       "      <td>2.6</td>\n",
       "      <td>0.5</td>\n",
       "      <td>87.0</td>\n",
       "    </tr>\n",
       "    <tr>\n",
       "      <th>5966</th>\n",
       "      <td>2020090414</td>\n",
       "      <td>-10.819921</td>\n",
       "      <td>-15.643464</td>\n",
       "      <td>-12.470669</td>\n",
       "      <td>51.753103</td>\n",
       "      <td>50.788288</td>\n",
       "      <td>37.997157</td>\n",
       "      <td>0.001993</td>\n",
       "      <td>0.014450</td>\n",
       "      <td>14.687477</td>\n",
       "      <td>314.0</td>\n",
       "      <td>0.0</td>\n",
       "      <td>4.0</td>\n",
       "      <td>0.2</td>\n",
       "      <td>86.0</td>\n",
       "    </tr>\n",
       "    <tr>\n",
       "      <th>5970</th>\n",
       "      <td>2020090418</td>\n",
       "      <td>-15.399971</td>\n",
       "      <td>-18.856000</td>\n",
       "      <td>-14.976123</td>\n",
       "      <td>52.673533</td>\n",
       "      <td>51.309598</td>\n",
       "      <td>36.255848</td>\n",
       "      <td>0.005713</td>\n",
       "      <td>0.017729</td>\n",
       "      <td>13.874647</td>\n",
       "      <td>236.0</td>\n",
       "      <td>21.0</td>\n",
       "      <td>1.3</td>\n",
       "      <td>0.0</td>\n",
       "      <td>74.0</td>\n",
       "    </tr>\n",
       "    <tr>\n",
       "      <th>...</th>\n",
       "      <td>...</td>\n",
       "      <td>...</td>\n",
       "      <td>...</td>\n",
       "      <td>...</td>\n",
       "      <td>...</td>\n",
       "      <td>...</td>\n",
       "      <td>...</td>\n",
       "      <td>...</td>\n",
       "      <td>...</td>\n",
       "      <td>...</td>\n",
       "      <td>...</td>\n",
       "      <td>...</td>\n",
       "      <td>...</td>\n",
       "      <td>...</td>\n",
       "      <td>...</td>\n",
       "    </tr>\n",
       "    <tr>\n",
       "      <th>35082</th>\n",
       "      <td>2023123118</td>\n",
       "      <td>-20.227229</td>\n",
       "      <td>-104.882947</td>\n",
       "      <td>-99.809995</td>\n",
       "      <td>-277.179242</td>\n",
       "      <td>-317.856174</td>\n",
       "      <td>-257.119294</td>\n",
       "      <td>0.000000</td>\n",
       "      <td>-0.040876</td>\n",
       "      <td>-4.738139</td>\n",
       "      <td>-3.0</td>\n",
       "      <td>0.0</td>\n",
       "      <td>1.1</td>\n",
       "      <td>0.0</td>\n",
       "      <td>60.0</td>\n",
       "    </tr>\n",
       "    <tr>\n",
       "      <th>35083</th>\n",
       "      <td>2023123119</td>\n",
       "      <td>-19.488729</td>\n",
       "      <td>-105.022363</td>\n",
       "      <td>-99.542072</td>\n",
       "      <td>-276.450669</td>\n",
       "      <td>-317.423938</td>\n",
       "      <td>-256.383557</td>\n",
       "      <td>0.000000</td>\n",
       "      <td>-0.040332</td>\n",
       "      <td>-4.625233</td>\n",
       "      <td>-3.0</td>\n",
       "      <td>0.0</td>\n",
       "      <td>1.3</td>\n",
       "      <td>0.0</td>\n",
       "      <td>59.0</td>\n",
       "    </tr>\n",
       "    <tr>\n",
       "      <th>35084</th>\n",
       "      <td>2023123120</td>\n",
       "      <td>-21.503484</td>\n",
       "      <td>-107.888565</td>\n",
       "      <td>-100.934269</td>\n",
       "      <td>-278.409798</td>\n",
       "      <td>-319.099933</td>\n",
       "      <td>-258.295017</td>\n",
       "      <td>0.000000</td>\n",
       "      <td>-0.044919</td>\n",
       "      <td>-4.645648</td>\n",
       "      <td>-2.9</td>\n",
       "      <td>0.0</td>\n",
       "      <td>1.3</td>\n",
       "      <td>0.0</td>\n",
       "      <td>57.0</td>\n",
       "    </tr>\n",
       "    <tr>\n",
       "      <th>35085</th>\n",
       "      <td>2023123121</td>\n",
       "      <td>-22.667015</td>\n",
       "      <td>-109.260424</td>\n",
       "      <td>-102.036887</td>\n",
       "      <td>-279.507222</td>\n",
       "      <td>-320.289949</td>\n",
       "      <td>-259.567834</td>\n",
       "      <td>0.000000</td>\n",
       "      <td>-0.048216</td>\n",
       "      <td>-4.756255</td>\n",
       "      <td>-2.9</td>\n",
       "      <td>0.0</td>\n",
       "      <td>1.3</td>\n",
       "      <td>0.0</td>\n",
       "      <td>56.0</td>\n",
       "    </tr>\n",
       "    <tr>\n",
       "      <th>35086</th>\n",
       "      <td>2023123122</td>\n",
       "      <td>-22.800138</td>\n",
       "      <td>-110.541549</td>\n",
       "      <td>-102.633739</td>\n",
       "      <td>-280.061310</td>\n",
       "      <td>-320.786081</td>\n",
       "      <td>-259.985386</td>\n",
       "      <td>0.000000</td>\n",
       "      <td>-0.049865</td>\n",
       "      <td>-4.433085</td>\n",
       "      <td>-3.2</td>\n",
       "      <td>0.0</td>\n",
       "      <td>1.0</td>\n",
       "      <td>0.0</td>\n",
       "      <td>56.0</td>\n",
       "    </tr>\n",
       "  </tbody>\n",
       "</table>\n",
       "<p>26812 rows × 15 columns</p>\n",
       "</div>"
      ],
      "text/plain": [
       "                              Date  Point_1_N_mean  Point_2_N_mean  \\\n",
       "Hours_since_2019.12.31                                               \n",
       "5916                    2020090212       18.324186       16.439996   \n",
       "5940                    2020090312       24.667922       24.155004   \n",
       "5962                    2020090410      -15.535099      -21.302234   \n",
       "5966                    2020090414      -10.819921      -15.643464   \n",
       "5970                    2020090418      -15.399971      -18.856000   \n",
       "...                            ...             ...             ...   \n",
       "35082                   2023123118      -20.227229     -104.882947   \n",
       "35083                   2023123119      -19.488729     -105.022363   \n",
       "35084                   2023123120      -21.503484     -107.888565   \n",
       "35085                   2023123121      -22.667015     -109.260424   \n",
       "35086                   2023123122      -22.800138     -110.541549   \n",
       "\n",
       "                        Point_3_N_mean  Point_4_S_mean  Point_5_S_mean  \\\n",
       "Hours_since_2019.12.31                                                   \n",
       "5916                         12.273690       43.943916       41.496791   \n",
       "5940                         18.399311       58.603003       57.104418   \n",
       "5962                        -17.400303       43.134141       39.866109   \n",
       "5966                        -12.470669       51.753103       50.788288   \n",
       "5970                        -14.976123       52.673533       51.309598   \n",
       "...                                ...             ...             ...   \n",
       "35082                       -99.809995     -277.179242     -317.856174   \n",
       "35083                       -99.542072     -276.450669     -317.423938   \n",
       "35084                      -100.934269     -278.409798     -319.099933   \n",
       "35085                      -102.036887     -279.507222     -320.289949   \n",
       "35086                      -102.633739     -280.061310     -320.786081   \n",
       "\n",
       "                        Point_6_S_mean  Omega_N_mean  Omega_S_mean  \\\n",
       "Hours_since_2019.12.31                                               \n",
       "5916                         32.350760     -0.000391     -0.002391   \n",
       "5940                         46.496854     -0.000950      0.001639   \n",
       "5962                         29.849380      0.004475      0.015130   \n",
       "5966                         37.997157      0.001993      0.014450   \n",
       "5970                         36.255848      0.005713      0.017729   \n",
       "...                                ...           ...           ...   \n",
       "35082                      -257.119294      0.000000     -0.040876   \n",
       "35083                      -256.383557      0.000000     -0.040332   \n",
       "35084                      -258.295017      0.000000     -0.044919   \n",
       "35085                      -259.567834      0.000000     -0.048216   \n",
       "35086                      -259.985386      0.000000     -0.049865   \n",
       "\n",
       "                        PT100_Temperature_mean  Average_Global_Radiation_(1h)  \\\n",
       "Hours_since_2019.12.31                                                          \n",
       "5916                                 16.261441                          954.0   \n",
       "5940                                 16.858222                          966.0   \n",
       "5962                                 14.256647                          131.6   \n",
       "5966                                 14.687477                          314.0   \n",
       "5970                                 13.874647                          236.0   \n",
       "...                                        ...                            ...   \n",
       "35082                                -4.738139                           -3.0   \n",
       "35083                                -4.625233                           -3.0   \n",
       "35084                                -4.645648                           -2.9   \n",
       "35085                                -4.756255                           -2.9   \n",
       "35086                                -4.433085                           -3.2   \n",
       "\n",
       "                        Sunshine_Duration_(1h)  Average_of_Mean_Wind_(1h)  \\\n",
       "Hours_since_2019.12.31                                                      \n",
       "5916                                      52.0                        0.9   \n",
       "5940                                      52.0                        3.5   \n",
       "5962                                       0.0                        2.6   \n",
       "5966                                       0.0                        4.0   \n",
       "5970                                      21.0                        1.3   \n",
       "...                                        ...                        ...   \n",
       "35082                                      0.0                        1.1   \n",
       "35083                                      0.0                        1.3   \n",
       "35084                                      0.0                        1.3   \n",
       "35085                                      0.0                        1.3   \n",
       "35086                                      0.0                        1.0   \n",
       "\n",
       "                        Precipitation_(1h)  Relative_Humidity(1h)  \n",
       "Hours_since_2019.12.31                                             \n",
       "5916                                   0.1                   49.0  \n",
       "5940                                   0.0                   45.0  \n",
       "5962                                   0.5                   87.0  \n",
       "5966                                   0.2                   86.0  \n",
       "5970                                   0.0                   74.0  \n",
       "...                                    ...                    ...  \n",
       "35082                                  0.0                   60.0  \n",
       "35083                                  0.0                   59.0  \n",
       "35084                                  0.0                   57.0  \n",
       "35085                                  0.0                   56.0  \n",
       "35086                                  0.0                   56.0  \n",
       "\n",
       "[26812 rows x 15 columns]"
      ]
     },
     "execution_count": 5,
     "metadata": {},
     "output_type": "execute_result"
    }
   ],
   "source": [
    "df = df.set_index('Hours_since_2019.12.31')\n",
    "df"
   ]
  },
  {
   "cell_type": "code",
   "execution_count": 6,
   "metadata": {},
   "outputs": [
    {
     "data": {
      "image/png": "[encoded data removed]",
      "text/plain": [
       "<Figure size 640x480 with 1 Axes>"
      ]
     },
     "metadata": {},
     "output_type": "display_data"
    }
   ],
   "source": [
    "# Plot the time series\n",
    "plt.plot(df.index)\n",
    "\n",
    "# Add labels and title\n",
    "plt.xlabel('Rows of the DataFrame')\n",
    "plt.ylabel('Date')\n",
    "plt.title('Time Series Plot')\n",
    "\n",
    "# Show the plot\n",
    "plt.show()"
   ]
  },
  {
   "cell_type": "code",
   "execution_count": 7,
   "metadata": {},
   "outputs": [
    {
     "data": {
      "text/plain": [
       "<Axes: xlabel='Hours_since_2019.12.31'>"
      ]
     },
     "execution_count": 7,
     "metadata": {},
     "output_type": "execute_result"
    },
    {
     "data": {
      "image/png": "[encoded data removed]",
      "text/plain": [
       "<Figure size 640x480 with 1 Axes>"
      ]
     },
     "metadata": {},
     "output_type": "display_data"
    }
   ],
   "source": [
    "temp = df['PT100_Temperature_mean']\n",
    "temp.plot()"
   ]
  },
  {
   "cell_type": "code",
   "execution_count": 8,
   "metadata": {},
   "outputs": [],
   "source": [
    " def df_to_X_y(df, window_size = 5):\n",
    "    df_as_np = df.to_numpy()\n",
    "    X = []\n",
    "    y = []\n",
    "    for i in range(len(df_as_np) - window_size):\n",
    "        row = [[a] for a in df_as_np[i:i+window_size]]\n",
    "        X.append(row)\n",
    "        label = df_as_np[i+window_size]\n",
    "        y.append(label)\n",
    "    return np.array(X), np.array(y)"
   ]
  },
  {
   "cell_type": "code",
   "execution_count": 9,
   "metadata": {},
   "outputs": [
    {
     "name": "stdout",
     "output_type": "stream",
     "text": [
      "[13.37402974 13.06079475 12.57604904 ... -4.64564789 -4.75625481\n",
      " -4.43308486]\n"
     ]
    }
   ],
   "source": [
    "WINDOW_SIZE = 5\n",
    "X, y = df_to_X_y(temp, window_size = WINDOW_SIZE)\n",
    "X.shape, y.shape\n",
    "print(y)"
   ]
  },
  {
   "cell_type": "code",
   "execution_count": 10,
   "metadata": {},
   "outputs": [
    {
     "data": {
      "text/plain": [
       "((20000, 5, 1), (5000, 5, 1), (1807, 5, 1))"
      ]
     },
     "execution_count": 10,
     "metadata": {},
     "output_type": "execute_result"
    }
   ],
   "source": [
    "X_train, y_train = X[:20000], y[:20000]\n",
    "X_valid, y_valid = X[20000:25000], y[20000:25000]\n",
    "X_test, y_test = X[25000:], y[25000:]\n",
    "X_train.shape, X_valid.shape, X_test.shape"
   ]
  },
  {
   "cell_type": "code",
   "execution_count": 153,
   "metadata": {},
   "outputs": [
    {
     "name": "stdout",
     "output_type": "stream",
     "text": [
      "Model: \"sequential_9\"\n",
      "_________________________________________________________________\n",
      " Layer (type)                Output Shape              Param #   \n",
      "=================================================================\n",
      " lstm_9 (LSTM)               (None, 64)                16896     \n",
      "                                                                 \n",
      " dense_18 (Dense)            (None, 8)                 520       \n",
      "                                                                 \n",
      " dense_19 (Dense)            (None, 1)                 9         \n",
      "                                                                 \n",
      "=================================================================\n",
      "Total params: 17425 (68.07 KB)\n",
      "Trainable params: 17425 (68.07 KB)\n",
      "Non-trainable params: 0 (0.00 Byte)\n",
      "_________________________________________________________________\n"
     ]
    }
   ],
   "source": [
    "from tensorflow.keras.models import Sequential\n",
    "from tensorflow.keras.layers import *\n",
    "from tensorflow.keras.callbacks import ModelCheckpoint, EarlyStopping\n",
    "from tensorflow.keras.losses import mean_squared_error\n",
    "from tensorflow.keras.optimizers import Adam\n",
    "\n",
    "model = Sequential()\n",
    "model.add(InputLayer((WINDOW_SIZE, 1)))\n",
    "model.add(LSTM(64))\n",
    "model.add(Dense(8, activation='relu'))\n",
    "model.add(Dense(1, activation='linear'))\n",
    "model.summary()\n",
    "\n",
    "# Assuming you want to use mean squared error as a metric\n",
    "model.compile(optimizer=Adam(), loss=mean_squared_error, metrics=['mse'])\n"
   ]
  },
  {
   "cell_type": "code",
   "execution_count": 154,
   "metadata": {},
   "outputs": [],
   "source": [
    "cp = ModelCheckpoint(os.path.join(str(target_folder), str(model_name)), save_best_only=True)\n",
    "model.compile(optimizer=Adam(learning_rate=0.0001), loss=mean_squared_error, metrics=['mse'])"
   ]
  },
  {
   "cell_type": "code",
   "execution_count": 155,
   "metadata": {},
   "outputs": [
    {
     "name": "stdout",
     "output_type": "stream",
     "text": [
      "Epoch 1/100\n"
     ]
    },
    {
     "name": "stdout",
     "output_type": "stream",
     "text": [
      "604/625 [===========================>..] - ETA: 0s - loss: 45.8146 - mse: 45.8146INFO:tensorflow:Assets written to: C:\\Users\\erlih\\HeroysundBridge-ML\\model_4\\assets\n"
     ]
    },
    {
     "name": "stderr",
     "output_type": "stream",
     "text": [
      "INFO:tensorflow:Assets written to: C:\\Users\\erlih\\HeroysundBridge-ML\\model_4\\assets\n"
     ]
    },
    {
     "name": "stdout",
     "output_type": "stream",
     "text": [
      "625/625 [==============================] - 5s 6ms/step - loss: 44.7985 - mse: 44.7985 - val_loss: 32.2875 - val_mse: 32.2875\n",
      "Epoch 2/100\n",
      "611/625 [============================>.] - ETA: 0s - loss: 7.2226 - mse: 7.2226INFO:tensorflow:Assets written to: C:\\Users\\erlih\\HeroysundBridge-ML\\model_4\\assets\n"
     ]
    },
    {
     "name": "stderr",
     "output_type": "stream",
     "text": [
      "INFO:tensorflow:Assets written to: C:\\Users\\erlih\\HeroysundBridge-ML\\model_4\\assets\n"
     ]
    },
    {
     "name": "stdout",
     "output_type": "stream",
     "text": [
      "625/625 [==============================] - 3s 5ms/step - loss: 7.1544 - mse: 7.1544 - val_loss: 7.1096 - val_mse: 7.1096\n",
      "Epoch 3/100\n",
      "625/625 [==============================] - ETA: 0s - loss: 2.0679 - mse: 2.0679INFO:tensorflow:Assets written to: C:\\Users\\erlih\\HeroysundBridge-ML\\model_4\\assets\n"
     ]
    },
    {
     "name": "stderr",
     "output_type": "stream",
     "text": [
      "INFO:tensorflow:Assets written to: C:\\Users\\erlih\\HeroysundBridge-ML\\model_4\\assets\n"
     ]
    },
    {
     "name": "stdout",
     "output_type": "stream",
     "text": [
      "625/625 [==============================] - 4s 6ms/step - loss: 2.0679 - mse: 2.0679 - val_loss: 2.5424 - val_mse: 2.5424\n",
      "Epoch 4/100\n",
      "613/625 [============================>.] - ETA: 0s - loss: 0.9917 - mse: 0.9917INFO:tensorflow:Assets written to: C:\\Users\\erlih\\HeroysundBridge-ML\\model_4\\assets\n"
     ]
    },
    {
     "name": "stderr",
     "output_type": "stream",
     "text": [
      "INFO:tensorflow:Assets written to: C:\\Users\\erlih\\HeroysundBridge-ML\\model_4\\assets\n"
     ]
    },
    {
     "name": "stdout",
     "output_type": "stream",
     "text": [
      "625/625 [==============================] - 3s 5ms/step - loss: 0.9819 - mse: 0.9819 - val_loss: 1.1272 - val_mse: 1.1272\n",
      "Epoch 5/100\n",
      "615/625 [============================>.] - ETA: 0s - loss: 0.5439 - mse: 0.5439INFO:tensorflow:Assets written to: C:\\Users\\erlih\\HeroysundBridge-ML\\model_4\\assets\n"
     ]
    },
    {
     "name": "stderr",
     "output_type": "stream",
     "text": [
      "INFO:tensorflow:Assets written to: C:\\Users\\erlih\\HeroysundBridge-ML\\model_4\\assets\n"
     ]
    },
    {
     "name": "stdout",
     "output_type": "stream",
     "text": [
      "625/625 [==============================] - 3s 5ms/step - loss: 0.5440 - mse: 0.5440 - val_loss: 0.5629 - val_mse: 0.5629\n",
      "Epoch 6/100\n",
      "613/625 [============================>.] - ETA: 0s - loss: 0.3371 - mse: 0.3371INFO:tensorflow:Assets written to: C:\\Users\\erlih\\HeroysundBridge-ML\\model_4\\assets\n"
     ]
    },
    {
     "name": "stderr",
     "output_type": "stream",
     "text": [
      "INFO:tensorflow:Assets written to: C:\\Users\\erlih\\HeroysundBridge-ML\\model_4\\assets\n"
     ]
    },
    {
     "name": "stdout",
     "output_type": "stream",
     "text": [
      "625/625 [==============================] - 3s 5ms/step - loss: 0.3336 - mse: 0.3336 - val_loss: 0.3222 - val_mse: 0.3222\n",
      "Epoch 7/100\n",
      "606/625 [============================>.] - ETA: 0s - loss: 0.2281 - mse: 0.2281INFO:tensorflow:Assets written to: C:\\Users\\erlih\\HeroysundBridge-ML\\model_4\\assets\n"
     ]
    },
    {
     "name": "stderr",
     "output_type": "stream",
     "text": [
      "INFO:tensorflow:Assets written to: C:\\Users\\erlih\\HeroysundBridge-ML\\model_4\\assets\n"
     ]
    },
    {
     "name": "stdout",
     "output_type": "stream",
     "text": [
      "625/625 [==============================] - 3s 5ms/step - loss: 0.2264 - mse: 0.2264 - val_loss: 0.2159 - val_mse: 0.2159\n",
      "Epoch 8/100\n",
      "622/625 [============================>.] - ETA: 0s - loss: 0.1543 - mse: 0.1543INFO:tensorflow:Assets written to: C:\\Users\\erlih\\HeroysundBridge-ML\\model_4\\assets\n"
     ]
    },
    {
     "name": "stderr",
     "output_type": "stream",
     "text": [
      "INFO:tensorflow:Assets written to: C:\\Users\\erlih\\HeroysundBridge-ML\\model_4\\assets\n"
     ]
    },
    {
     "name": "stdout",
     "output_type": "stream",
     "text": [
      "625/625 [==============================] - 3s 5ms/step - loss: 0.1545 - mse: 0.1545 - val_loss: 0.1401 - val_mse: 0.1401\n",
      "Epoch 9/100\n",
      "602/625 [===========================>..] - ETA: 0s - loss: 0.1187 - mse: 0.1187INFO:tensorflow:Assets written to: C:\\Users\\erlih\\HeroysundBridge-ML\\model_4\\assets\n"
     ]
    },
    {
     "name": "stderr",
     "output_type": "stream",
     "text": [
      "INFO:tensorflow:Assets written to: C:\\Users\\erlih\\HeroysundBridge-ML\\model_4\\assets\n"
     ]
    },
    {
     "name": "stdout",
     "output_type": "stream",
     "text": [
      "625/625 [==============================] - 4s 6ms/step - loss: 0.1185 - mse: 0.1185 - val_loss: 0.1209 - val_mse: 0.1209\n",
      "Epoch 10/100\n",
      "608/625 [============================>.] - ETA: 0s - loss: 0.1060 - mse: 0.1060INFO:tensorflow:Assets written to: C:\\Users\\erlih\\HeroysundBridge-ML\\model_4\\assets\n"
     ]
    },
    {
     "name": "stderr",
     "output_type": "stream",
     "text": [
      "INFO:tensorflow:Assets written to: C:\\Users\\erlih\\HeroysundBridge-ML\\model_4\\assets\n"
     ]
    },
    {
     "name": "stdout",
     "output_type": "stream",
     "text": [
      "625/625 [==============================] - 3s 5ms/step - loss: 0.1058 - mse: 0.1058 - val_loss: 0.1101 - val_mse: 0.1101\n",
      "Epoch 11/100\n",
      "602/625 [===========================>..] - ETA: 0s - loss: 0.0983 - mse: 0.0983INFO:tensorflow:Assets written to: C:\\Users\\erlih\\HeroysundBridge-ML\\model_4\\assets\n"
     ]
    },
    {
     "name": "stderr",
     "output_type": "stream",
     "text": [
      "INFO:tensorflow:Assets written to: C:\\Users\\erlih\\HeroysundBridge-ML\\model_4\\assets\n"
     ]
    },
    {
     "name": "stdout",
     "output_type": "stream",
     "text": [
      "625/625 [==============================] - 3s 5ms/step - loss: 0.0989 - mse: 0.0989 - val_loss: 0.1046 - val_mse: 0.1046\n",
      "Epoch 12/100\n",
      "621/625 [============================>.] - ETA: 0s - loss: 0.0941 - mse: 0.0941INFO:tensorflow:Assets written to: C:\\Users\\erlih\\HeroysundBridge-ML\\model_4\\assets\n"
     ]
    },
    {
     "name": "stderr",
     "output_type": "stream",
     "text": [
      "INFO:tensorflow:Assets written to: C:\\Users\\erlih\\HeroysundBridge-ML\\model_4\\assets\n"
     ]
    },
    {
     "name": "stdout",
     "output_type": "stream",
     "text": [
      "625/625 [==============================] - 3s 5ms/step - loss: 0.0940 - mse: 0.0940 - val_loss: 0.1002 - val_mse: 0.1002\n",
      "Epoch 13/100\n",
      "625/625 [==============================] - 1s 2ms/step - loss: 0.0910 - mse: 0.0910 - val_loss: 0.1028 - val_mse: 0.1028\n",
      "Epoch 14/100\n",
      "599/625 [===========================>..] - ETA: 0s - loss: 0.0892 - mse: 0.0892INFO:tensorflow:Assets written to: C:\\Users\\erlih\\HeroysundBridge-ML\\model_4\\assets\n"
     ]
    },
    {
     "name": "stderr",
     "output_type": "stream",
     "text": [
      "INFO:tensorflow:Assets written to: C:\\Users\\erlih\\HeroysundBridge-ML\\model_4\\assets\n"
     ]
    },
    {
     "name": "stdout",
     "output_type": "stream",
     "text": [
      "625/625 [==============================] - 3s 5ms/step - loss: 0.0888 - mse: 0.0888 - val_loss: 0.0959 - val_mse: 0.0959\n",
      "Epoch 15/100\n",
      "625/625 [==============================] - 1s 2ms/step - loss: 0.0870 - mse: 0.0870 - val_loss: 0.1035 - val_mse: 0.1035\n",
      "Epoch 16/100\n",
      "620/625 [============================>.] - ETA: 0s - loss: 0.0856 - mse: 0.0856INFO:tensorflow:Assets written to: C:\\Users\\erlih\\HeroysundBridge-ML\\model_4\\assets\n"
     ]
    },
    {
     "name": "stderr",
     "output_type": "stream",
     "text": [
      "INFO:tensorflow:Assets written to: C:\\Users\\erlih\\HeroysundBridge-ML\\model_4\\assets\n"
     ]
    },
    {
     "name": "stdout",
     "output_type": "stream",
     "text": [
      "625/625 [==============================] - 3s 5ms/step - loss: 0.0855 - mse: 0.0855 - val_loss: 0.0953 - val_mse: 0.0953\n",
      "Epoch 17/100\n",
      "621/625 [============================>.] - ETA: 0s - loss: 0.0842 - mse: 0.0842INFO:tensorflow:Assets written to: C:\\Users\\erlih\\HeroysundBridge-ML\\model_4\\assets\n"
     ]
    },
    {
     "name": "stderr",
     "output_type": "stream",
     "text": [
      "INFO:tensorflow:Assets written to: C:\\Users\\erlih\\HeroysundBridge-ML\\model_4\\assets\n"
     ]
    },
    {
     "name": "stdout",
     "output_type": "stream",
     "text": [
      "625/625 [==============================] - 3s 5ms/step - loss: 0.0842 - mse: 0.0842 - val_loss: 0.0929 - val_mse: 0.0929\n",
      "Epoch 18/100\n",
      "619/625 [============================>.] - ETA: 0s - loss: 0.0836 - mse: 0.0836INFO:tensorflow:Assets written to: C:\\Users\\erlih\\HeroysundBridge-ML\\model_4\\assets\n"
     ]
    },
    {
     "name": "stderr",
     "output_type": "stream",
     "text": [
      "INFO:tensorflow:Assets written to: C:\\Users\\erlih\\HeroysundBridge-ML\\model_4\\assets\n"
     ]
    },
    {
     "name": "stdout",
     "output_type": "stream",
     "text": [
      "625/625 [==============================] - 4s 6ms/step - loss: 0.0835 - mse: 0.0835 - val_loss: 0.0927 - val_mse: 0.0927\n",
      "Epoch 19/100\n",
      "606/625 [============================>.] - ETA: 0s - loss: 0.0831 - mse: 0.0831INFO:tensorflow:Assets written to: C:\\Users\\erlih\\HeroysundBridge-ML\\model_4\\assets\n"
     ]
    },
    {
     "name": "stderr",
     "output_type": "stream",
     "text": [
      "INFO:tensorflow:Assets written to: C:\\Users\\erlih\\HeroysundBridge-ML\\model_4\\assets\n"
     ]
    },
    {
     "name": "stdout",
     "output_type": "stream",
     "text": [
      "625/625 [==============================] - 3s 5ms/step - loss: 0.0828 - mse: 0.0828 - val_loss: 0.0918 - val_mse: 0.0918\n",
      "Epoch 20/100\n",
      "624/625 [============================>.] - ETA: 0s - loss: 0.0823 - mse: 0.0823INFO:tensorflow:Assets written to: C:\\Users\\erlih\\HeroysundBridge-ML\\model_4\\assets\n"
     ]
    },
    {
     "name": "stderr",
     "output_type": "stream",
     "text": [
      "INFO:tensorflow:Assets written to: C:\\Users\\erlih\\HeroysundBridge-ML\\model_4\\assets\n"
     ]
    },
    {
     "name": "stdout",
     "output_type": "stream",
     "text": [
      "625/625 [==============================] - 3s 5ms/step - loss: 0.0822 - mse: 0.0822 - val_loss: 0.0915 - val_mse: 0.0915\n",
      "Epoch 21/100\n",
      "625/625 [==============================] - 1s 2ms/step - loss: 0.0815 - mse: 0.0815 - val_loss: 0.0998 - val_mse: 0.0998\n",
      "Epoch 22/100\n",
      "616/625 [============================>.] - ETA: 0s - loss: 0.0808 - mse: 0.0808INFO:tensorflow:Assets written to: C:\\Users\\erlih\\HeroysundBridge-ML\\model_4\\assets\n"
     ]
    },
    {
     "name": "stderr",
     "output_type": "stream",
     "text": [
      "INFO:tensorflow:Assets written to: C:\\Users\\erlih\\HeroysundBridge-ML\\model_4\\assets\n"
     ]
    },
    {
     "name": "stdout",
     "output_type": "stream",
     "text": [
      "625/625 [==============================] - 3s 5ms/step - loss: 0.0807 - mse: 0.0807 - val_loss: 0.0908 - val_mse: 0.0908\n",
      "Epoch 23/100\n",
      "609/625 [============================>.] - ETA: 0s - loss: 0.0805 - mse: 0.0805INFO:tensorflow:Assets written to: C:\\Users\\erlih\\HeroysundBridge-ML\\model_4\\assets\n"
     ]
    },
    {
     "name": "stderr",
     "output_type": "stream",
     "text": [
      "INFO:tensorflow:Assets written to: C:\\Users\\erlih\\HeroysundBridge-ML\\model_4\\assets\n"
     ]
    },
    {
     "name": "stdout",
     "output_type": "stream",
     "text": [
      "625/625 [==============================] - 3s 5ms/step - loss: 0.0806 - mse: 0.0806 - val_loss: 0.0902 - val_mse: 0.0902\n",
      "Epoch 24/100\n",
      "625/625 [==============================] - 1s 2ms/step - loss: 0.0799 - mse: 0.0799 - val_loss: 0.0907 - val_mse: 0.0907\n",
      "Epoch 25/100\n",
      "625/625 [==============================] - 1s 2ms/step - loss: 0.0798 - mse: 0.0798 - val_loss: 0.0964 - val_mse: 0.0964\n",
      "Epoch 26/100\n",
      "625/625 [==============================] - 1s 2ms/step - loss: 0.0794 - mse: 0.0794 - val_loss: 0.0916 - val_mse: 0.0916\n",
      "Epoch 27/100\n",
      "625/625 [==============================] - 1s 2ms/step - loss: 0.0791 - mse: 0.0791 - val_loss: 0.0919 - val_mse: 0.0919\n",
      "Epoch 28/100\n",
      "615/625 [============================>.] - ETA: 0s - loss: 0.0793 - mse: 0.0793INFO:tensorflow:Assets written to: C:\\Users\\erlih\\HeroysundBridge-ML\\model_4\\assets\n"
     ]
    },
    {
     "name": "stderr",
     "output_type": "stream",
     "text": [
      "INFO:tensorflow:Assets written to: C:\\Users\\erlih\\HeroysundBridge-ML\\model_4\\assets\n"
     ]
    },
    {
     "name": "stdout",
     "output_type": "stream",
     "text": [
      "625/625 [==============================] - 3s 5ms/step - loss: 0.0790 - mse: 0.0790 - val_loss: 0.0894 - val_mse: 0.0894\n",
      "Epoch 29/100\n",
      "625/625 [==============================] - 1s 2ms/step - loss: 0.0787 - mse: 0.0787 - val_loss: 0.0917 - val_mse: 0.0917\n",
      "Epoch 30/100\n",
      "625/625 [==============================] - 1s 2ms/step - loss: 0.0785 - mse: 0.0785 - val_loss: 0.0905 - val_mse: 0.0905\n",
      "Epoch 31/100\n",
      "625/625 [==============================] - 1s 2ms/step - loss: 0.0784 - mse: 0.0784 - val_loss: 0.0907 - val_mse: 0.0907\n",
      "Epoch 32/100\n",
      "625/625 [==============================] - 1s 2ms/step - loss: 0.0781 - mse: 0.0781 - val_loss: 0.0915 - val_mse: 0.0915\n",
      "Epoch 33/100\n",
      "625/625 [==============================] - 1s 2ms/step - loss: 0.0781 - mse: 0.0781 - val_loss: 0.0917 - val_mse: 0.0917\n",
      "Epoch 34/100\n",
      "625/625 [==============================] - 1s 2ms/step - loss: 0.0778 - mse: 0.0778 - val_loss: 0.0896 - val_mse: 0.0896\n",
      "Epoch 35/100\n",
      "625/625 [==============================] - 1s 2ms/step - loss: 0.0776 - mse: 0.0776 - val_loss: 0.0903 - val_mse: 0.0903\n",
      "Epoch 36/100\n",
      "625/625 [==============================] - 1s 2ms/step - loss: 0.0777 - mse: 0.0777 - val_loss: 0.0899 - val_mse: 0.0899\n",
      "Epoch 37/100\n",
      "603/625 [===========================>..] - ETA: 0s - loss: 0.0772 - mse: 0.0772INFO:tensorflow:Assets written to: C:\\Users\\erlih\\HeroysundBridge-ML\\model_4\\assets\n"
     ]
    },
    {
     "name": "stderr",
     "output_type": "stream",
     "text": [
      "INFO:tensorflow:Assets written to: C:\\Users\\erlih\\HeroysundBridge-ML\\model_4\\assets\n"
     ]
    },
    {
     "name": "stdout",
     "output_type": "stream",
     "text": [
      "625/625 [==============================] - 3s 5ms/step - loss: 0.0774 - mse: 0.0774 - val_loss: 0.0884 - val_mse: 0.0884\n",
      "Epoch 38/100\n",
      "625/625 [==============================] - 1s 2ms/step - loss: 0.0776 - mse: 0.0776 - val_loss: 0.0893 - val_mse: 0.0893\n",
      "Epoch 39/100\n",
      "625/625 [==============================] - 1s 2ms/step - loss: 0.0774 - mse: 0.0774 - val_loss: 0.0887 - val_mse: 0.0887\n",
      "Epoch 40/100\n",
      "625/625 [==============================] - 1s 2ms/step - loss: 0.0772 - mse: 0.0772 - val_loss: 0.0890 - val_mse: 0.0890\n",
      "Epoch 41/100\n",
      "625/625 [==============================] - 1s 2ms/step - loss: 0.0776 - mse: 0.0776 - val_loss: 0.1006 - val_mse: 0.1006\n",
      "Epoch 42/100\n",
      "625/625 [==============================] - 1s 2ms/step - loss: 0.0777 - mse: 0.0777 - val_loss: 0.0896 - val_mse: 0.0896\n",
      "Epoch 43/100\n",
      "625/625 [==============================] - 1s 2ms/step - loss: 0.0772 - mse: 0.0772 - val_loss: 0.0890 - val_mse: 0.0890\n",
      "Epoch 44/100\n",
      "621/625 [============================>.] - ETA: 0s - loss: 0.0776 - mse: 0.0776INFO:tensorflow:Assets written to: C:\\Users\\erlih\\HeroysundBridge-ML\\model_4\\assets\n"
     ]
    },
    {
     "name": "stderr",
     "output_type": "stream",
     "text": [
      "INFO:tensorflow:Assets written to: C:\\Users\\erlih\\HeroysundBridge-ML\\model_4\\assets\n"
     ]
    },
    {
     "name": "stdout",
     "output_type": "stream",
     "text": [
      "625/625 [==============================] - 3s 5ms/step - loss: 0.0775 - mse: 0.0775 - val_loss: 0.0883 - val_mse: 0.0883\n",
      "Epoch 45/100\n",
      "625/625 [==============================] - 1s 2ms/step - loss: 0.0772 - mse: 0.0772 - val_loss: 0.0906 - val_mse: 0.0906\n",
      "Epoch 46/100\n",
      "625/625 [==============================] - 1s 2ms/step - loss: 0.0770 - mse: 0.0770 - val_loss: 0.0901 - val_mse: 0.0901\n",
      "Epoch 47/100\n",
      "625/625 [==============================] - 1s 2ms/step - loss: 0.0772 - mse: 0.0772 - val_loss: 0.0906 - val_mse: 0.0906\n",
      "Epoch 48/100\n",
      "625/625 [==============================] - 1s 2ms/step - loss: 0.0770 - mse: 0.0770 - val_loss: 0.0912 - val_mse: 0.0912\n",
      "Epoch 49/100\n",
      "625/625 [==============================] - 1s 2ms/step - loss: 0.0776 - mse: 0.0776 - val_loss: 0.0887 - val_mse: 0.0887\n",
      "Epoch 50/100\n",
      "620/625 [============================>.] - ETA: 0s - loss: 0.0770 - mse: 0.0770INFO:tensorflow:Assets written to: C:\\Users\\erlih\\HeroysundBridge-ML\\model_4\\assets\n"
     ]
    },
    {
     "name": "stderr",
     "output_type": "stream",
     "text": [
      "INFO:tensorflow:Assets written to: C:\\Users\\erlih\\HeroysundBridge-ML\\model_4\\assets\n"
     ]
    },
    {
     "name": "stdout",
     "output_type": "stream",
     "text": [
      "625/625 [==============================] - 4s 6ms/step - loss: 0.0769 - mse: 0.0769 - val_loss: 0.0882 - val_mse: 0.0882\n",
      "Epoch 51/100\n",
      "625/625 [==============================] - 1s 2ms/step - loss: 0.0773 - mse: 0.0773 - val_loss: 0.0901 - val_mse: 0.0901\n",
      "Epoch 52/100\n",
      "625/625 [==============================] - 1s 2ms/step - loss: 0.0770 - mse: 0.0770 - val_loss: 0.0927 - val_mse: 0.0927\n",
      "Epoch 53/100\n",
      "625/625 [==============================] - 1s 2ms/step - loss: 0.0772 - mse: 0.0772 - val_loss: 0.0885 - val_mse: 0.0885\n",
      "Epoch 54/100\n",
      "620/625 [============================>.] - ETA: 0s - loss: 0.0769 - mse: 0.0769INFO:tensorflow:Assets written to: C:\\Users\\erlih\\HeroysundBridge-ML\\model_4\\assets\n"
     ]
    },
    {
     "name": "stderr",
     "output_type": "stream",
     "text": [
      "INFO:tensorflow:Assets written to: C:\\Users\\erlih\\HeroysundBridge-ML\\model_4\\assets\n"
     ]
    },
    {
     "name": "stdout",
     "output_type": "stream",
     "text": [
      "625/625 [==============================] - 3s 5ms/step - loss: 0.0768 - mse: 0.0768 - val_loss: 0.0882 - val_mse: 0.0882\n",
      "Epoch 55/100\n",
      "625/625 [==============================] - 1s 2ms/step - loss: 0.0770 - mse: 0.0770 - val_loss: 0.0886 - val_mse: 0.0886\n",
      "Epoch 56/100\n",
      "625/625 [==============================] - 1s 2ms/step - loss: 0.0769 - mse: 0.0769 - val_loss: 0.0887 - val_mse: 0.0887\n",
      "Epoch 57/100\n",
      "625/625 [==============================] - 1s 2ms/step - loss: 0.0767 - mse: 0.0767 - val_loss: 0.0900 - val_mse: 0.0900\n",
      "Epoch 58/100\n",
      "625/625 [==============================] - 1s 2ms/step - loss: 0.0768 - mse: 0.0768 - val_loss: 0.0884 - val_mse: 0.0884\n",
      "Epoch 59/100\n",
      "625/625 [==============================] - 1s 2ms/step - loss: 0.0771 - mse: 0.0771 - val_loss: 0.0898 - val_mse: 0.0898\n",
      "Epoch 60/100\n",
      "625/625 [==============================] - 1s 2ms/step - loss: 0.0769 - mse: 0.0769 - val_loss: 0.0952 - val_mse: 0.0952\n",
      "Epoch 61/100\n",
      "625/625 [==============================] - 1s 2ms/step - loss: 0.0766 - mse: 0.0766 - val_loss: 0.0890 - val_mse: 0.0890\n",
      "Epoch 62/100\n",
      "625/625 [==============================] - 1s 2ms/step - loss: 0.0767 - mse: 0.0767 - val_loss: 0.0883 - val_mse: 0.0883\n",
      "Epoch 63/100\n",
      "625/625 [==============================] - 1s 2ms/step - loss: 0.0767 - mse: 0.0767 - val_loss: 0.0933 - val_mse: 0.0933\n",
      "Epoch 64/100\n",
      "625/625 [==============================] - 1s 2ms/step - loss: 0.0768 - mse: 0.0768 - val_loss: 0.0940 - val_mse: 0.0940\n",
      "Epoch 65/100\n",
      "620/625 [============================>.] - ETA: 0s - loss: 0.0770 - mse: 0.0770INFO:tensorflow:Assets written to: C:\\Users\\erlih\\HeroysundBridge-ML\\model_4\\assets\n"
     ]
    },
    {
     "name": "stderr",
     "output_type": "stream",
     "text": [
      "INFO:tensorflow:Assets written to: C:\\Users\\erlih\\HeroysundBridge-ML\\model_4\\assets\n"
     ]
    },
    {
     "name": "stdout",
     "output_type": "stream",
     "text": [
      "625/625 [==============================] - 3s 5ms/step - loss: 0.0769 - mse: 0.0769 - val_loss: 0.0882 - val_mse: 0.0882\n",
      "Epoch 66/100\n",
      "625/625 [==============================] - 1s 2ms/step - loss: 0.0767 - mse: 0.0767 - val_loss: 0.0883 - val_mse: 0.0883\n",
      "Epoch 67/100\n",
      "625/625 [==============================] - 1s 2ms/step - loss: 0.0769 - mse: 0.0769 - val_loss: 0.0895 - val_mse: 0.0895\n",
      "Epoch 68/100\n",
      "598/625 [===========================>..] - ETA: 0s - loss: 0.0767 - mse: 0.0767INFO:tensorflow:Assets written to: C:\\Users\\erlih\\HeroysundBridge-ML\\model_4\\assets\n"
     ]
    },
    {
     "name": "stderr",
     "output_type": "stream",
     "text": [
      "INFO:tensorflow:Assets written to: C:\\Users\\erlih\\HeroysundBridge-ML\\model_4\\assets\n"
     ]
    },
    {
     "name": "stdout",
     "output_type": "stream",
     "text": [
      "625/625 [==============================] - 3s 5ms/step - loss: 0.0769 - mse: 0.0769 - val_loss: 0.0878 - val_mse: 0.0878\n",
      "Epoch 69/100\n",
      "625/625 [==============================] - 1s 2ms/step - loss: 0.0767 - mse: 0.0767 - val_loss: 0.0895 - val_mse: 0.0895\n",
      "Epoch 70/100\n",
      "625/625 [==============================] - 1s 2ms/step - loss: 0.0768 - mse: 0.0768 - val_loss: 0.0883 - val_mse: 0.0883\n",
      "Epoch 71/100\n",
      "621/625 [============================>.] - ETA: 0s - loss: 0.0770 - mse: 0.0770INFO:tensorflow:Assets written to: C:\\Users\\erlih\\HeroysundBridge-ML\\model_4\\assets\n"
     ]
    },
    {
     "name": "stderr",
     "output_type": "stream",
     "text": [
      "INFO:tensorflow:Assets written to: C:\\Users\\erlih\\HeroysundBridge-ML\\model_4\\assets\n"
     ]
    },
    {
     "name": "stdout",
     "output_type": "stream",
     "text": [
      "625/625 [==============================] - 3s 5ms/step - loss: 0.0769 - mse: 0.0769 - val_loss: 0.0876 - val_mse: 0.0876\n",
      "Epoch 72/100\n",
      "625/625 [==============================] - 1s 2ms/step - loss: 0.0766 - mse: 0.0766 - val_loss: 0.0882 - val_mse: 0.0882\n",
      "Epoch 73/100\n",
      "625/625 [==============================] - 1s 2ms/step - loss: 0.0767 - mse: 0.0767 - val_loss: 0.0883 - val_mse: 0.0883\n",
      "Epoch 74/100\n",
      "625/625 [==============================] - 1s 2ms/step - loss: 0.0765 - mse: 0.0765 - val_loss: 0.0888 - val_mse: 0.0888\n",
      "Epoch 75/100\n",
      "625/625 [==============================] - 1s 2ms/step - loss: 0.0764 - mse: 0.0764 - val_loss: 0.0885 - val_mse: 0.0885\n",
      "Epoch 76/100\n",
      "625/625 [==============================] - 1s 2ms/step - loss: 0.0766 - mse: 0.0766 - val_loss: 0.0880 - val_mse: 0.0880\n",
      "Epoch 77/100\n",
      "625/625 [==============================] - 1s 2ms/step - loss: 0.0766 - mse: 0.0766 - val_loss: 0.0895 - val_mse: 0.0895\n",
      "Epoch 78/100\n",
      "625/625 [==============================] - 1s 2ms/step - loss: 0.0766 - mse: 0.0766 - val_loss: 0.0888 - val_mse: 0.0888\n",
      "Epoch 79/100\n",
      "625/625 [==============================] - 1s 2ms/step - loss: 0.0765 - mse: 0.0765 - val_loss: 0.0884 - val_mse: 0.0884\n",
      "Epoch 80/100\n",
      "625/625 [==============================] - 1s 2ms/step - loss: 0.0767 - mse: 0.0767 - val_loss: 0.0893 - val_mse: 0.0893\n",
      "Epoch 81/100\n",
      "625/625 [==============================] - 1s 2ms/step - loss: 0.0765 - mse: 0.0765 - val_loss: 0.0893 - val_mse: 0.0893\n",
      "Epoch 82/100\n",
      "625/625 [==============================] - 1s 2ms/step - loss: 0.0766 - mse: 0.0766 - val_loss: 0.0880 - val_mse: 0.0880\n",
      "Epoch 83/100\n",
      "625/625 [==============================] - 1s 2ms/step - loss: 0.0767 - mse: 0.0767 - val_loss: 0.0884 - val_mse: 0.0884\n",
      "Epoch 84/100\n",
      "625/625 [==============================] - 1s 2ms/step - loss: 0.0763 - mse: 0.0763 - val_loss: 0.0912 - val_mse: 0.0912\n",
      "Epoch 85/100\n",
      "625/625 [==============================] - 1s 2ms/step - loss: 0.0766 - mse: 0.0766 - val_loss: 0.0881 - val_mse: 0.0881\n",
      "Epoch 86/100\n",
      "625/625 [==============================] - 1s 2ms/step - loss: 0.0765 - mse: 0.0765 - val_loss: 0.0880 - val_mse: 0.0880\n",
      "Epoch 87/100\n",
      "625/625 [==============================] - 1s 2ms/step - loss: 0.0765 - mse: 0.0765 - val_loss: 0.0878 - val_mse: 0.0878\n",
      "Epoch 88/100\n",
      "625/625 [==============================] - 1s 2ms/step - loss: 0.0766 - mse: 0.0766 - val_loss: 0.0881 - val_mse: 0.0881\n",
      "Epoch 89/100\n",
      "625/625 [==============================] - 1s 2ms/step - loss: 0.0767 - mse: 0.0767 - val_loss: 0.0908 - val_mse: 0.0908\n",
      "Epoch 90/100\n",
      "625/625 [==============================] - 1s 2ms/step - loss: 0.0765 - mse: 0.0765 - val_loss: 0.0884 - val_mse: 0.0884\n",
      "Epoch 91/100\n",
      "625/625 [==============================] - 1s 2ms/step - loss: 0.0765 - mse: 0.0765 - val_loss: 0.0882 - val_mse: 0.0882\n",
      "Epoch 92/100\n",
      "625/625 [==============================] - 1s 2ms/step - loss: 0.0763 - mse: 0.0763 - val_loss: 0.0896 - val_mse: 0.0896\n",
      "Epoch 93/100\n",
      "625/625 [==============================] - 1s 2ms/step - loss: 0.0764 - mse: 0.0764 - val_loss: 0.0888 - val_mse: 0.0888\n",
      "Epoch 94/100\n",
      "625/625 [==============================] - 1s 2ms/step - loss: 0.0763 - mse: 0.0763 - val_loss: 0.0888 - val_mse: 0.0888\n",
      "Epoch 95/100\n",
      "625/625 [==============================] - 1s 2ms/step - loss: 0.0766 - mse: 0.0766 - val_loss: 0.0924 - val_mse: 0.0924\n",
      "Epoch 96/100\n",
      "625/625 [==============================] - 1s 2ms/step - loss: 0.0766 - mse: 0.0766 - val_loss: 0.0893 - val_mse: 0.0893\n",
      "Epoch 97/100\n",
      "625/625 [==============================] - 1s 2ms/step - loss: 0.0765 - mse: 0.0765 - val_loss: 0.0896 - val_mse: 0.0896\n",
      "Epoch 98/100\n",
      "625/625 [==============================] - 1s 2ms/step - loss: 0.0764 - mse: 0.0764 - val_loss: 0.0899 - val_mse: 0.0899\n",
      "Epoch 99/100\n",
      "625/625 [==============================] - 1s 2ms/step - loss: 0.0761 - mse: 0.0761 - val_loss: 0.0878 - val_mse: 0.0878\n",
      "Epoch 100/100\n",
      "625/625 [==============================] - 1s 2ms/step - loss: 0.0762 - mse: 0.0762 - val_loss: 0.0879 - val_mse: 0.0879\n"
     ]
    },
    {
     "data": {
      "text/plain": [
       "<keras.src.callbacks.History at 0x25d22aff450>"
      ]
     },
     "execution_count": 155,
     "metadata": {},
     "output_type": "execute_result"
    }
   ],
   "source": [
    "model.fit(X_train, y_train, validation_data=(X_valid, y_valid), epochs=100, callbacks=[cp])"
   ]
  },
  {
   "cell_type": "code",
   "execution_count": 156,
   "metadata": {},
   "outputs": [
    {
     "ename": "OSError",
     "evalue": "No file or directory found at C:\\Users\\erlih\\HeroysundBridge-ML\\model_name",
     "output_type": "error",
     "traceback": [
      "\u001b[1;31m---------------------------------------------------------------------------\u001b[0m",
      "\u001b[1;31mOSError\u001b[0m                                   Traceback (most recent call last)",
      "Cell \u001b[1;32mIn[156], line 7\u001b[0m\n\u001b[0;32m      4\u001b[0m model_file_path \u001b[38;5;241m=\u001b[39m os\u001b[38;5;241m.\u001b[39mpath\u001b[38;5;241m.\u001b[39mjoin(target_folder, \u001b[38;5;124mf\u001b[39m\u001b[38;5;124m'\u001b[39m\u001b[38;5;124mmodel_name\u001b[39m\u001b[38;5;124m'\u001b[39m)\n\u001b[0;32m      6\u001b[0m \u001b[38;5;66;03m# Load the model from the specified file path\u001b[39;00m\n\u001b[1;32m----> 7\u001b[0m model \u001b[38;5;241m=\u001b[39m \u001b[43mload_model\u001b[49m\u001b[43m(\u001b[49m\u001b[43mmodel_file_path\u001b[49m\u001b[43m)\u001b[49m\n",
      "File \u001b[1;32mc:\\Users\\erlih\\repos\\HeroysundBridge-ML\\venv\\Lib\\site-packages\\keras\\src\\saving\\saving_api.py:262\u001b[0m, in \u001b[0;36mload_model\u001b[1;34m(filepath, custom_objects, compile, safe_mode, **kwargs)\u001b[0m\n\u001b[0;32m    254\u001b[0m     \u001b[38;5;28;01mreturn\u001b[39;00m saving_lib\u001b[38;5;241m.\u001b[39mload_model(\n\u001b[0;32m    255\u001b[0m         filepath,\n\u001b[0;32m    256\u001b[0m         custom_objects\u001b[38;5;241m=\u001b[39mcustom_objects,\n\u001b[0;32m    257\u001b[0m         \u001b[38;5;28mcompile\u001b[39m\u001b[38;5;241m=\u001b[39m\u001b[38;5;28mcompile\u001b[39m,\n\u001b[0;32m    258\u001b[0m         safe_mode\u001b[38;5;241m=\u001b[39msafe_mode,\n\u001b[0;32m    259\u001b[0m     )\n\u001b[0;32m    261\u001b[0m \u001b[38;5;66;03m# Legacy case.\u001b[39;00m\n\u001b[1;32m--> 262\u001b[0m \u001b[38;5;28;01mreturn\u001b[39;00m \u001b[43mlegacy_sm_saving_lib\u001b[49m\u001b[38;5;241;43m.\u001b[39;49m\u001b[43mload_model\u001b[49m\u001b[43m(\u001b[49m\n\u001b[0;32m    263\u001b[0m \u001b[43m    \u001b[49m\u001b[43mfilepath\u001b[49m\u001b[43m,\u001b[49m\u001b[43m \u001b[49m\u001b[43mcustom_objects\u001b[49m\u001b[38;5;241;43m=\u001b[39;49m\u001b[43mcustom_objects\u001b[49m\u001b[43m,\u001b[49m\u001b[43m \u001b[49m\u001b[38;5;28;43mcompile\u001b[39;49m\u001b[38;5;241;43m=\u001b[39;49m\u001b[38;5;28;43mcompile\u001b[39;49m\u001b[43m,\u001b[49m\u001b[43m \u001b[49m\u001b[38;5;241;43m*\u001b[39;49m\u001b[38;5;241;43m*\u001b[39;49m\u001b[43mkwargs\u001b[49m\n\u001b[0;32m    264\u001b[0m \u001b[43m\u001b[49m\u001b[43m)\u001b[49m\n",
      "File \u001b[1;32mc:\\Users\\erlih\\repos\\HeroysundBridge-ML\\venv\\Lib\\site-packages\\keras\\src\\utils\\traceback_utils.py:70\u001b[0m, in \u001b[0;36mfilter_traceback.<locals>.error_handler\u001b[1;34m(*args, **kwargs)\u001b[0m\n\u001b[0;32m     67\u001b[0m     filtered_tb \u001b[38;5;241m=\u001b[39m _process_traceback_frames(e\u001b[38;5;241m.\u001b[39m__traceback__)\n\u001b[0;32m     68\u001b[0m     \u001b[38;5;66;03m# To get the full stack trace, call:\u001b[39;00m\n\u001b[0;32m     69\u001b[0m     \u001b[38;5;66;03m# `tf.debugging.disable_traceback_filtering()`\u001b[39;00m\n\u001b[1;32m---> 70\u001b[0m     \u001b[38;5;28;01mraise\u001b[39;00m e\u001b[38;5;241m.\u001b[39mwith_traceback(filtered_tb) \u001b[38;5;28;01mfrom\u001b[39;00m \u001b[38;5;28;01mNone\u001b[39;00m\n\u001b[0;32m     71\u001b[0m \u001b[38;5;28;01mfinally\u001b[39;00m:\n\u001b[0;32m     72\u001b[0m     \u001b[38;5;28;01mdel\u001b[39;00m filtered_tb\n",
      "File \u001b[1;32mc:\\Users\\erlih\\repos\\HeroysundBridge-ML\\venv\\Lib\\site-packages\\keras\\src\\saving\\legacy\\save.py:234\u001b[0m, in \u001b[0;36mload_model\u001b[1;34m(filepath, custom_objects, compile, options)\u001b[0m\n\u001b[0;32m    232\u001b[0m \u001b[38;5;28;01mif\u001b[39;00m \u001b[38;5;28misinstance\u001b[39m(filepath_str, \u001b[38;5;28mstr\u001b[39m):\n\u001b[0;32m    233\u001b[0m     \u001b[38;5;28;01mif\u001b[39;00m \u001b[38;5;129;01mnot\u001b[39;00m tf\u001b[38;5;241m.\u001b[39mio\u001b[38;5;241m.\u001b[39mgfile\u001b[38;5;241m.\u001b[39mexists(filepath_str):\n\u001b[1;32m--> 234\u001b[0m         \u001b[38;5;28;01mraise\u001b[39;00m \u001b[38;5;167;01mIOError\u001b[39;00m(\n\u001b[0;32m    235\u001b[0m             \u001b[38;5;124mf\u001b[39m\u001b[38;5;124m\"\u001b[39m\u001b[38;5;124mNo file or directory found at \u001b[39m\u001b[38;5;132;01m{\u001b[39;00mfilepath_str\u001b[38;5;132;01m}\u001b[39;00m\u001b[38;5;124m\"\u001b[39m\n\u001b[0;32m    236\u001b[0m         )\n\u001b[0;32m    238\u001b[0m     \u001b[38;5;28;01mif\u001b[39;00m tf\u001b[38;5;241m.\u001b[39mio\u001b[38;5;241m.\u001b[39mgfile\u001b[38;5;241m.\u001b[39misdir(filepath_str):\n\u001b[0;32m    239\u001b[0m         \u001b[38;5;28;01mreturn\u001b[39;00m saved_model_load\u001b[38;5;241m.\u001b[39mload(\n\u001b[0;32m    240\u001b[0m             filepath_str, \u001b[38;5;28mcompile\u001b[39m, options\n\u001b[0;32m    241\u001b[0m         )\n",
      "\u001b[1;31mOSError\u001b[0m: No file or directory found at C:\\Users\\erlih\\HeroysundBridge-ML\\model_name"
     ]
    }
   ],
   "source": [
    "from tensorflow.keras.models import load_model\n",
    "\n",
    "# Specify the full path to the model file\n",
    "model_file_path = os.path.join(target_folder, f'model_name')\n",
    "\n",
    "# Load the model from the specified file path\n",
    "model = load_model(model_file_path)\n"
   ]
  },
  {
   "cell_type": "code",
   "execution_count": null,
   "metadata": {},
   "outputs": [
    {
     "name": "stdout",
     "output_type": "stream",
     "text": [
      "625/625 [==============================] - 1s 1ms/step\n"
     ]
    },
    {
     "data": {
      "text/html": [
       "<div>\n",
       "<style scoped>\n",
       "    .dataframe tbody tr th:only-of-type {\n",
       "        vertical-align: middle;\n",
       "    }\n",
       "\n",
       "    .dataframe tbody tr th {\n",
       "        vertical-align: top;\n",
       "    }\n",
       "\n",
       "    .dataframe thead th {\n",
       "        text-align: right;\n",
       "    }\n",
       "</style>\n",
       "<table border=\"1\" class=\"dataframe\">\n",
       "  <thead>\n",
       "    <tr style=\"text-align: right;\">\n",
       "      <th></th>\n",
       "      <th>Train Predictions</th>\n",
       "      <th>Actuals</th>\n",
       "    </tr>\n",
       "  </thead>\n",
       "  <tbody>\n",
       "    <tr>\n",
       "      <th>0</th>\n",
       "      <td>13.425430</td>\n",
       "      <td>13.374030</td>\n",
       "    </tr>\n",
       "    <tr>\n",
       "      <th>1</th>\n",
       "      <td>13.103154</td>\n",
       "      <td>13.060795</td>\n",
       "    </tr>\n",
       "    <tr>\n",
       "      <th>2</th>\n",
       "      <td>12.863401</td>\n",
       "      <td>12.576049</td>\n",
       "    </tr>\n",
       "    <tr>\n",
       "      <th>3</th>\n",
       "      <td>12.321752</td>\n",
       "      <td>12.645185</td>\n",
       "    </tr>\n",
       "    <tr>\n",
       "      <th>4</th>\n",
       "      <td>12.638195</td>\n",
       "      <td>12.193944</td>\n",
       "    </tr>\n",
       "    <tr>\n",
       "      <th>...</th>\n",
       "      <td>...</td>\n",
       "      <td>...</td>\n",
       "    </tr>\n",
       "    <tr>\n",
       "      <th>19995</th>\n",
       "      <td>-1.216134</td>\n",
       "      <td>-0.870970</td>\n",
       "    </tr>\n",
       "    <tr>\n",
       "      <th>19996</th>\n",
       "      <td>-0.661248</td>\n",
       "      <td>0.452271</td>\n",
       "    </tr>\n",
       "    <tr>\n",
       "      <th>19997</th>\n",
       "      <td>0.878232</td>\n",
       "      <td>0.730716</td>\n",
       "    </tr>\n",
       "    <tr>\n",
       "      <th>19998</th>\n",
       "      <td>0.880322</td>\n",
       "      <td>1.024656</td>\n",
       "    </tr>\n",
       "    <tr>\n",
       "      <th>19999</th>\n",
       "      <td>1.149052</td>\n",
       "      <td>1.476443</td>\n",
       "    </tr>\n",
       "  </tbody>\n",
       "</table>\n",
       "<p>20000 rows × 2 columns</p>\n",
       "</div>"
      ],
      "text/plain": [
       "       Train Predictions    Actuals\n",
       "0              13.425430  13.374030\n",
       "1              13.103154  13.060795\n",
       "2              12.863401  12.576049\n",
       "3              12.321752  12.645185\n",
       "4              12.638195  12.193944\n",
       "...                  ...        ...\n",
       "19995          -1.216134  -0.870970\n",
       "19996          -0.661248   0.452271\n",
       "19997           0.878232   0.730716\n",
       "19998           0.880322   1.024656\n",
       "19999           1.149052   1.476443\n",
       "\n",
       "[20000 rows x 2 columns]"
      ]
     },
     "execution_count": 55,
     "metadata": {},
     "output_type": "execute_result"
    }
   ],
   "source": [
    "train_predicitons = model.predict(X_train).flatten()\n",
    "train_results = pd.DataFrame(data={'Train Predictions': train_predicitons,'Actuals': y_train})\n",
    "train_results"
   ]
  },
  {
   "cell_type": "code",
   "execution_count": null,
   "metadata": {},
   "outputs": [
    {
     "data": {
      "text/plain": [
       "[<matplotlib.lines.Line2D at 0x25d164ff9d0>]"
      ]
     },
     "execution_count": 56,
     "metadata": {},
     "output_type": "execute_result"
    },
    {
     "data": {
      "image/png": "[encoded data removed]",
      "text/plain": [
       "<Figure size 640x480 with 1 Axes>"
      ]
     },
     "metadata": {},
     "output_type": "display_data"
    }
   ],
   "source": [
    "plt.plot(train_results['Actuals'], label='Actuals')\n",
    "plt.plot(train_results['Train Predictions'], label='Predictions')"
   ]
  },
  {
   "cell_type": "code",
   "execution_count": null,
   "metadata": {},
   "outputs": [
    {
     "data": {
      "text/plain": [
       "<matplotlib.legend.Legend at 0x25d217c2310>"
      ]
     },
     "execution_count": 57,
     "metadata": {},
     "output_type": "execute_result"
    },
    {
     "data": {
      "image/png": "[encoded data removed]",
      "text/plain": [
       "<Figure size 640x480 with 1 Axes>"
      ]
     },
     "metadata": {},
     "output_type": "display_data"
    }
   ],
   "source": [
    "plt.plot(train_results['Actuals'][50:150], label='Actuals')\n",
    "plt.plot(train_results['Train Predictions'][50:150], label='Predictions')\n",
    "plt.legend()"
   ]
  },
  {
   "cell_type": "markdown",
   "metadata": {},
   "source": [
    "**But we don't really care about how it did on the training, it has seen that data before**"
   ]
  },
  {
   "cell_type": "code",
   "execution_count": null,
   "metadata": {},
   "outputs": [
    {
     "name": "stdout",
     "output_type": "stream",
     "text": [
      "157/157 [==============================] - 0s 1ms/step\n"
     ]
    },
    {
     "data": {
      "text/html": [
       "<div>\n",
       "<style scoped>\n",
       "    .dataframe tbody tr th:only-of-type {\n",
       "        vertical-align: middle;\n",
       "    }\n",
       "\n",
       "    .dataframe tbody tr th {\n",
       "        vertical-align: top;\n",
       "    }\n",
       "\n",
       "    .dataframe thead th {\n",
       "        text-align: right;\n",
       "    }\n",
       "</style>\n",
       "<table border=\"1\" class=\"dataframe\">\n",
       "  <thead>\n",
       "    <tr style=\"text-align: right;\">\n",
       "      <th></th>\n",
       "      <th>Validation Predictions</th>\n",
       "      <th>Actuals</th>\n",
       "    </tr>\n",
       "  </thead>\n",
       "  <tbody>\n",
       "    <tr>\n",
       "      <th>0</th>\n",
       "      <td>1.619865</td>\n",
       "      <td>1.556393</td>\n",
       "    </tr>\n",
       "    <tr>\n",
       "      <th>1</th>\n",
       "      <td>1.641577</td>\n",
       "      <td>1.682176</td>\n",
       "    </tr>\n",
       "    <tr>\n",
       "      <th>2</th>\n",
       "      <td>1.757777</td>\n",
       "      <td>1.245521</td>\n",
       "    </tr>\n",
       "    <tr>\n",
       "      <th>3</th>\n",
       "      <td>1.182430</td>\n",
       "      <td>0.851200</td>\n",
       "    </tr>\n",
       "    <tr>\n",
       "      <th>4</th>\n",
       "      <td>0.774123</td>\n",
       "      <td>0.605789</td>\n",
       "    </tr>\n",
       "    <tr>\n",
       "      <th>...</th>\n",
       "      <td>...</td>\n",
       "      <td>...</td>\n",
       "    </tr>\n",
       "    <tr>\n",
       "      <th>4995</th>\n",
       "      <td>4.653154</td>\n",
       "      <td>4.831999</td>\n",
       "    </tr>\n",
       "    <tr>\n",
       "      <th>4996</th>\n",
       "      <td>4.874363</td>\n",
       "      <td>5.040882</td>\n",
       "    </tr>\n",
       "    <tr>\n",
       "      <th>4997</th>\n",
       "      <td>5.119047</td>\n",
       "      <td>5.038145</td>\n",
       "    </tr>\n",
       "    <tr>\n",
       "      <th>4998</th>\n",
       "      <td>5.047042</td>\n",
       "      <td>4.956447</td>\n",
       "    </tr>\n",
       "    <tr>\n",
       "      <th>4999</th>\n",
       "      <td>4.940954</td>\n",
       "      <td>4.810770</td>\n",
       "    </tr>\n",
       "  </tbody>\n",
       "</table>\n",
       "<p>5000 rows × 2 columns</p>\n",
       "</div>"
      ],
      "text/plain": [
       "      Validation Predictions   Actuals\n",
       "0                   1.619865  1.556393\n",
       "1                   1.641577  1.682176\n",
       "2                   1.757777  1.245521\n",
       "3                   1.182430  0.851200\n",
       "4                   0.774123  0.605789\n",
       "...                      ...       ...\n",
       "4995                4.653154  4.831999\n",
       "4996                4.874363  5.040882\n",
       "4997                5.119047  5.038145\n",
       "4998                5.047042  4.956447\n",
       "4999                4.940954  4.810770\n",
       "\n",
       "[5000 rows x 2 columns]"
      ]
     },
     "execution_count": 58,
     "metadata": {},
     "output_type": "execute_result"
    }
   ],
   "source": [
    "val_predictions = model.predict(X_valid).flatten()\n",
    "val_results = pd.DataFrame(data={'Validation Predictions': val_predictions,'Actuals': y_valid}) \n",
    "val_results"
   ]
  },
  {
   "cell_type": "code",
   "execution_count": null,
   "metadata": {},
   "outputs": [
    {
     "data": {
      "text/plain": [
       "<matplotlib.legend.Legend at 0x25d19cfa310>"
      ]
     },
     "execution_count": 59,
     "metadata": {},
     "output_type": "execute_result"
    },
    {
     "data": {
      "image/png": "[encoded data removed]",
      "text/plain": [
       "<Figure size 640x480 with 1 Axes>"
      ]
     },
     "metadata": {},
     "output_type": "display_data"
    }
   ],
   "source": [
    "plt.plot(val_results['Actuals'][1000:1500], label='Actuals')\n",
    "plt.plot(val_results['Validation Predictions'][1000:1500], label='Predictions')\n",
    "plt.legend()    "
   ]
  },
  {
   "cell_type": "code",
   "execution_count": null,
   "metadata": {},
   "outputs": [],
   "source": []
  }
 ],
 "metadata": {
  "kernelspec": {
   "display_name": "venv",
   "language": "python",
   "name": "python3"
  },
  "language_info": {
   "codemirror_mode": {
    "name": "ipython",
    "version": 3
   },
   "file_extension": ".py",
   "mimetype": "text/x-python",
   "name": "python",
   "nbconvert_exporter": "python",
   "pygments_lexer": "ipython3",
   "version": "3.11.7"
  }
 },
 "nbformat": 4,
 "nbformat_minor": 2
}
