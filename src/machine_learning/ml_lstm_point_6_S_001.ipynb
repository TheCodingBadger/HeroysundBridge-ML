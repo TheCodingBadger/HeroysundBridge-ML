{
 "cells": [
  {
   "cell_type": "code",
   "execution_count": 3,
   "metadata": {},
   "outputs": [
    {
     "name": "stdout",
     "output_type": "stream",
     "text": [
      "WARNING:tensorflow:From c:\\Users\\erlih\\repos\\HeroysundBridge-ML\\venv\\Lib\\site-packages\\keras\\src\\losses.py:2976: The name tf.losses.sparse_softmax_cross_entropy is deprecated. Please use tf.compat.v1.losses.sparse_softmax_cross_entropy instead.\n",
      "\n"
     ]
    }
   ],
   "source": [
    "from ml_toolkit import df_to_X_y\n",
    "from ml_toolkit import plot_predictions\n",
    "\n",
    "import os\n",
    "import sys\n",
    "import datetime\n",
    "\n",
    "import numpy as np\n",
    "import pandas as pd\n",
    "import matplotlib.pyplot as plt\n",
    "plt.rcParams['font.family'] = 'DejaVu Serif'\n",
    "\n",
    "from sklearn.preprocessing import StandardScaler\n",
    "from sklearn.metrics import mean_squared_error as mse\n",
    "\n",
    "from tensorflow.keras.models import Sequential, load_model\n",
    "from tensorflow.keras.layers import *\n",
    "from tensorflow.keras.callbacks import ModelCheckpoint, EarlyStopping\n",
    "from tensorflow.keras.losses import mean_squared_error, mean_absolute_error\n",
    "from tensorflow.keras.optimizers import Adam\n"
   ]
  },
  {
   "cell_type": "markdown",
   "metadata": {},
   "source": [
    "| Date                | Point_1_N_mean | PT100_Temperature_mean | Average_Global_Radiation_(1h) | Day sin          | Day cos          | Year sin       | Year cos       |\n",
    "|---------------------|----------------|------------------------|-------------------------------|------------------|------------------|----------------|----------------|\n",
    "| 2020-09-02 12:00:00 | 18.324186      | 16.261441              | 954.0                         | 7.392965e-12     | -1.000000e+00    | -0.961130      | -0.276097      |\n",
    "| 2020-09-03 12:00:00 | 24.667922      | 16.858222              | 966.0                         | 3.094426e-12     | -1.000000e+00    | -0.965740      | -0.259512      |\n",
    "| 2020-09-04 10:00:00 | -15.535099     | 14.256647              | 131.6                         | 5.000000e-01     | -8.660254e-01    | -0.969715      | -0.244241      |\n",
    "| 2020-09-04 14:00:00 | -10.819921     | 14.687477              | 314.0                         | -5.000000e-01    | -8.660254e-01    | -0.970411      | -0.241458      |\n",
    "| 2020-09-04 18:00:00 | -15.399971     | 13.874647              | 236.0                         | -1.000000e+00    | -1.359232e-12    | -0.971100      | -0.238673      |\n"
   ]
  },
  {
   "cell_type": "markdown",
   "metadata": {},
   "source": [
    "# Loading data"
   ]
  },
  {
   "cell_type": "code",
   "execution_count": 5,
   "metadata": {},
   "outputs": [
    {
     "name": "stdout",
     "output_type": "stream",
     "text": [
      "Path to git folder: c:\\Users\\erlih\\repos\\HeroysundBridge-ML\n",
      "Path to asset folder: c:\\Users\\erlih\\repos\\HeroysundBridge-ML-Assets\n"
     ]
    }
   ],
   "source": [
    "git_folder = os.path.abspath(os.path.join(os.getcwd(), '..', '..', '..', 'HeroysundBridge-ML'))\n",
    "asset_folder = os.path.abspath(os.path.join(os.getcwd(), '..', '..', '..', 'HeroysundBridge-ML-Assets'))\n",
    "\n",
    "print(\"Path to git folder:\", git_folder)\n",
    "print(\"Path to asset folder:\", asset_folder)"
   ]
  },
  {
   "cell_type": "markdown",
   "metadata": {},
   "source": [
    "**Opening file: \\silver\\combined with relevant columns**"
   ]
  },
  {
   "cell_type": "code",
   "execution_count": 6,
   "metadata": {},
   "outputs": [],
   "source": [
    "df = pd.read_parquet(os.path.join(asset_folder, 'silver','combined_data_v01.parquet'))\n",
    "df.index = pd.to_datetime(df['Date'], format='%Y%m%d%H')\n",
    "df.to_csv(os.path.join(asset_folder, 'silver','inspection.csv'))"
   ]
  },
  {
   "cell_type": "markdown",
   "metadata": {},
   "source": [
    "**Adding relevant time/dates columns**"
   ]
  },
  {
   "cell_type": "code",
   "execution_count": 7,
   "metadata": {},
   "outputs": [
    {
     "data": {
      "text/html": [
       "<div>\n",
       "<style scoped>\n",
       "    .dataframe tbody tr th:only-of-type {\n",
       "        vertical-align: middle;\n",
       "    }\n",
       "\n",
       "    .dataframe tbody tr th {\n",
       "        vertical-align: top;\n",
       "    }\n",
       "\n",
       "    .dataframe thead th {\n",
       "        text-align: right;\n",
       "    }\n",
       "</style>\n",
       "<table border=\"1\" class=\"dataframe\">\n",
       "  <thead>\n",
       "    <tr style=\"text-align: right;\">\n",
       "      <th></th>\n",
       "      <th>Point_6_S_mean</th>\n",
       "      <th>PT100_Temperature_mean</th>\n",
       "      <th>Average_Global_Radiation_(1h)</th>\n",
       "      <th>Relative_Humidity(1h)</th>\n",
       "      <th>Precipitation_(1h)</th>\n",
       "      <th>Average_of_Mean_Wind_(1h)</th>\n",
       "      <th>Day sin</th>\n",
       "      <th>Day cos</th>\n",
       "      <th>Year sin</th>\n",
       "      <th>Year cos</th>\n",
       "      <th>days_since_start</th>\n",
       "    </tr>\n",
       "    <tr>\n",
       "      <th>Date</th>\n",
       "      <th></th>\n",
       "      <th></th>\n",
       "      <th></th>\n",
       "      <th></th>\n",
       "      <th></th>\n",
       "      <th></th>\n",
       "      <th></th>\n",
       "      <th></th>\n",
       "      <th></th>\n",
       "      <th></th>\n",
       "      <th></th>\n",
       "    </tr>\n",
       "  </thead>\n",
       "  <tbody>\n",
       "    <tr>\n",
       "      <th>2020-10-01 00:00:00</th>\n",
       "      <td>-22.681829</td>\n",
       "      <td>12.476844</td>\n",
       "      <td>0.0</td>\n",
       "      <td>71.0</td>\n",
       "      <td>0.0</td>\n",
       "      <td>1.1</td>\n",
       "      <td>-8.575893e-12</td>\n",
       "      <td>1.000000e+00</td>\n",
       "      <td>-0.977848</td>\n",
       "      <td>0.209315</td>\n",
       "      <td>0</td>\n",
       "    </tr>\n",
       "    <tr>\n",
       "      <th>2020-10-01 01:00:00</th>\n",
       "      <td>-25.236402</td>\n",
       "      <td>12.202079</td>\n",
       "      <td>0.0</td>\n",
       "      <td>75.0</td>\n",
       "      <td>0.0</td>\n",
       "      <td>1.5</td>\n",
       "      <td>2.588190e-01</td>\n",
       "      <td>9.659258e-01</td>\n",
       "      <td>-0.977698</td>\n",
       "      <td>0.210016</td>\n",
       "      <td>0</td>\n",
       "    </tr>\n",
       "    <tr>\n",
       "      <th>2020-10-01 02:00:00</th>\n",
       "      <td>-27.953711</td>\n",
       "      <td>11.993529</td>\n",
       "      <td>0.0</td>\n",
       "      <td>72.0</td>\n",
       "      <td>0.0</td>\n",
       "      <td>1.8</td>\n",
       "      <td>5.000000e-01</td>\n",
       "      <td>8.660254e-01</td>\n",
       "      <td>-0.977547</td>\n",
       "      <td>0.210717</td>\n",
       "      <td>0</td>\n",
       "    </tr>\n",
       "    <tr>\n",
       "      <th>2020-10-01 03:00:00</th>\n",
       "      <td>-30.408096</td>\n",
       "      <td>11.865803</td>\n",
       "      <td>0.0</td>\n",
       "      <td>77.0</td>\n",
       "      <td>0.0</td>\n",
       "      <td>1.8</td>\n",
       "      <td>7.071068e-01</td>\n",
       "      <td>7.071068e-01</td>\n",
       "      <td>-0.977396</td>\n",
       "      <td>0.211418</td>\n",
       "      <td>0</td>\n",
       "    </tr>\n",
       "    <tr>\n",
       "      <th>2020-10-01 04:00:00</th>\n",
       "      <td>-32.365598</td>\n",
       "      <td>11.889412</td>\n",
       "      <td>0.0</td>\n",
       "      <td>76.0</td>\n",
       "      <td>0.0</td>\n",
       "      <td>1.8</td>\n",
       "      <td>8.660254e-01</td>\n",
       "      <td>5.000000e-01</td>\n",
       "      <td>-0.977244</td>\n",
       "      <td>0.212119</td>\n",
       "      <td>0</td>\n",
       "    </tr>\n",
       "    <tr>\n",
       "      <th>...</th>\n",
       "      <td>...</td>\n",
       "      <td>...</td>\n",
       "      <td>...</td>\n",
       "      <td>...</td>\n",
       "      <td>...</td>\n",
       "      <td>...</td>\n",
       "      <td>...</td>\n",
       "      <td>...</td>\n",
       "      <td>...</td>\n",
       "      <td>...</td>\n",
       "      <td>...</td>\n",
       "    </tr>\n",
       "    <tr>\n",
       "      <th>2023-12-31 18:00:00</th>\n",
       "      <td>-257.119294</td>\n",
       "      <td>-4.738139</td>\n",
       "      <td>-3.0</td>\n",
       "      <td>60.0</td>\n",
       "      <td>0.0</td>\n",
       "      <td>1.1</td>\n",
       "      <td>-1.000000e+00</td>\n",
       "      <td>-1.136945e-11</td>\n",
       "      <td>0.217723</td>\n",
       "      <td>0.976011</td>\n",
       "      <td>1186</td>\n",
       "    </tr>\n",
       "    <tr>\n",
       "      <th>2023-12-31 19:00:00</th>\n",
       "      <td>-256.383557</td>\n",
       "      <td>-4.625233</td>\n",
       "      <td>-3.0</td>\n",
       "      <td>59.0</td>\n",
       "      <td>0.0</td>\n",
       "      <td>1.3</td>\n",
       "      <td>-9.659258e-01</td>\n",
       "      <td>2.588190e-01</td>\n",
       "      <td>0.218423</td>\n",
       "      <td>0.975854</td>\n",
       "      <td>1186</td>\n",
       "    </tr>\n",
       "    <tr>\n",
       "      <th>2023-12-31 20:00:00</th>\n",
       "      <td>-258.295017</td>\n",
       "      <td>-4.645648</td>\n",
       "      <td>-2.9</td>\n",
       "      <td>57.0</td>\n",
       "      <td>0.0</td>\n",
       "      <td>1.3</td>\n",
       "      <td>-8.660254e-01</td>\n",
       "      <td>5.000000e-01</td>\n",
       "      <td>0.219123</td>\n",
       "      <td>0.975697</td>\n",
       "      <td>1186</td>\n",
       "    </tr>\n",
       "    <tr>\n",
       "      <th>2023-12-31 21:00:00</th>\n",
       "      <td>-259.567834</td>\n",
       "      <td>-4.756255</td>\n",
       "      <td>-2.9</td>\n",
       "      <td>56.0</td>\n",
       "      <td>0.0</td>\n",
       "      <td>1.3</td>\n",
       "      <td>-7.071068e-01</td>\n",
       "      <td>7.071068e-01</td>\n",
       "      <td>0.219823</td>\n",
       "      <td>0.975540</td>\n",
       "      <td>1186</td>\n",
       "    </tr>\n",
       "    <tr>\n",
       "      <th>2023-12-31 22:00:00</th>\n",
       "      <td>-259.985386</td>\n",
       "      <td>-4.433085</td>\n",
       "      <td>-3.2</td>\n",
       "      <td>56.0</td>\n",
       "      <td>0.0</td>\n",
       "      <td>1.0</td>\n",
       "      <td>-5.000000e-01</td>\n",
       "      <td>8.660254e-01</td>\n",
       "      <td>0.220523</td>\n",
       "      <td>0.975382</td>\n",
       "      <td>1186</td>\n",
       "    </tr>\n",
       "  </tbody>\n",
       "</table>\n",
       "<p>26390 rows × 11 columns</p>\n",
       "</div>"
      ],
      "text/plain": [
       "                     Point_6_S_mean  PT100_Temperature_mean  \\\n",
       "Date                                                          \n",
       "2020-10-01 00:00:00      -22.681829               12.476844   \n",
       "2020-10-01 01:00:00      -25.236402               12.202079   \n",
       "2020-10-01 02:00:00      -27.953711               11.993529   \n",
       "2020-10-01 03:00:00      -30.408096               11.865803   \n",
       "2020-10-01 04:00:00      -32.365598               11.889412   \n",
       "...                             ...                     ...   \n",
       "2023-12-31 18:00:00     -257.119294               -4.738139   \n",
       "2023-12-31 19:00:00     -256.383557               -4.625233   \n",
       "2023-12-31 20:00:00     -258.295017               -4.645648   \n",
       "2023-12-31 21:00:00     -259.567834               -4.756255   \n",
       "2023-12-31 22:00:00     -259.985386               -4.433085   \n",
       "\n",
       "                     Average_Global_Radiation_(1h)  Relative_Humidity(1h)  \\\n",
       "Date                                                                        \n",
       "2020-10-01 00:00:00                            0.0                   71.0   \n",
       "2020-10-01 01:00:00                            0.0                   75.0   \n",
       "2020-10-01 02:00:00                            0.0                   72.0   \n",
       "2020-10-01 03:00:00                            0.0                   77.0   \n",
       "2020-10-01 04:00:00                            0.0                   76.0   \n",
       "...                                            ...                    ...   \n",
       "2023-12-31 18:00:00                           -3.0                   60.0   \n",
       "2023-12-31 19:00:00                           -3.0                   59.0   \n",
       "2023-12-31 20:00:00                           -2.9                   57.0   \n",
       "2023-12-31 21:00:00                           -2.9                   56.0   \n",
       "2023-12-31 22:00:00                           -3.2                   56.0   \n",
       "\n",
       "                     Precipitation_(1h)  Average_of_Mean_Wind_(1h)  \\\n",
       "Date                                                                 \n",
       "2020-10-01 00:00:00                 0.0                        1.1   \n",
       "2020-10-01 01:00:00                 0.0                        1.5   \n",
       "2020-10-01 02:00:00                 0.0                        1.8   \n",
       "2020-10-01 03:00:00                 0.0                        1.8   \n",
       "2020-10-01 04:00:00                 0.0                        1.8   \n",
       "...                                 ...                        ...   \n",
       "2023-12-31 18:00:00                 0.0                        1.1   \n",
       "2023-12-31 19:00:00                 0.0                        1.3   \n",
       "2023-12-31 20:00:00                 0.0                        1.3   \n",
       "2023-12-31 21:00:00                 0.0                        1.3   \n",
       "2023-12-31 22:00:00                 0.0                        1.0   \n",
       "\n",
       "                          Day sin       Day cos  Year sin  Year cos  \\\n",
       "Date                                                                  \n",
       "2020-10-01 00:00:00 -8.575893e-12  1.000000e+00 -0.977848  0.209315   \n",
       "2020-10-01 01:00:00  2.588190e-01  9.659258e-01 -0.977698  0.210016   \n",
       "2020-10-01 02:00:00  5.000000e-01  8.660254e-01 -0.977547  0.210717   \n",
       "2020-10-01 03:00:00  7.071068e-01  7.071068e-01 -0.977396  0.211418   \n",
       "2020-10-01 04:00:00  8.660254e-01  5.000000e-01 -0.977244  0.212119   \n",
       "...                           ...           ...       ...       ...   \n",
       "2023-12-31 18:00:00 -1.000000e+00 -1.136945e-11  0.217723  0.976011   \n",
       "2023-12-31 19:00:00 -9.659258e-01  2.588190e-01  0.218423  0.975854   \n",
       "2023-12-31 20:00:00 -8.660254e-01  5.000000e-01  0.219123  0.975697   \n",
       "2023-12-31 21:00:00 -7.071068e-01  7.071068e-01  0.219823  0.975540   \n",
       "2023-12-31 22:00:00 -5.000000e-01  8.660254e-01  0.220523  0.975382   \n",
       "\n",
       "                     days_since_start  \n",
       "Date                                   \n",
       "2020-10-01 00:00:00                 0  \n",
       "2020-10-01 01:00:00                 0  \n",
       "2020-10-01 02:00:00                 0  \n",
       "2020-10-01 03:00:00                 0  \n",
       "2020-10-01 04:00:00                 0  \n",
       "...                               ...  \n",
       "2023-12-31 18:00:00              1186  \n",
       "2023-12-31 19:00:00              1186  \n",
       "2023-12-31 20:00:00              1186  \n",
       "2023-12-31 21:00:00              1186  \n",
       "2023-12-31 22:00:00              1186  \n",
       "\n",
       "[26390 rows x 11 columns]"
      ]
     },
     "metadata": {},
     "output_type": "display_data"
    },
    {
     "data": {
      "text/plain": [
       "[<matplotlib.lines.Line2D at 0x1f1399fda90>]"
      ]
     },
     "execution_count": 7,
     "metadata": {},
     "output_type": "execute_result"
    },
    {
     "data": {
      "image/png": "[encoded data removed]",
      "text/plain": [
       "<Figure size 640x480 with 1 Axes>"
      ]
     },
     "metadata": {},
     "output_type": "display_data"
    }
   ],
   "source": [
    "model_dataset = df[['Point_6_S_mean', 'PT100_Temperature_mean', 'Average_Global_Radiation_(1h)', 'Relative_Humidity(1h)', 'Precipitation_(1h)', 'Average_of_Mean_Wind_(1h)']]['2020-10-01 00:00:00':]#\n",
    "model_dataset['seconds'] = model_dataset.index.map(pd.Timestamp.timestamp)\n",
    "model_dataset['Day sin'] = np.sin(model_dataset['seconds'] * (2 * np.pi / 86400))\n",
    "model_dataset['Day cos'] = np.cos(model_dataset['seconds'] * (2 * np.pi / 86400))\n",
    "model_dataset['Year sin'] = np.sin(model_dataset['seconds'] * (2 * np.pi / 31536000))\n",
    "model_dataset['Year cos'] = np.cos(model_dataset['seconds'] * (2 * np.pi / 31536000))\n",
    "model_dataset['days_since_start'] = (model_dataset.index - model_dataset.index[0]).days\n",
    "model_dataset.drop(columns=['seconds'], inplace=True)\n",
    "display(model_dataset)\n",
    "plt.plot(model_dataset.index, model_dataset['Point_6_S_mean'])"
   ]
  },
  {
   "cell_type": "markdown",
   "metadata": {},
   "source": [
    "# Train-, val- and testing split +++ Scaling"
   ]
  },
  {
   "cell_type": "code",
   "execution_count": 8,
   "metadata": {},
   "outputs": [
    {
     "name": "stdout",
     "output_type": "stream",
     "text": [
      "Training split: 19000, Validation split: 4750, Test split: 2640\n"
     ]
    }
   ],
   "source": [
    "dataset_size = len(model_dataset)\n",
    "training_split = int(0.72 * dataset_size)\n",
    "validation_split = int(0.18 * dataset_size)\n",
    "test_split = dataset_size - training_split - validation_split\n",
    "print(f\"Training split: {training_split}, Validation split: {validation_split}, Test split: {test_split}\")\n",
    "assert training_split + validation_split + test_split == dataset_size, \"Invalid split sizes\""
   ]
  },
  {
   "cell_type": "code",
   "execution_count": 9,
   "metadata": {},
   "outputs": [
    {
     "name": "stdout",
     "output_type": "stream",
     "text": [
      "                     Point_6_S_mean  PT100_Temperature_mean  \\\n",
      "Date                                                          \n",
      "2020-10-01 00:00:00      -22.681829               12.476844   \n",
      "2020-10-01 01:00:00      -25.236402               12.202079   \n",
      "2020-10-01 02:00:00      -27.953711               11.993529   \n",
      "2020-10-01 03:00:00      -30.408096               11.865803   \n",
      "2020-10-01 04:00:00      -32.365598               11.889412   \n",
      "...                             ...                     ...   \n",
      "2023-02-27 01:00:00     -125.969246                4.486058   \n",
      "2023-02-27 02:00:00     -125.969880                4.555233   \n",
      "2023-02-27 03:00:00     -126.237242                4.561771   \n",
      "2023-02-27 04:00:00     -126.476872                4.451549   \n",
      "2023-02-27 05:00:00     -126.989811                4.327346   \n",
      "\n",
      "                     Average_Global_Radiation_(1h)  Relative_Humidity(1h)  \\\n",
      "Date                                                                        \n",
      "2020-10-01 00:00:00                            0.0                   71.0   \n",
      "2020-10-01 01:00:00                            0.0                   75.0   \n",
      "2020-10-01 02:00:00                            0.0                   72.0   \n",
      "2020-10-01 03:00:00                            0.0                   77.0   \n",
      "2020-10-01 04:00:00                            0.0                   76.0   \n",
      "...                                            ...                    ...   \n",
      "2023-02-27 01:00:00                           10.5                   96.0   \n",
      "2023-02-27 02:00:00                           11.4                   96.0   \n",
      "2023-02-27 03:00:00                            8.9                   95.0   \n",
      "2023-02-27 04:00:00                           10.5                   94.0   \n",
      "2023-02-27 05:00:00                           10.8                   95.0   \n",
      "\n",
      "                     Precipitation_(1h)  Average_of_Mean_Wind_(1h)  \\\n",
      "Date                                                                 \n",
      "2020-10-01 00:00:00                 0.0                        1.1   \n",
      "2020-10-01 01:00:00                 0.0                        1.5   \n",
      "2020-10-01 02:00:00                 0.0                        1.8   \n",
      "2020-10-01 03:00:00                 0.0                        1.8   \n",
      "2020-10-01 04:00:00                 0.0                        1.8   \n",
      "...                                 ...                        ...   \n",
      "2023-02-27 01:00:00                 0.0                        1.2   \n",
      "2023-02-27 02:00:00                 0.2                        1.2   \n",
      "2023-02-27 03:00:00                 0.1                        1.4   \n",
      "2023-02-27 04:00:00                 0.0                        1.4   \n",
      "2023-02-27 05:00:00                 0.2                        1.3   \n",
      "\n",
      "                          Day sin   Day cos  Year sin  Year cos  \\\n",
      "Date                                                              \n",
      "2020-10-01 00:00:00 -8.575893e-12  1.000000 -0.977848  0.209315   \n",
      "2020-10-01 01:00:00  2.588190e-01  0.965926 -0.977698  0.210016   \n",
      "2020-10-01 02:00:00  5.000000e-01  0.866025 -0.977547  0.210717   \n",
      "2020-10-01 03:00:00  7.071068e-01  0.707107 -0.977396  0.211418   \n",
      "2020-10-01 04:00:00  8.660254e-01  0.500000 -0.977244  0.212119   \n",
      "...                           ...       ...       ...       ...   \n",
      "2023-02-27 01:00:00  2.588190e-01  0.965926  0.934094  0.357028   \n",
      "2023-02-27 02:00:00  5.000000e-01  0.866025  0.934349  0.356358   \n",
      "2023-02-27 03:00:00  7.071068e-01  0.707107  0.934605  0.355688   \n",
      "2023-02-27 04:00:00  8.660254e-01  0.500000  0.934860  0.355018   \n",
      "2023-02-27 05:00:00  9.659258e-01  0.258819  0.935114  0.354347   \n",
      "\n",
      "                     days_since_start  \n",
      "Date                                   \n",
      "2020-10-01 00:00:00                 0  \n",
      "2020-10-01 01:00:00                 0  \n",
      "2020-10-01 02:00:00                 0  \n",
      "2020-10-01 03:00:00                 0  \n",
      "2020-10-01 04:00:00                 0  \n",
      "...                               ...  \n",
      "2023-02-27 01:00:00               879  \n",
      "2023-02-27 02:00:00               879  \n",
      "2023-02-27 03:00:00               879  \n",
      "2023-02-27 04:00:00               879  \n",
      "2023-02-27 05:00:00               879  \n",
      "\n",
      "[19000 rows x 11 columns]\n",
      "-------------------\n",
      "                     Point_6_S_mean  PT100_Temperature_mean  \\\n",
      "Date                                                          \n",
      "2023-02-27 06:00:00     -126.623416                4.340110   \n",
      "2023-02-27 07:00:00     -126.185777                4.378970   \n",
      "2023-02-27 08:00:00     -125.413436                4.623048   \n",
      "2023-02-27 09:00:00     -123.606423                4.979404   \n",
      "2023-02-27 10:00:00     -120.859737                5.374221   \n",
      "...                             ...                     ...   \n",
      "2023-09-12 20:00:00      -60.026315               11.388543   \n",
      "2023-09-12 21:00:00      -67.030394               10.659181   \n",
      "2023-09-12 22:00:00      -73.038612               10.607650   \n",
      "2023-09-12 23:00:00      -78.055255               10.758183   \n",
      "2023-09-13 00:00:00      -81.855651               10.813459   \n",
      "\n",
      "                     Average_Global_Radiation_(1h)  Relative_Humidity(1h)  \\\n",
      "Date                                                                        \n",
      "2023-02-27 06:00:00                           10.4                   95.0   \n",
      "2023-02-27 07:00:00                           11.3                   91.0   \n",
      "2023-02-27 08:00:00                           12.1                   92.0   \n",
      "2023-02-27 09:00:00                           26.6                   91.0   \n",
      "2023-02-27 10:00:00                           33.5                   91.0   \n",
      "...                                            ...                    ...   \n",
      "2023-09-12 20:00:00                            0.0                   75.0   \n",
      "2023-09-12 21:00:00                            0.0                   78.0   \n",
      "2023-09-12 22:00:00                            0.0                   87.0   \n",
      "2023-09-12 23:00:00                            0.0                   90.0   \n",
      "2023-09-13 00:00:00                            0.0                   88.0   \n",
      "\n",
      "                     Precipitation_(1h)  Average_of_Mean_Wind_(1h)  \\\n",
      "Date                                                                 \n",
      "2023-02-27 06:00:00                 0.0                        1.2   \n",
      "2023-02-27 07:00:00                 0.0                        1.1   \n",
      "2023-02-27 08:00:00                 0.0                        1.1   \n",
      "2023-02-27 09:00:00                 0.0                        1.7   \n",
      "2023-02-27 10:00:00                 0.0                        1.6   \n",
      "...                                 ...                        ...   \n",
      "2023-09-12 20:00:00                 0.0                        0.6   \n",
      "2023-09-12 21:00:00                 0.0                        0.7   \n",
      "2023-09-12 22:00:00                 0.1                        0.3   \n",
      "2023-09-12 23:00:00                 0.0                        0.2   \n",
      "2023-09-13 00:00:00                 0.0                        0.2   \n",
      "\n",
      "                          Day sin       Day cos  Year sin  Year cos  \\\n",
      "Date                                                                  \n",
      "2023-02-27 06:00:00  1.000000e+00  1.669833e-12  0.935368  0.353676   \n",
      "2023-02-27 07:00:00  9.659258e-01 -2.588190e-01  0.935621  0.353005   \n",
      "2023-02-27 08:00:00  8.660254e-01 -5.000000e-01  0.935874  0.352334   \n",
      "2023-02-27 09:00:00  7.071068e-01 -7.071068e-01  0.936127  0.351663   \n",
      "2023-02-27 10:00:00  5.000000e-01 -8.660254e-01  0.936379  0.350991   \n",
      "...                           ...           ...       ...       ...   \n",
      "2023-09-12 20:00:00 -8.660254e-01  5.000000e-01 -0.994818 -0.101675   \n",
      "2023-09-12 21:00:00 -7.071068e-01  7.071068e-01 -0.994890 -0.100961   \n",
      "2023-09-12 22:00:00 -5.000000e-01  8.660254e-01 -0.994963 -0.100248   \n",
      "2023-09-12 23:00:00 -2.588190e-01  9.659258e-01 -0.995034 -0.099534   \n",
      "2023-09-13 00:00:00 -6.558840e-12  1.000000e+00 -0.995105 -0.098820   \n",
      "\n",
      "                     days_since_start  \n",
      "Date                                   \n",
      "2023-02-27 06:00:00               879  \n",
      "2023-02-27 07:00:00               879  \n",
      "2023-02-27 08:00:00               879  \n",
      "2023-02-27 09:00:00               879  \n",
      "2023-02-27 10:00:00               879  \n",
      "...                               ...  \n",
      "2023-09-12 20:00:00              1076  \n",
      "2023-09-12 21:00:00              1076  \n",
      "2023-09-12 22:00:00              1076  \n",
      "2023-09-12 23:00:00              1076  \n",
      "2023-09-13 00:00:00              1077  \n",
      "\n",
      "[4750 rows x 11 columns]\n",
      "-------------------\n",
      "                     Point_6_S_mean  PT100_Temperature_mean  \\\n",
      "Date                                                          \n",
      "2023-09-13 01:00:00      -85.490389               10.714599   \n",
      "2023-09-13 02:00:00      -88.955957               10.588826   \n",
      "2023-09-13 03:00:00      -92.945329               10.350667   \n",
      "2023-09-13 04:00:00      -96.300671                9.842673   \n",
      "2023-09-13 05:00:00      -98.819592                9.825433   \n",
      "...                             ...                     ...   \n",
      "2023-12-31 18:00:00     -257.119294               -4.738139   \n",
      "2023-12-31 19:00:00     -256.383557               -4.625233   \n",
      "2023-12-31 20:00:00     -258.295017               -4.645648   \n",
      "2023-12-31 21:00:00     -259.567834               -4.756255   \n",
      "2023-12-31 22:00:00     -259.985386               -4.433085   \n",
      "\n",
      "                     Average_Global_Radiation_(1h)  Relative_Humidity(1h)  \\\n",
      "Date                                                                        \n",
      "2023-09-13 01:00:00                            0.0                   91.0   \n",
      "2023-09-13 02:00:00                            0.0                   90.0   \n",
      "2023-09-13 03:00:00                            0.0                   94.0   \n",
      "2023-09-13 04:00:00                            0.0                   95.0   \n",
      "2023-09-13 05:00:00                            1.9                   93.0   \n",
      "...                                            ...                    ...   \n",
      "2023-12-31 18:00:00                           -3.0                   60.0   \n",
      "2023-12-31 19:00:00                           -3.0                   59.0   \n",
      "2023-12-31 20:00:00                           -2.9                   57.0   \n",
      "2023-12-31 21:00:00                           -2.9                   56.0   \n",
      "2023-12-31 22:00:00                           -3.2                   56.0   \n",
      "\n",
      "                     Precipitation_(1h)  Average_of_Mean_Wind_(1h)   Day sin  \\\n",
      "Date                                                                           \n",
      "2023-09-13 01:00:00                 0.0                        0.1  0.258819   \n",
      "2023-09-13 02:00:00                 0.1                        0.2  0.500000   \n",
      "2023-09-13 03:00:00                 0.1                        0.0  0.707107   \n",
      "2023-09-13 04:00:00                 0.0                        0.1  0.866025   \n",
      "2023-09-13 05:00:00                 0.0                        0.7  0.965926   \n",
      "...                                 ...                        ...       ...   \n",
      "2023-12-31 18:00:00                 0.0                        1.1 -1.000000   \n",
      "2023-12-31 19:00:00                 0.0                        1.3 -0.965926   \n",
      "2023-12-31 20:00:00                 0.0                        1.3 -0.866025   \n",
      "2023-12-31 21:00:00                 0.0                        1.3 -0.707107   \n",
      "2023-12-31 22:00:00                 0.0                        1.0 -0.500000   \n",
      "\n",
      "                          Day cos  Year sin  Year cos  days_since_start  \n",
      "Date                                                                     \n",
      "2023-09-13 01:00:00  9.659258e-01 -0.995176 -0.098106              1077  \n",
      "2023-09-13 02:00:00  8.660254e-01 -0.995246 -0.097393              1077  \n",
      "2023-09-13 03:00:00  7.071068e-01 -0.995316 -0.096679              1077  \n",
      "2023-09-13 04:00:00  5.000000e-01 -0.995385 -0.095965              1077  \n",
      "2023-09-13 05:00:00  2.588190e-01 -0.995453 -0.095251              1077  \n",
      "...                           ...       ...       ...               ...  \n",
      "2023-12-31 18:00:00 -1.136945e-11  0.217723  0.976011              1186  \n",
      "2023-12-31 19:00:00  2.588190e-01  0.218423  0.975854              1186  \n",
      "2023-12-31 20:00:00  5.000000e-01  0.219123  0.975697              1186  \n",
      "2023-12-31 21:00:00  7.071068e-01  0.219823  0.975540              1186  \n",
      "2023-12-31 22:00:00  8.660254e-01  0.220523  0.975382              1186  \n",
      "\n",
      "[2640 rows x 11 columns]\n"
     ]
    }
   ],
   "source": [
    "print(model_dataset[:training_split])\n",
    "print(\"-------------------\")\n",
    "print(model_dataset[training_split:-test_split])\n",
    "print(\"-------------------\")\n",
    "print(model_dataset[-test_split:])"
   ]
  },
  {
   "cell_type": "markdown",
   "metadata": {},
   "source": [
    "**Assigning labels and targets - x- and y- train,-val and -test**"
   ]
  },
  {
   "cell_type": "code",
   "execution_count": 10,
   "metadata": {},
   "outputs": [
    {
     "name": "stdout",
     "output_type": "stream",
     "text": [
      "(25670, 720, 10) (25670,)\n",
      "(19000, 720, 10) (19000,) (4750, 720, 10) (4750,) (2640, 720, 10) (2640,)\n"
     ]
    }
   ],
   "source": [
    "window_size = 24*30\n",
    "\n",
    "X, y = df_to_X_y(model_dataset, window_size)\n",
    "print(X.shape, y.shape)\n",
    "\n",
    "# Splitting the data into training, validation and test sets\n",
    "X_train, y_train = X[:training_split], y[:training_split]\n",
    "X_valid, y_valid = X[training_split:(training_split + validation_split)], y[training_split:(training_split + validation_split)]\n",
    "X_test, y_test = X[-test_split:], y[-test_split:]\n",
    "print(X_train.shape, y_train.shape, X_valid.shape, y_valid.shape, X_test.shape, y_test.shape)"
   ]
  },
  {
   "cell_type": "markdown",
   "metadata": {},
   "source": [
    "**Normlaization**"
   ]
  },
  {
   "cell_type": "code",
   "execution_count": 11,
   "metadata": {},
   "outputs": [],
   "source": [
    "# Reshape to 2D (Normalisation requires 2D input)\n",
    "X_train_2D = np.reshape(X_train, (X_train.shape[0] * X_train.shape[1], X_train.shape[2]))\n",
    "X_valid_2D = np.reshape(X_valid, (X_valid.shape[0] * X_valid.shape[1], X_valid.shape[2]))\n",
    "X_test_2D = np.reshape(X_test, (X_test.shape[0] * X_test.shape[1], X_test.shape[2]))\n",
    "\n",
    "# Apply scaling\n",
    "scaler_x = StandardScaler()\n",
    "X_train_scaled_2D = scaler_x.fit_transform(X_train_2D)\n",
    "X_valid_scaled_2D = scaler_x.transform(X_valid_2D)\n",
    "X_test_scaled_2D = scaler_x.transform(X_test_2D)\n",
    "\n",
    "# Reshape back to 3D\n",
    "X_train_scaled = np.reshape(X_train_scaled_2D, (X_train.shape[0], X_train.shape[1], X_train.shape[2]))\n",
    "X_valid_scaled = np.reshape(X_valid_scaled_2D, (X_valid.shape[0], X_valid.shape[1], X_valid.shape[2]))\n",
    "X_test_scaled = np.reshape(X_test_scaled_2D, (X_test.shape[0], X_test.shape[1], X_test.shape[2]))\n",
    "\n",
    "scaler_y = StandardScaler()\n",
    "y_train_scaled = scaler_y.fit_transform(y_train.reshape(-1, 1))\n",
    "y_valid_scaled = scaler_y.transform(y_valid.reshape(-1, 1))\n",
    "y_test_scaled = scaler_y.transform(y_test.reshape(-1, 1))"
   ]
  },
  {
   "cell_type": "markdown",
   "metadata": {},
   "source": [
    "# LSTM Model 2"
   ]
  },
  {
   "cell_type": "code",
   "execution_count": 1,
   "metadata": {},
   "outputs": [],
   "source": [
    "model_name = 'lstm_model_point_6_S_001'\n",
    "batch_size = 128\n",
    "epochs = 200\n",
    "learning_rate = 0.001\n",
    "patience = 12\n",
    "verbose = 1\n",
    "saving_frequency = 8"
   ]
  },
  {
   "cell_type": "code",
   "execution_count": null,
   "metadata": {},
   "outputs": [
    {
     "name": "stdout",
     "output_type": "stream",
     "text": [
      "WARNING:tensorflow:From c:\\Users\\erlih\\repos\\HeroysundBridge-ML\\venv\\Lib\\site-packages\\keras\\src\\backend.py:873: The name tf.get_default_graph is deprecated. Please use tf.compat.v1.get_default_graph instead.\n",
      "\n",
      "Model: \"sequential\"\n",
      "_________________________________________________________________\n",
      " Layer (type)                Output Shape              Param #   \n",
      "=================================================================\n",
      " lstm (LSTM)                 (None, 32)                5504      \n",
      "                                                                 \n",
      " dense (Dense)               (None, 1)                 33        \n",
      "                                                                 \n",
      "=================================================================\n",
      "Total params: 5537 (21.63 KB)\n",
      "Trainable params: 5537 (21.63 KB)\n",
      "Non-trainable params: 0 (0.00 Byte)\n",
      "_________________________________________________________________\n"
     ]
    }
   ],
   "source": [
    "model = Sequential()\n",
    "model.add(InputLayer((window_size, (len(model_dataset.columns)-1))))\n",
    "#model.add(LSTM(32, return_sequences=True, dropout=0.5, recurrent_dropout=0.5))\n",
    "model.add(LSTM(32, dropout=0.5, recurrent_dropout=0.5))\n",
    "#model.add(Dense(8, activation='relu'))\n",
    "model.add(Dense(1, activation='linear'))\n",
    "model.summary()"
   ]
  },
  {
   "cell_type": "code",
   "execution_count": null,
   "metadata": {},
   "outputs": [
    {
     "name": "stdout",
     "output_type": "stream",
     "text": [
      "Epoch 1/200\n",
      "WARNING:tensorflow:From c:\\Users\\erlih\\repos\\HeroysundBridge-ML\\venv\\Lib\\site-packages\\keras\\src\\utils\\tf_utils.py:492: The name tf.ragged.RaggedTensorValue is deprecated. Please use tf.compat.v1.ragged.RaggedTensorValue instead.\n",
      "\n",
      "WARNING:tensorflow:From c:\\Users\\erlih\\repos\\HeroysundBridge-ML\\venv\\Lib\\site-packages\\keras\\src\\engine\\base_layer_utils.py:384: The name tf.executing_eagerly_outside_functions is deprecated. Please use tf.compat.v1.executing_eagerly_outside_functions instead.\n",
      "\n",
      "149/149 [==============================] - ETA: 0s - loss: 0.1965 - mae: 0.3180\n",
      "Epoch 1: val_loss improved from inf to 0.26343, saving model to c:\\Users\\erlih\\repos\\HeroysundBridge-ML-Assets\\gold\\lstm_model_point_6_S_001\n",
      "INFO:tensorflow:Assets written to: c:\\Users\\erlih\\repos\\HeroysundBridge-ML-Assets\\gold\\lstm_model_point_6_S_001\\assets\n"
     ]
    },
    {
     "name": "stderr",
     "output_type": "stream",
     "text": [
      "INFO:tensorflow:Assets written to: c:\\Users\\erlih\\repos\\HeroysundBridge-ML-Assets\\gold\\lstm_model_point_6_S_001\\assets\n"
     ]
    },
    {
     "name": "stdout",
     "output_type": "stream",
     "text": [
      "149/149 [==============================] - 82s 542ms/step - loss: 0.1965 - mae: 0.3180 - val_loss: 0.2634 - val_mae: 0.4335\n",
      "Epoch 2/200\n",
      "149/149 [==============================] - ETA: 0s - loss: 0.0795 - mae: 0.2185\n",
      "Epoch 2: val_loss improved from 0.26343 to 0.18448, saving model to c:\\Users\\erlih\\repos\\HeroysundBridge-ML-Assets\\gold\\lstm_model_point_6_S_001\n",
      "INFO:tensorflow:Assets written to: c:\\Users\\erlih\\repos\\HeroysundBridge-ML-Assets\\gold\\lstm_model_point_6_S_001\\assets\n"
     ]
    },
    {
     "name": "stderr",
     "output_type": "stream",
     "text": [
      "INFO:tensorflow:Assets written to: c:\\Users\\erlih\\repos\\HeroysundBridge-ML-Assets\\gold\\lstm_model_point_6_S_001\\assets\n"
     ]
    },
    {
     "name": "stdout",
     "output_type": "stream",
     "text": [
      "149/149 [==============================] - 80s 536ms/step - loss: 0.0795 - mae: 0.2185 - val_loss: 0.1845 - val_mae: 0.3512\n",
      "Epoch 3/200\n",
      "149/149 [==============================] - ETA: 0s - loss: 0.0675 - mae: 0.2017\n",
      "Epoch 3: val_loss did not improve from 0.18448\n",
      "149/149 [==============================] - 79s 529ms/step - loss: 0.0675 - mae: 0.2017 - val_loss: 0.1852 - val_mae: 0.3511\n",
      "Epoch 4/200\n",
      "149/149 [==============================] - ETA: 0s - loss: 0.0583 - mae: 0.1866\n",
      "Epoch 4: val_loss improved from 0.18448 to 0.13893, saving model to c:\\Users\\erlih\\repos\\HeroysundBridge-ML-Assets\\gold\\lstm_model_point_6_S_001\n",
      "INFO:tensorflow:Assets written to: c:\\Users\\erlih\\repos\\HeroysundBridge-ML-Assets\\gold\\lstm_model_point_6_S_001\\assets\n"
     ]
    },
    {
     "name": "stderr",
     "output_type": "stream",
     "text": [
      "INFO:tensorflow:Assets written to: c:\\Users\\erlih\\repos\\HeroysundBridge-ML-Assets\\gold\\lstm_model_point_6_S_001\\assets\n"
     ]
    },
    {
     "name": "stdout",
     "output_type": "stream",
     "text": [
      "149/149 [==============================] - 80s 540ms/step - loss: 0.0583 - mae: 0.1866 - val_loss: 0.1389 - val_mae: 0.3038\n",
      "Epoch 5/200\n",
      "149/149 [==============================] - ETA: 0s - loss: 0.0525 - mae: 0.1765\n",
      "Epoch 5: val_loss improved from 0.13893 to 0.09972, saving model to c:\\Users\\erlih\\repos\\HeroysundBridge-ML-Assets\\gold\\lstm_model_point_6_S_001\n",
      "INFO:tensorflow:Assets written to: c:\\Users\\erlih\\repos\\HeroysundBridge-ML-Assets\\gold\\lstm_model_point_6_S_001\\assets\n"
     ]
    },
    {
     "name": "stderr",
     "output_type": "stream",
     "text": [
      "INFO:tensorflow:Assets written to: c:\\Users\\erlih\\repos\\HeroysundBridge-ML-Assets\\gold\\lstm_model_point_6_S_001\\assets\n"
     ]
    },
    {
     "name": "stdout",
     "output_type": "stream",
     "text": [
      "149/149 [==============================] - 80s 537ms/step - loss: 0.0525 - mae: 0.1765 - val_loss: 0.0997 - val_mae: 0.2561\n",
      "Epoch 6/200\n",
      "149/149 [==============================] - ETA: 0s - loss: 0.0482 - mae: 0.1704\n",
      "Epoch 6: val_loss improved from 0.09972 to 0.07430, saving model to c:\\Users\\erlih\\repos\\HeroysundBridge-ML-Assets\\gold\\lstm_model_point_6_S_001\n",
      "INFO:tensorflow:Assets written to: c:\\Users\\erlih\\repos\\HeroysundBridge-ML-Assets\\gold\\lstm_model_point_6_S_001\\assets\n"
     ]
    },
    {
     "name": "stderr",
     "output_type": "stream",
     "text": [
      "INFO:tensorflow:Assets written to: c:\\Users\\erlih\\repos\\HeroysundBridge-ML-Assets\\gold\\lstm_model_point_6_S_001\\assets\n"
     ]
    },
    {
     "name": "stdout",
     "output_type": "stream",
     "text": [
      "149/149 [==============================] - 81s 541ms/step - loss: 0.0482 - mae: 0.1704 - val_loss: 0.0743 - val_mae: 0.2173\n",
      "Epoch 7/200\n",
      "149/149 [==============================] - ETA: 0s - loss: 0.0455 - mae: 0.1647\n",
      "Epoch 7: val_loss did not improve from 0.07430\n",
      "149/149 [==============================] - 83s 556ms/step - loss: 0.0455 - mae: 0.1647 - val_loss: 0.0958 - val_mae: 0.2468\n",
      "Epoch 8/200\n",
      "149/149 [==============================] - ETA: 0s - loss: 0.0424 - mae: 0.1594\n",
      "Epoch 8: val_loss improved from 0.07430 to 0.06971, saving model to c:\\Users\\erlih\\repos\\HeroysundBridge-ML-Assets\\gold\\lstm_model_point_6_S_001\n",
      "INFO:tensorflow:Assets written to: c:\\Users\\erlih\\repos\\HeroysundBridge-ML-Assets\\gold\\lstm_model_point_6_S_001\\assets\n"
     ]
    },
    {
     "name": "stderr",
     "output_type": "stream",
     "text": [
      "INFO:tensorflow:Assets written to: c:\\Users\\erlih\\repos\\HeroysundBridge-ML-Assets\\gold\\lstm_model_point_6_S_001\\assets\n"
     ]
    },
    {
     "name": "stdout",
     "output_type": "stream",
     "text": [
      "149/149 [==============================] - 79s 531ms/step - loss: 0.0424 - mae: 0.1594 - val_loss: 0.0697 - val_mae: 0.2133\n",
      "Epoch 9/200\n",
      "149/149 [==============================] - ETA: 0s - loss: 0.0399 - mae: 0.1544\n",
      "Epoch 9: val_loss did not improve from 0.06971\n",
      "149/149 [==============================] - 78s 521ms/step - loss: 0.0399 - mae: 0.1544 - val_loss: 0.0761 - val_mae: 0.2255\n",
      "Epoch 10/200\n",
      "149/149 [==============================] - ETA: 0s - loss: 0.0388 - mae: 0.1520\n",
      "Epoch 10: val_loss did not improve from 0.06971\n",
      "149/149 [==============================] - 79s 530ms/step - loss: 0.0388 - mae: 0.1520 - val_loss: 0.0758 - val_mae: 0.2230\n",
      "Epoch 11/200\n",
      "149/149 [==============================] - ETA: 0s - loss: 0.0370 - mae: 0.1485\n",
      "Epoch 11: val_loss did not improve from 0.06971\n",
      "149/149 [==============================] - 79s 531ms/step - loss: 0.0370 - mae: 0.1485 - val_loss: 0.1136 - val_mae: 0.2615\n",
      "Epoch 12/200\n",
      "149/149 [==============================] - ETA: 0s - loss: 0.0362 - mae: 0.1465\n",
      "Epoch 12: val_loss did not improve from 0.06971\n",
      "149/149 [==============================] - 79s 529ms/step - loss: 0.0362 - mae: 0.1465 - val_loss: 0.1233 - val_mae: 0.2701\n",
      "Epoch 13/200\n",
      "149/149 [==============================] - ETA: 0s - loss: 0.0352 - mae: 0.1450\n",
      "Epoch 13: val_loss did not improve from 0.06971\n",
      "149/149 [==============================] - 79s 532ms/step - loss: 0.0352 - mae: 0.1450 - val_loss: 0.0736 - val_mae: 0.2137\n",
      "Epoch 14/200\n",
      "149/149 [==============================] - ETA: 0s - loss: 0.0346 - mae: 0.1438\n",
      "Epoch 14: val_loss did not improve from 0.06971\n",
      "149/149 [==============================] - 78s 527ms/step - loss: 0.0346 - mae: 0.1438 - val_loss: 0.0821 - val_mae: 0.2283\n",
      "Epoch 15/200\n",
      "149/149 [==============================] - ETA: 0s - loss: 0.0350 - mae: 0.1440\n",
      "Epoch 15: val_loss did not improve from 0.06971\n",
      "149/149 [==============================] - 79s 529ms/step - loss: 0.0350 - mae: 0.1440 - val_loss: 0.0879 - val_mae: 0.2380\n",
      "Epoch 16/200\n",
      "149/149 [==============================] - ETA: 0s - loss: 0.0336 - mae: 0.1409\n",
      "Epoch 16: val_loss improved from 0.06971 to 0.06733, saving model to c:\\Users\\erlih\\repos\\HeroysundBridge-ML-Assets\\gold\\lstm_model_point_6_S_001\n",
      "INFO:tensorflow:Assets written to: c:\\Users\\erlih\\repos\\HeroysundBridge-ML-Assets\\gold\\lstm_model_point_6_S_001\\assets\n"
     ]
    },
    {
     "name": "stderr",
     "output_type": "stream",
     "text": [
      "INFO:tensorflow:Assets written to: c:\\Users\\erlih\\repos\\HeroysundBridge-ML-Assets\\gold\\lstm_model_point_6_S_001\\assets\n"
     ]
    },
    {
     "name": "stdout",
     "output_type": "stream",
     "text": [
      "149/149 [==============================] - 81s 547ms/step - loss: 0.0336 - mae: 0.1409 - val_loss: 0.0673 - val_mae: 0.2056\n",
      "Epoch 17/200\n",
      "149/149 [==============================] - ETA: 0s - loss: 0.0326 - mae: 0.1392\n",
      "Epoch 17: val_loss did not improve from 0.06733\n",
      "149/149 [==============================] - 80s 535ms/step - loss: 0.0326 - mae: 0.1392 - val_loss: 0.0809 - val_mae: 0.2211\n",
      "Epoch 18/200\n",
      "149/149 [==============================] - ETA: 0s - loss: 0.0319 - mae: 0.1382\n",
      "Epoch 18: val_loss did not improve from 0.06733\n",
      "149/149 [==============================] - 80s 535ms/step - loss: 0.0319 - mae: 0.1382 - val_loss: 0.0869 - val_mae: 0.2310\n",
      "Epoch 19/200\n",
      "149/149 [==============================] - ETA: 0s - loss: 0.0323 - mae: 0.1387\n",
      "Epoch 19: val_loss did not improve from 0.06733\n",
      "149/149 [==============================] - 79s 533ms/step - loss: 0.0323 - mae: 0.1387 - val_loss: 0.0676 - val_mae: 0.2004\n",
      "Epoch 20/200\n",
      "149/149 [==============================] - ETA: 0s - loss: 0.0309 - mae: 0.1357\n",
      "Epoch 20: val_loss did not improve from 0.06733\n",
      "149/149 [==============================] - 79s 529ms/step - loss: 0.0309 - mae: 0.1357 - val_loss: 0.1565 - val_mae: 0.2918\n",
      "Epoch 21/200\n",
      "149/149 [==============================] - ETA: 0s - loss: 0.0309 - mae: 0.1360\n",
      "Epoch 21: val_loss did not improve from 0.06733\n",
      "149/149 [==============================] - 79s 531ms/step - loss: 0.0309 - mae: 0.1360 - val_loss: 0.1479 - val_mae: 0.2817\n",
      "Epoch 22/200\n",
      "149/149 [==============================] - ETA: 0s - loss: 0.0298 - mae: 0.1332\n",
      "Epoch 22: val_loss did not improve from 0.06733\n",
      "149/149 [==============================] - 79s 533ms/step - loss: 0.0298 - mae: 0.1332 - val_loss: 0.1325 - val_mae: 0.2620\n",
      "Epoch 23/200\n",
      "149/149 [==============================] - ETA: 0s - loss: 0.0297 - mae: 0.1329\n",
      "Epoch 23: val_loss did not improve from 0.06733\n",
      "149/149 [==============================] - 79s 531ms/step - loss: 0.0297 - mae: 0.1329 - val_loss: 0.1581 - val_mae: 0.2879\n",
      "Epoch 24/200\n",
      "149/149 [==============================] - ETA: 0s - loss: 0.0296 - mae: 0.1324\n",
      "Epoch 24: val_loss did not improve from 0.06733\n",
      "149/149 [==============================] - 82s 552ms/step - loss: 0.0296 - mae: 0.1324 - val_loss: 0.0943 - val_mae: 0.2308\n",
      "Epoch 25/200\n",
      "149/149 [==============================] - ETA: 0s - loss: 0.0286 - mae: 0.1304"
     ]
    }
   ],
   "source": [
    "cp = ModelCheckpoint(os.path.join(asset_folder, 'gold', str(model_name)), save_best_only=True, mode='auto', verbose=verbose)\n",
    "es = EarlyStopping(monitor='val_loss', patience=patience, mode='auto', verbose=verbose)\n",
    "model.compile(optimizer=Adam(learning_rate), loss='mse', metrics=['mae'])\n",
    "history = model.fit(X_train_scaled, y_train_scaled, validation_data=(X_valid_scaled, y_valid_scaled), epochs=epochs, batch_size=batch_size, callbacks=[es,cp], verbose=verbose) "
   ]
  },
  {
   "cell_type": "markdown",
   "metadata": {},
   "source": [
    "**Visualization of ML-metrics**"
   ]
  },
  {
   "cell_type": "code",
   "execution_count": null,
   "metadata": {},
   "outputs": [
    {
     "ename": "NameError",
     "evalue": "name 'history' is not defined",
     "output_type": "error",
     "traceback": [
      "\u001b[1;31m---------------------------------------------------------------------------\u001b[0m",
      "\u001b[1;31mNameError\u001b[0m                                 Traceback (most recent call last)",
      "Cell \u001b[1;32mIn[11], line 1\u001b[0m\n\u001b[1;32m----> 1\u001b[0m train_loss \u001b[38;5;241m=\u001b[39m \u001b[43mhistory\u001b[49m\u001b[38;5;241m.\u001b[39mhistory[\u001b[38;5;124m'\u001b[39m\u001b[38;5;124mloss\u001b[39m\u001b[38;5;124m'\u001b[39m]\n\u001b[0;32m      2\u001b[0m val_loss \u001b[38;5;241m=\u001b[39m history\u001b[38;5;241m.\u001b[39mhistory[\u001b[38;5;124m'\u001b[39m\u001b[38;5;124mval_loss\u001b[39m\u001b[38;5;124m'\u001b[39m]\n\u001b[0;32m      4\u001b[0m \u001b[38;5;66;03m# Get the number of epochs\u001b[39;00m\n",
      "\u001b[1;31mNameError\u001b[0m: name 'history' is not defined"
     ]
    }
   ],
   "source": [
    "train_loss = history.history['loss']\n",
    "val_loss = history.history['val_loss']\n",
    "\n",
    "# Get the number of epochs\n",
    "epochs = range(1, len(train_loss) + 1)\n",
    "\n",
    "# Get the index of the best model\n",
    "best_model_index = np.argmin(val_loss)\n",
    "\n",
    "# Plot the training loss vs validation loss\n",
    "plt.plot(epochs, train_loss, 'r', label='Training Loss')\n",
    "plt.plot(epochs, val_loss, 'b', label='Validation Loss')\n",
    "plt.scatter(best_model_index + 1, val_loss[best_model_index], color='g', label='Best Model')\n",
    "plt.title('Training Loss vs Validation Loss')\n",
    "plt.xlabel('Epochs',fontsize=16)\n",
    "plt.ylabel('Loss [MSE]',fontsize=16)\n",
    "plt.legend(fontsize=14)\n",
    "\n",
    "# Display the MAE value of the best model\n",
    "best_model_mae = val_loss[best_model_index]\n",
    "plt.annotate(f'MAE: {best_model_mae:.4f}', (best_model_index + 1, best_model_mae), xytext=(10, 10),\n",
    "             textcoords='offset points', color='g')\n",
    "\n",
    "plt.show()"
   ]
  },
  {
   "cell_type": "markdown",
   "metadata": {},
   "source": [
    "### Predictions"
   ]
  },
  {
   "cell_type": "code",
   "execution_count": 12,
   "metadata": {},
   "outputs": [
    {
     "name": "stdout",
     "output_type": "stream",
     "text": [
      "WARNING:tensorflow:From c:\\Users\\erlih\\repos\\HeroysundBridge-ML\\venv\\Lib\\site-packages\\keras\\src\\saving\\legacy\\saved_model\\load.py:107: The name tf.gfile.Exists is deprecated. Please use tf.io.gfile.exists instead.\n",
      "\n",
      "WARNING:tensorflow:From c:\\Users\\erlih\\repos\\HeroysundBridge-ML\\venv\\Lib\\site-packages\\keras\\src\\layers\\rnn\\lstm.py:148: The name tf.executing_eagerly_outside_functions is deprecated. Please use tf.compat.v1.executing_eagerly_outside_functions instead.\n",
      "\n",
      "83/83 [==============================] - 11s 135ms/step\n"
     ]
    },
    {
     "data": {
      "image/png": "[encoded data removed]",
      "text/plain": [
       "<Figure size 1000x500 with 1 Axes>"
      ]
     },
     "metadata": {},
     "output_type": "display_data"
    },
    {
     "name": "stdout",
     "output_type": "stream",
     "text": [
      "MSE: 393.26751708984375\n",
      "MAE: 16.773317337036133\n",
      "R^2 Score: 0.8659451362330429\n"
     ]
    },
    {
     "data": {
      "text/html": [
       "<div>\n",
       "<style scoped>\n",
       "    .dataframe tbody tr th:only-of-type {\n",
       "        vertical-align: middle;\n",
       "    }\n",
       "\n",
       "    .dataframe tbody tr th {\n",
       "        vertical-align: top;\n",
       "    }\n",
       "\n",
       "    .dataframe thead th {\n",
       "        text-align: right;\n",
       "    }\n",
       "</style>\n",
       "<table border=\"1\" class=\"dataframe\">\n",
       "  <thead>\n",
       "    <tr style=\"text-align: right;\">\n",
       "      <th></th>\n",
       "      <th>Predictions</th>\n",
       "      <th>Actuals</th>\n",
       "    </tr>\n",
       "  </thead>\n",
       "  <tbody>\n",
       "    <tr>\n",
       "      <th>0</th>\n",
       "      <td>-86.529465</td>\n",
       "      <td>-85.490389</td>\n",
       "    </tr>\n",
       "    <tr>\n",
       "      <th>1</th>\n",
       "      <td>-89.944969</td>\n",
       "      <td>-88.955957</td>\n",
       "    </tr>\n",
       "    <tr>\n",
       "      <th>2</th>\n",
       "      <td>-92.565491</td>\n",
       "      <td>-92.945329</td>\n",
       "    </tr>\n",
       "    <tr>\n",
       "      <th>3</th>\n",
       "      <td>-94.842796</td>\n",
       "      <td>-96.300671</td>\n",
       "    </tr>\n",
       "    <tr>\n",
       "      <th>4</th>\n",
       "      <td>-96.670670</td>\n",
       "      <td>-98.819592</td>\n",
       "    </tr>\n",
       "    <tr>\n",
       "      <th>...</th>\n",
       "      <td>...</td>\n",
       "      <td>...</td>\n",
       "    </tr>\n",
       "    <tr>\n",
       "      <th>2635</th>\n",
       "      <td>-250.572800</td>\n",
       "      <td>-257.119294</td>\n",
       "    </tr>\n",
       "    <tr>\n",
       "      <th>2636</th>\n",
       "      <td>-250.768066</td>\n",
       "      <td>-256.383557</td>\n",
       "    </tr>\n",
       "    <tr>\n",
       "      <th>2637</th>\n",
       "      <td>-251.026459</td>\n",
       "      <td>-258.295017</td>\n",
       "    </tr>\n",
       "    <tr>\n",
       "      <th>2638</th>\n",
       "      <td>-251.599197</td>\n",
       "      <td>-259.567834</td>\n",
       "    </tr>\n",
       "    <tr>\n",
       "      <th>2639</th>\n",
       "      <td>-252.388519</td>\n",
       "      <td>-259.985386</td>\n",
       "    </tr>\n",
       "  </tbody>\n",
       "</table>\n",
       "<p>2640 rows × 2 columns</p>\n",
       "</div>"
      ],
      "text/plain": [
       "      Predictions     Actuals\n",
       "0      -86.529465  -85.490389\n",
       "1      -89.944969  -88.955957\n",
       "2      -92.565491  -92.945329\n",
       "3      -94.842796  -96.300671\n",
       "4      -96.670670  -98.819592\n",
       "...           ...         ...\n",
       "2635  -250.572800 -257.119294\n",
       "2636  -250.768066 -256.383557\n",
       "2637  -251.026459 -258.295017\n",
       "2638  -251.599197 -259.567834\n",
       "2639  -252.388519 -259.985386\n",
       "\n",
       "[2640 rows x 2 columns]"
      ]
     },
     "metadata": {},
     "output_type": "display_data"
    }
   ],
   "source": [
    "from sklearn.metrics import r2_score as score\n",
    "\n",
    "model_file_path = os.path.join(asset_folder, 'gold', model_name)\n",
    "model = load_model(model_file_path)\n",
    "plot_predictions(model_dataset, test_split, model, X_test_scaled, y_test, start=0, end=test_split, scaler=scaler_y)\n",
    "#print(f\"R^2 Score: {score(X_test_scaled, y_test)}\")"
   ]
  }
 ],
 "metadata": {
  "kernelspec": {
   "display_name": "venv",
   "language": "python",
   "name": "python3"
  },
  "language_info": {
   "codemirror_mode": {
    "name": "ipython",
    "version": 3
   },
   "file_extension": ".py",
   "mimetype": "text/x-python",
   "name": "python",
   "nbconvert_exporter": "python",
   "pygments_lexer": "ipython3",
   "version": "3.11.7"
  }
 },
 "nbformat": 4,
 "nbformat_minor": 2
}
