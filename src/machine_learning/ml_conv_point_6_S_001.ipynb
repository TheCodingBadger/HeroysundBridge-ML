{
 "cells": [
  {
   "cell_type": "code",
   "execution_count": 96,
   "metadata": {},
   "outputs": [],
   "source": [
    "from ml_toolkit import df_to_X_y\n",
    "from ml_toolkit import plot_predictions\n",
    "\n",
    "import os\n",
    "import sys\n",
    "import datetime\n",
    "\n",
    "import numpy as np\n",
    "import pandas as pd\n",
    "import matplotlib.pyplot as plt\n",
    "plt.rcParams['font.family'] = 'DejaVu Serif'\n",
    "\n",
    "from sklearn.preprocessing import StandardScaler\n",
    "from sklearn.metrics import mean_squared_error as mse\n",
    "\n",
    "from tensorflow.keras.models import Sequential, load_model\n",
    "from tensorflow.keras.layers import *\n",
    "from tensorflow.keras.callbacks import ModelCheckpoint, EarlyStopping\n",
    "from tensorflow.keras.losses import mean_squared_error, mean_absolute_error\n",
    "from tensorflow.keras.optimizers import Adam\n"
   ]
  },
  {
   "cell_type": "markdown",
   "metadata": {},
   "source": [
    "| Date                | Point_1_N_mean | PT100_Temperature_mean | Average_Global_Radiation_(1h) | Day sin          | Day cos          | Year sin       | Year cos       |\n",
    "|---------------------|----------------|------------------------|-------------------------------|------------------|------------------|----------------|----------------|\n",
    "| 2020-09-02 12:00:00 | 18.324186      | 16.261441              | 954.0                         | 7.392965e-12     | -1.000000e+00    | -0.961130      | -0.276097      |\n",
    "| 2020-09-03 12:00:00 | 24.667922      | 16.858222              | 966.0                         | 3.094426e-12     | -1.000000e+00    | -0.965740      | -0.259512      |\n",
    "| 2020-09-04 10:00:00 | -15.535099     | 14.256647              | 131.6                         | 5.000000e-01     | -8.660254e-01    | -0.969715      | -0.244241      |\n",
    "| 2020-09-04 14:00:00 | -10.819921     | 14.687477              | 314.0                         | -5.000000e-01    | -8.660254e-01    | -0.970411      | -0.241458      |\n",
    "| 2020-09-04 18:00:00 | -15.399971     | 13.874647              | 236.0                         | -1.000000e+00    | -1.359232e-12    | -0.971100      | -0.238673      |\n"
   ]
  },
  {
   "cell_type": "markdown",
   "metadata": {},
   "source": [
    "# Loading data"
   ]
  },
  {
   "cell_type": "code",
   "execution_count": 97,
   "metadata": {},
   "outputs": [
    {
     "name": "stdout",
     "output_type": "stream",
     "text": [
      "Path to git folder: c:\\Users\\erlih\\repos\\HeroysundBridge-ML\n",
      "Path to asset folder: c:\\Users\\erlih\\repos\\HeroysundBridge-ML-Assets\n"
     ]
    }
   ],
   "source": [
    "git_folder = os.path.abspath(os.path.join(os.getcwd(), '..', '..', '..', 'HeroysundBridge-ML'))\n",
    "asset_folder = os.path.abspath(os.path.join(os.getcwd(), '..', '..', '..', 'HeroysundBridge-ML-Assets'))\n",
    "\n",
    "print(\"Path to git folder:\", git_folder)\n",
    "print(\"Path to asset folder:\", asset_folder)"
   ]
  },
  {
   "cell_type": "markdown",
   "metadata": {},
   "source": [
    "**Opening file: \\silver\\combined with relevant columns**"
   ]
  },
  {
   "cell_type": "code",
   "execution_count": 98,
   "metadata": {},
   "outputs": [],
   "source": [
    "df = pd.read_parquet(os.path.join(asset_folder, 'silver','combined_data_v01.parquet'))\n",
    "df.index = pd.to_datetime(df['Date'], format='%Y%m%d%H')\n",
    "df.to_csv(os.path.join(asset_folder, 'silver','inspection.csv'))"
   ]
  },
  {
   "cell_type": "markdown",
   "metadata": {},
   "source": [
    "**Adding relevant time/dates columns**"
   ]
  },
  {
   "cell_type": "code",
   "execution_count": 99,
   "metadata": {},
   "outputs": [
    {
     "data": {
      "text/html": [
       "<div>\n",
       "<style scoped>\n",
       "    .dataframe tbody tr th:only-of-type {\n",
       "        vertical-align: middle;\n",
       "    }\n",
       "\n",
       "    .dataframe tbody tr th {\n",
       "        vertical-align: top;\n",
       "    }\n",
       "\n",
       "    .dataframe thead th {\n",
       "        text-align: right;\n",
       "    }\n",
       "</style>\n",
       "<table border=\"1\" class=\"dataframe\">\n",
       "  <thead>\n",
       "    <tr style=\"text-align: right;\">\n",
       "      <th></th>\n",
       "      <th>Point_6_S_mean</th>\n",
       "      <th>PT100_Temperature_mean</th>\n",
       "      <th>Average_Global_Radiation_(1h)</th>\n",
       "      <th>Relative_Humidity(1h)</th>\n",
       "      <th>Precipitation_(1h)</th>\n",
       "      <th>Average_of_Mean_Wind_(1h)</th>\n",
       "      <th>Day sin</th>\n",
       "      <th>Day cos</th>\n",
       "      <th>Year sin</th>\n",
       "      <th>Year cos</th>\n",
       "      <th>days_since_start</th>\n",
       "    </tr>\n",
       "    <tr>\n",
       "      <th>Date</th>\n",
       "      <th></th>\n",
       "      <th></th>\n",
       "      <th></th>\n",
       "      <th></th>\n",
       "      <th></th>\n",
       "      <th></th>\n",
       "      <th></th>\n",
       "      <th></th>\n",
       "      <th></th>\n",
       "      <th></th>\n",
       "      <th></th>\n",
       "    </tr>\n",
       "  </thead>\n",
       "  <tbody>\n",
       "    <tr>\n",
       "      <th>2020-10-01 00:00:00</th>\n",
       "      <td>-22.681829</td>\n",
       "      <td>12.476844</td>\n",
       "      <td>0.0</td>\n",
       "      <td>71.0</td>\n",
       "      <td>0.0</td>\n",
       "      <td>1.1</td>\n",
       "      <td>-8.575893e-12</td>\n",
       "      <td>1.000000e+00</td>\n",
       "      <td>-0.977848</td>\n",
       "      <td>0.209315</td>\n",
       "      <td>0</td>\n",
       "    </tr>\n",
       "    <tr>\n",
       "      <th>2020-10-01 01:00:00</th>\n",
       "      <td>-25.236402</td>\n",
       "      <td>12.202079</td>\n",
       "      <td>0.0</td>\n",
       "      <td>75.0</td>\n",
       "      <td>0.0</td>\n",
       "      <td>1.5</td>\n",
       "      <td>2.588190e-01</td>\n",
       "      <td>9.659258e-01</td>\n",
       "      <td>-0.977698</td>\n",
       "      <td>0.210016</td>\n",
       "      <td>0</td>\n",
       "    </tr>\n",
       "    <tr>\n",
       "      <th>2020-10-01 02:00:00</th>\n",
       "      <td>-27.953711</td>\n",
       "      <td>11.993529</td>\n",
       "      <td>0.0</td>\n",
       "      <td>72.0</td>\n",
       "      <td>0.0</td>\n",
       "      <td>1.8</td>\n",
       "      <td>5.000000e-01</td>\n",
       "      <td>8.660254e-01</td>\n",
       "      <td>-0.977547</td>\n",
       "      <td>0.210717</td>\n",
       "      <td>0</td>\n",
       "    </tr>\n",
       "    <tr>\n",
       "      <th>2020-10-01 03:00:00</th>\n",
       "      <td>-30.408096</td>\n",
       "      <td>11.865803</td>\n",
       "      <td>0.0</td>\n",
       "      <td>77.0</td>\n",
       "      <td>0.0</td>\n",
       "      <td>1.8</td>\n",
       "      <td>7.071068e-01</td>\n",
       "      <td>7.071068e-01</td>\n",
       "      <td>-0.977396</td>\n",
       "      <td>0.211418</td>\n",
       "      <td>0</td>\n",
       "    </tr>\n",
       "    <tr>\n",
       "      <th>2020-10-01 04:00:00</th>\n",
       "      <td>-32.365598</td>\n",
       "      <td>11.889412</td>\n",
       "      <td>0.0</td>\n",
       "      <td>76.0</td>\n",
       "      <td>0.0</td>\n",
       "      <td>1.8</td>\n",
       "      <td>8.660254e-01</td>\n",
       "      <td>5.000000e-01</td>\n",
       "      <td>-0.977244</td>\n",
       "      <td>0.212119</td>\n",
       "      <td>0</td>\n",
       "    </tr>\n",
       "    <tr>\n",
       "      <th>...</th>\n",
       "      <td>...</td>\n",
       "      <td>...</td>\n",
       "      <td>...</td>\n",
       "      <td>...</td>\n",
       "      <td>...</td>\n",
       "      <td>...</td>\n",
       "      <td>...</td>\n",
       "      <td>...</td>\n",
       "      <td>...</td>\n",
       "      <td>...</td>\n",
       "      <td>...</td>\n",
       "    </tr>\n",
       "    <tr>\n",
       "      <th>2023-12-31 18:00:00</th>\n",
       "      <td>-257.119294</td>\n",
       "      <td>-4.738139</td>\n",
       "      <td>-3.0</td>\n",
       "      <td>60.0</td>\n",
       "      <td>0.0</td>\n",
       "      <td>1.1</td>\n",
       "      <td>-1.000000e+00</td>\n",
       "      <td>-1.136945e-11</td>\n",
       "      <td>0.217723</td>\n",
       "      <td>0.976011</td>\n",
       "      <td>1186</td>\n",
       "    </tr>\n",
       "    <tr>\n",
       "      <th>2023-12-31 19:00:00</th>\n",
       "      <td>-256.383557</td>\n",
       "      <td>-4.625233</td>\n",
       "      <td>-3.0</td>\n",
       "      <td>59.0</td>\n",
       "      <td>0.0</td>\n",
       "      <td>1.3</td>\n",
       "      <td>-9.659258e-01</td>\n",
       "      <td>2.588190e-01</td>\n",
       "      <td>0.218423</td>\n",
       "      <td>0.975854</td>\n",
       "      <td>1186</td>\n",
       "    </tr>\n",
       "    <tr>\n",
       "      <th>2023-12-31 20:00:00</th>\n",
       "      <td>-258.295017</td>\n",
       "      <td>-4.645648</td>\n",
       "      <td>-2.9</td>\n",
       "      <td>57.0</td>\n",
       "      <td>0.0</td>\n",
       "      <td>1.3</td>\n",
       "      <td>-8.660254e-01</td>\n",
       "      <td>5.000000e-01</td>\n",
       "      <td>0.219123</td>\n",
       "      <td>0.975697</td>\n",
       "      <td>1186</td>\n",
       "    </tr>\n",
       "    <tr>\n",
       "      <th>2023-12-31 21:00:00</th>\n",
       "      <td>-259.567834</td>\n",
       "      <td>-4.756255</td>\n",
       "      <td>-2.9</td>\n",
       "      <td>56.0</td>\n",
       "      <td>0.0</td>\n",
       "      <td>1.3</td>\n",
       "      <td>-7.071068e-01</td>\n",
       "      <td>7.071068e-01</td>\n",
       "      <td>0.219823</td>\n",
       "      <td>0.975540</td>\n",
       "      <td>1186</td>\n",
       "    </tr>\n",
       "    <tr>\n",
       "      <th>2023-12-31 22:00:00</th>\n",
       "      <td>-259.985386</td>\n",
       "      <td>-4.433085</td>\n",
       "      <td>-3.2</td>\n",
       "      <td>56.0</td>\n",
       "      <td>0.0</td>\n",
       "      <td>1.0</td>\n",
       "      <td>-5.000000e-01</td>\n",
       "      <td>8.660254e-01</td>\n",
       "      <td>0.220523</td>\n",
       "      <td>0.975382</td>\n",
       "      <td>1186</td>\n",
       "    </tr>\n",
       "  </tbody>\n",
       "</table>\n",
       "<p>26390 rows × 11 columns</p>\n",
       "</div>"
      ],
      "text/plain": [
       "                     Point_6_S_mean  PT100_Temperature_mean  \\\n",
       "Date                                                          \n",
       "2020-10-01 00:00:00      -22.681829               12.476844   \n",
       "2020-10-01 01:00:00      -25.236402               12.202079   \n",
       "2020-10-01 02:00:00      -27.953711               11.993529   \n",
       "2020-10-01 03:00:00      -30.408096               11.865803   \n",
       "2020-10-01 04:00:00      -32.365598               11.889412   \n",
       "...                             ...                     ...   \n",
       "2023-12-31 18:00:00     -257.119294               -4.738139   \n",
       "2023-12-31 19:00:00     -256.383557               -4.625233   \n",
       "2023-12-31 20:00:00     -258.295017               -4.645648   \n",
       "2023-12-31 21:00:00     -259.567834               -4.756255   \n",
       "2023-12-31 22:00:00     -259.985386               -4.433085   \n",
       "\n",
       "                     Average_Global_Radiation_(1h)  Relative_Humidity(1h)  \\\n",
       "Date                                                                        \n",
       "2020-10-01 00:00:00                            0.0                   71.0   \n",
       "2020-10-01 01:00:00                            0.0                   75.0   \n",
       "2020-10-01 02:00:00                            0.0                   72.0   \n",
       "2020-10-01 03:00:00                            0.0                   77.0   \n",
       "2020-10-01 04:00:00                            0.0                   76.0   \n",
       "...                                            ...                    ...   \n",
       "2023-12-31 18:00:00                           -3.0                   60.0   \n",
       "2023-12-31 19:00:00                           -3.0                   59.0   \n",
       "2023-12-31 20:00:00                           -2.9                   57.0   \n",
       "2023-12-31 21:00:00                           -2.9                   56.0   \n",
       "2023-12-31 22:00:00                           -3.2                   56.0   \n",
       "\n",
       "                     Precipitation_(1h)  Average_of_Mean_Wind_(1h)  \\\n",
       "Date                                                                 \n",
       "2020-10-01 00:00:00                 0.0                        1.1   \n",
       "2020-10-01 01:00:00                 0.0                        1.5   \n",
       "2020-10-01 02:00:00                 0.0                        1.8   \n",
       "2020-10-01 03:00:00                 0.0                        1.8   \n",
       "2020-10-01 04:00:00                 0.0                        1.8   \n",
       "...                                 ...                        ...   \n",
       "2023-12-31 18:00:00                 0.0                        1.1   \n",
       "2023-12-31 19:00:00                 0.0                        1.3   \n",
       "2023-12-31 20:00:00                 0.0                        1.3   \n",
       "2023-12-31 21:00:00                 0.0                        1.3   \n",
       "2023-12-31 22:00:00                 0.0                        1.0   \n",
       "\n",
       "                          Day sin       Day cos  Year sin  Year cos  \\\n",
       "Date                                                                  \n",
       "2020-10-01 00:00:00 -8.575893e-12  1.000000e+00 -0.977848  0.209315   \n",
       "2020-10-01 01:00:00  2.588190e-01  9.659258e-01 -0.977698  0.210016   \n",
       "2020-10-01 02:00:00  5.000000e-01  8.660254e-01 -0.977547  0.210717   \n",
       "2020-10-01 03:00:00  7.071068e-01  7.071068e-01 -0.977396  0.211418   \n",
       "2020-10-01 04:00:00  8.660254e-01  5.000000e-01 -0.977244  0.212119   \n",
       "...                           ...           ...       ...       ...   \n",
       "2023-12-31 18:00:00 -1.000000e+00 -1.136945e-11  0.217723  0.976011   \n",
       "2023-12-31 19:00:00 -9.659258e-01  2.588190e-01  0.218423  0.975854   \n",
       "2023-12-31 20:00:00 -8.660254e-01  5.000000e-01  0.219123  0.975697   \n",
       "2023-12-31 21:00:00 -7.071068e-01  7.071068e-01  0.219823  0.975540   \n",
       "2023-12-31 22:00:00 -5.000000e-01  8.660254e-01  0.220523  0.975382   \n",
       "\n",
       "                     days_since_start  \n",
       "Date                                   \n",
       "2020-10-01 00:00:00                 0  \n",
       "2020-10-01 01:00:00                 0  \n",
       "2020-10-01 02:00:00                 0  \n",
       "2020-10-01 03:00:00                 0  \n",
       "2020-10-01 04:00:00                 0  \n",
       "...                               ...  \n",
       "2023-12-31 18:00:00              1186  \n",
       "2023-12-31 19:00:00              1186  \n",
       "2023-12-31 20:00:00              1186  \n",
       "2023-12-31 21:00:00              1186  \n",
       "2023-12-31 22:00:00              1186  \n",
       "\n",
       "[26390 rows x 11 columns]"
      ]
     },
     "metadata": {},
     "output_type": "display_data"
    },
    {
     "data": {
      "text/plain": [
       "[<matplotlib.lines.Line2D at 0x1e0f1c84550>]"
      ]
     },
     "execution_count": 99,
     "metadata": {},
     "output_type": "execute_result"
    },
    {
     "data": {
      "image/png": "[encoded data removed]",
      "text/plain": [
       "<Figure size 640x480 with 1 Axes>"
      ]
     },
     "metadata": {},
     "output_type": "display_data"
    }
   ],
   "source": [
    "model_dataset = df[['Point_6_S_mean', 'PT100_Temperature_mean', 'Average_Global_Radiation_(1h)', 'Relative_Humidity(1h)', 'Precipitation_(1h)', 'Average_of_Mean_Wind_(1h)']]['2020-10-01 00:00:00':]#\n",
    "model_dataset['seconds'] = model_dataset.index.map(pd.Timestamp.timestamp)\n",
    "model_dataset['Day sin'] = np.sin(model_dataset['seconds'] * (2 * np.pi / 86400))\n",
    "model_dataset['Day cos'] = np.cos(model_dataset['seconds'] * (2 * np.pi / 86400))\n",
    "model_dataset['Year sin'] = np.sin(model_dataset['seconds'] * (2 * np.pi / 31536000))\n",
    "model_dataset['Year cos'] = np.cos(model_dataset['seconds'] * (2 * np.pi / 31536000))\n",
    "model_dataset['days_since_start'] = (model_dataset.index - model_dataset.index[0]).days\n",
    "model_dataset.drop(columns=['seconds'], inplace=True)\n",
    "display(model_dataset)\n",
    "plt.plot(model_dataset.index, model_dataset['Point_6_S_mean'])"
   ]
  },
  {
   "cell_type": "markdown",
   "metadata": {},
   "source": [
    "# Train-, val- and testing split +++ Scaling"
   ]
  },
  {
   "cell_type": "code",
   "execution_count": 100,
   "metadata": {},
   "outputs": [
    {
     "name": "stdout",
     "output_type": "stream",
     "text": [
      "Training split: 19000, Validation split: 4750, Test split: 2640\n"
     ]
    }
   ],
   "source": [
    "dataset_size = len(model_dataset)\n",
    "training_split = int(0.72 * dataset_size)\n",
    "validation_split = int(0.18 * dataset_size)\n",
    "test_split = dataset_size - training_split - validation_split\n",
    "print(f\"Training split: {training_split}, Validation split: {validation_split}, Test split: {test_split}\")\n",
    "assert training_split + validation_split + test_split == dataset_size, \"Invalid split sizes\""
   ]
  },
  {
   "cell_type": "code",
   "execution_count": 101,
   "metadata": {},
   "outputs": [
    {
     "name": "stdout",
     "output_type": "stream",
     "text": [
      "                     Point_6_S_mean  PT100_Temperature_mean  \\\n",
      "Date                                                          \n",
      "2020-10-01 00:00:00      -22.681829               12.476844   \n",
      "2020-10-01 01:00:00      -25.236402               12.202079   \n",
      "2020-10-01 02:00:00      -27.953711               11.993529   \n",
      "2020-10-01 03:00:00      -30.408096               11.865803   \n",
      "2020-10-01 04:00:00      -32.365598               11.889412   \n",
      "...                             ...                     ...   \n",
      "2023-02-27 01:00:00     -125.969246                4.486058   \n",
      "2023-02-27 02:00:00     -125.969880                4.555233   \n",
      "2023-02-27 03:00:00     -126.237242                4.561771   \n",
      "2023-02-27 04:00:00     -126.476872                4.451549   \n",
      "2023-02-27 05:00:00     -126.989811                4.327346   \n",
      "\n",
      "                     Average_Global_Radiation_(1h)  Relative_Humidity(1h)  \\\n",
      "Date                                                                        \n",
      "2020-10-01 00:00:00                            0.0                   71.0   \n",
      "2020-10-01 01:00:00                            0.0                   75.0   \n",
      "2020-10-01 02:00:00                            0.0                   72.0   \n",
      "2020-10-01 03:00:00                            0.0                   77.0   \n",
      "2020-10-01 04:00:00                            0.0                   76.0   \n",
      "...                                            ...                    ...   \n",
      "2023-02-27 01:00:00                           10.5                   96.0   \n",
      "2023-02-27 02:00:00                           11.4                   96.0   \n",
      "2023-02-27 03:00:00                            8.9                   95.0   \n",
      "2023-02-27 04:00:00                           10.5                   94.0   \n",
      "2023-02-27 05:00:00                           10.8                   95.0   \n",
      "\n",
      "                     Precipitation_(1h)  Average_of_Mean_Wind_(1h)  \\\n",
      "Date                                                                 \n",
      "2020-10-01 00:00:00                 0.0                        1.1   \n",
      "2020-10-01 01:00:00                 0.0                        1.5   \n",
      "2020-10-01 02:00:00                 0.0                        1.8   \n",
      "2020-10-01 03:00:00                 0.0                        1.8   \n",
      "2020-10-01 04:00:00                 0.0                        1.8   \n",
      "...                                 ...                        ...   \n",
      "2023-02-27 01:00:00                 0.0                        1.2   \n",
      "2023-02-27 02:00:00                 0.2                        1.2   \n",
      "2023-02-27 03:00:00                 0.1                        1.4   \n",
      "2023-02-27 04:00:00                 0.0                        1.4   \n",
      "2023-02-27 05:00:00                 0.2                        1.3   \n",
      "\n",
      "                          Day sin   Day cos  Year sin  Year cos  \\\n",
      "Date                                                              \n",
      "2020-10-01 00:00:00 -8.575893e-12  1.000000 -0.977848  0.209315   \n",
      "2020-10-01 01:00:00  2.588190e-01  0.965926 -0.977698  0.210016   \n",
      "2020-10-01 02:00:00  5.000000e-01  0.866025 -0.977547  0.210717   \n",
      "2020-10-01 03:00:00  7.071068e-01  0.707107 -0.977396  0.211418   \n",
      "2020-10-01 04:00:00  8.660254e-01  0.500000 -0.977244  0.212119   \n",
      "...                           ...       ...       ...       ...   \n",
      "2023-02-27 01:00:00  2.588190e-01  0.965926  0.934094  0.357028   \n",
      "2023-02-27 02:00:00  5.000000e-01  0.866025  0.934349  0.356358   \n",
      "2023-02-27 03:00:00  7.071068e-01  0.707107  0.934605  0.355688   \n",
      "2023-02-27 04:00:00  8.660254e-01  0.500000  0.934860  0.355018   \n",
      "2023-02-27 05:00:00  9.659258e-01  0.258819  0.935114  0.354347   \n",
      "\n",
      "                     days_since_start  \n",
      "Date                                   \n",
      "2020-10-01 00:00:00                 0  \n",
      "2020-10-01 01:00:00                 0  \n",
      "2020-10-01 02:00:00                 0  \n",
      "2020-10-01 03:00:00                 0  \n",
      "2020-10-01 04:00:00                 0  \n",
      "...                               ...  \n",
      "2023-02-27 01:00:00               879  \n",
      "2023-02-27 02:00:00               879  \n",
      "2023-02-27 03:00:00               879  \n",
      "2023-02-27 04:00:00               879  \n",
      "2023-02-27 05:00:00               879  \n",
      "\n",
      "[19000 rows x 11 columns]\n",
      "-------------------\n",
      "                     Point_6_S_mean  PT100_Temperature_mean  \\\n",
      "Date                                                          \n",
      "2023-02-27 06:00:00     -126.623416                4.340110   \n",
      "2023-02-27 07:00:00     -126.185777                4.378970   \n",
      "2023-02-27 08:00:00     -125.413436                4.623048   \n",
      "2023-02-27 09:00:00     -123.606423                4.979404   \n",
      "2023-02-27 10:00:00     -120.859737                5.374221   \n",
      "...                             ...                     ...   \n",
      "2023-09-12 20:00:00      -60.026315               11.388543   \n",
      "2023-09-12 21:00:00      -67.030394               10.659181   \n",
      "2023-09-12 22:00:00      -73.038612               10.607650   \n",
      "2023-09-12 23:00:00      -78.055255               10.758183   \n",
      "2023-09-13 00:00:00      -81.855651               10.813459   \n",
      "\n",
      "                     Average_Global_Radiation_(1h)  Relative_Humidity(1h)  \\\n",
      "Date                                                                        \n",
      "2023-02-27 06:00:00                           10.4                   95.0   \n",
      "2023-02-27 07:00:00                           11.3                   91.0   \n",
      "2023-02-27 08:00:00                           12.1                   92.0   \n",
      "2023-02-27 09:00:00                           26.6                   91.0   \n",
      "2023-02-27 10:00:00                           33.5                   91.0   \n",
      "...                                            ...                    ...   \n",
      "2023-09-12 20:00:00                            0.0                   75.0   \n",
      "2023-09-12 21:00:00                            0.0                   78.0   \n",
      "2023-09-12 22:00:00                            0.0                   87.0   \n",
      "2023-09-12 23:00:00                            0.0                   90.0   \n",
      "2023-09-13 00:00:00                            0.0                   88.0   \n",
      "\n",
      "                     Precipitation_(1h)  Average_of_Mean_Wind_(1h)  \\\n",
      "Date                                                                 \n",
      "2023-02-27 06:00:00                 0.0                        1.2   \n",
      "2023-02-27 07:00:00                 0.0                        1.1   \n",
      "2023-02-27 08:00:00                 0.0                        1.1   \n",
      "2023-02-27 09:00:00                 0.0                        1.7   \n",
      "2023-02-27 10:00:00                 0.0                        1.6   \n",
      "...                                 ...                        ...   \n",
      "2023-09-12 20:00:00                 0.0                        0.6   \n",
      "2023-09-12 21:00:00                 0.0                        0.7   \n",
      "2023-09-12 22:00:00                 0.1                        0.3   \n",
      "2023-09-12 23:00:00                 0.0                        0.2   \n",
      "2023-09-13 00:00:00                 0.0                        0.2   \n",
      "\n",
      "                          Day sin       Day cos  Year sin  Year cos  \\\n",
      "Date                                                                  \n",
      "2023-02-27 06:00:00  1.000000e+00  1.669833e-12  0.935368  0.353676   \n",
      "2023-02-27 07:00:00  9.659258e-01 -2.588190e-01  0.935621  0.353005   \n",
      "2023-02-27 08:00:00  8.660254e-01 -5.000000e-01  0.935874  0.352334   \n",
      "2023-02-27 09:00:00  7.071068e-01 -7.071068e-01  0.936127  0.351663   \n",
      "2023-02-27 10:00:00  5.000000e-01 -8.660254e-01  0.936379  0.350991   \n",
      "...                           ...           ...       ...       ...   \n",
      "2023-09-12 20:00:00 -8.660254e-01  5.000000e-01 -0.994818 -0.101675   \n",
      "2023-09-12 21:00:00 -7.071068e-01  7.071068e-01 -0.994890 -0.100961   \n",
      "2023-09-12 22:00:00 -5.000000e-01  8.660254e-01 -0.994963 -0.100248   \n",
      "2023-09-12 23:00:00 -2.588190e-01  9.659258e-01 -0.995034 -0.099534   \n",
      "2023-09-13 00:00:00 -6.558840e-12  1.000000e+00 -0.995105 -0.098820   \n",
      "\n",
      "                     days_since_start  \n",
      "Date                                   \n",
      "2023-02-27 06:00:00               879  \n",
      "2023-02-27 07:00:00               879  \n",
      "2023-02-27 08:00:00               879  \n",
      "2023-02-27 09:00:00               879  \n",
      "2023-02-27 10:00:00               879  \n",
      "...                               ...  \n",
      "2023-09-12 20:00:00              1076  \n",
      "2023-09-12 21:00:00              1076  \n",
      "2023-09-12 22:00:00              1076  \n",
      "2023-09-12 23:00:00              1076  \n",
      "2023-09-13 00:00:00              1077  \n",
      "\n",
      "[4750 rows x 11 columns]\n",
      "-------------------\n",
      "                     Point_6_S_mean  PT100_Temperature_mean  \\\n",
      "Date                                                          \n",
      "2023-09-13 01:00:00      -85.490389               10.714599   \n",
      "2023-09-13 02:00:00      -88.955957               10.588826   \n",
      "2023-09-13 03:00:00      -92.945329               10.350667   \n",
      "2023-09-13 04:00:00      -96.300671                9.842673   \n",
      "2023-09-13 05:00:00      -98.819592                9.825433   \n",
      "...                             ...                     ...   \n",
      "2023-12-31 18:00:00     -257.119294               -4.738139   \n",
      "2023-12-31 19:00:00     -256.383557               -4.625233   \n",
      "2023-12-31 20:00:00     -258.295017               -4.645648   \n",
      "2023-12-31 21:00:00     -259.567834               -4.756255   \n",
      "2023-12-31 22:00:00     -259.985386               -4.433085   \n",
      "\n",
      "                     Average_Global_Radiation_(1h)  Relative_Humidity(1h)  \\\n",
      "Date                                                                        \n",
      "2023-09-13 01:00:00                            0.0                   91.0   \n",
      "2023-09-13 02:00:00                            0.0                   90.0   \n",
      "2023-09-13 03:00:00                            0.0                   94.0   \n",
      "2023-09-13 04:00:00                            0.0                   95.0   \n",
      "2023-09-13 05:00:00                            1.9                   93.0   \n",
      "...                                            ...                    ...   \n",
      "2023-12-31 18:00:00                           -3.0                   60.0   \n",
      "2023-12-31 19:00:00                           -3.0                   59.0   \n",
      "2023-12-31 20:00:00                           -2.9                   57.0   \n",
      "2023-12-31 21:00:00                           -2.9                   56.0   \n",
      "2023-12-31 22:00:00                           -3.2                   56.0   \n",
      "\n",
      "                     Precipitation_(1h)  Average_of_Mean_Wind_(1h)   Day sin  \\\n",
      "Date                                                                           \n",
      "2023-09-13 01:00:00                 0.0                        0.1  0.258819   \n",
      "2023-09-13 02:00:00                 0.1                        0.2  0.500000   \n",
      "2023-09-13 03:00:00                 0.1                        0.0  0.707107   \n",
      "2023-09-13 04:00:00                 0.0                        0.1  0.866025   \n",
      "2023-09-13 05:00:00                 0.0                        0.7  0.965926   \n",
      "...                                 ...                        ...       ...   \n",
      "2023-12-31 18:00:00                 0.0                        1.1 -1.000000   \n",
      "2023-12-31 19:00:00                 0.0                        1.3 -0.965926   \n",
      "2023-12-31 20:00:00                 0.0                        1.3 -0.866025   \n",
      "2023-12-31 21:00:00                 0.0                        1.3 -0.707107   \n",
      "2023-12-31 22:00:00                 0.0                        1.0 -0.500000   \n",
      "\n",
      "                          Day cos  Year sin  Year cos  days_since_start  \n",
      "Date                                                                     \n",
      "2023-09-13 01:00:00  9.659258e-01 -0.995176 -0.098106              1077  \n",
      "2023-09-13 02:00:00  8.660254e-01 -0.995246 -0.097393              1077  \n",
      "2023-09-13 03:00:00  7.071068e-01 -0.995316 -0.096679              1077  \n",
      "2023-09-13 04:00:00  5.000000e-01 -0.995385 -0.095965              1077  \n",
      "2023-09-13 05:00:00  2.588190e-01 -0.995453 -0.095251              1077  \n",
      "...                           ...       ...       ...               ...  \n",
      "2023-12-31 18:00:00 -1.136945e-11  0.217723  0.976011              1186  \n",
      "2023-12-31 19:00:00  2.588190e-01  0.218423  0.975854              1186  \n",
      "2023-12-31 20:00:00  5.000000e-01  0.219123  0.975697              1186  \n",
      "2023-12-31 21:00:00  7.071068e-01  0.219823  0.975540              1186  \n",
      "2023-12-31 22:00:00  8.660254e-01  0.220523  0.975382              1186  \n",
      "\n",
      "[2640 rows x 11 columns]\n"
     ]
    }
   ],
   "source": [
    "print(model_dataset[:training_split])\n",
    "print(\"-------------------\")\n",
    "print(model_dataset[training_split:-test_split])\n",
    "print(\"-------------------\")\n",
    "print(model_dataset[-test_split:])"
   ]
  },
  {
   "cell_type": "markdown",
   "metadata": {},
   "source": [
    "**Assigning labels and targets - x- and y- train,-val and -test**"
   ]
  },
  {
   "cell_type": "code",
   "execution_count": 102,
   "metadata": {},
   "outputs": [
    {
     "name": "stdout",
     "output_type": "stream",
     "text": [
      "(25670, 720, 10) (25670,)\n",
      "(19000, 720, 10) (19000,) (4750, 720, 10) (4750,) (2640, 720, 10) (2640,)\n"
     ]
    }
   ],
   "source": [
    "window_size = 24*30\n",
    "\n",
    "X, y = df_to_X_y(model_dataset, window_size)\n",
    "print(X.shape, y.shape)\n",
    "\n",
    "# Splitting the data into training, validation and test sets\n",
    "X_train, y_train = X[:training_split], y[:training_split]\n",
    "X_valid, y_valid = X[training_split:(training_split + validation_split)], y[training_split:(training_split + validation_split)]\n",
    "X_test, y_test = X[-test_split:], y[-test_split:]\n",
    "print(X_train.shape, y_train.shape, X_valid.shape, y_valid.shape, X_test.shape, y_test.shape)"
   ]
  },
  {
   "cell_type": "markdown",
   "metadata": {},
   "source": [
    "**Normlaization**"
   ]
  },
  {
   "cell_type": "code",
   "execution_count": 103,
   "metadata": {},
   "outputs": [],
   "source": [
    "# Reshape to 2D (Normalisation requires 2D input)\n",
    "X_train_2D = np.reshape(X_train, (X_train.shape[0] * X_train.shape[1], X_train.shape[2]))\n",
    "X_valid_2D = np.reshape(X_valid, (X_valid.shape[0] * X_valid.shape[1], X_valid.shape[2]))\n",
    "X_test_2D = np.reshape(X_test, (X_test.shape[0] * X_test.shape[1], X_test.shape[2]))\n",
    "\n",
    "# Apply scaling\n",
    "scaler_x = StandardScaler()\n",
    "X_train_scaled_2D = scaler_x.fit_transform(X_train_2D)\n",
    "X_valid_scaled_2D = scaler_x.transform(X_valid_2D)\n",
    "X_test_scaled_2D = scaler_x.transform(X_test_2D)\n",
    "\n",
    "# Reshape back to 3D\n",
    "X_train_scaled = np.reshape(X_train_scaled_2D, (X_train.shape[0], X_train.shape[1], X_train.shape[2]))\n",
    "X_valid_scaled = np.reshape(X_valid_scaled_2D, (X_valid.shape[0], X_valid.shape[1], X_valid.shape[2]))\n",
    "X_test_scaled = np.reshape(X_test_scaled_2D, (X_test.shape[0], X_test.shape[1], X_test.shape[2]))\n",
    "\n",
    "scaler_y = StandardScaler()\n",
    "y_train_scaled = scaler_y.fit_transform(y_train.reshape(-1, 1))\n",
    "y_valid_scaled = scaler_y.transform(y_valid.reshape(-1, 1))\n",
    "y_test_scaled = scaler_y.transform(y_test.reshape(-1, 1))"
   ]
  },
  {
   "cell_type": "markdown",
   "metadata": {},
   "source": [
    "# LSTM Model 2"
   ]
  },
  {
   "cell_type": "code",
   "execution_count": 104,
   "metadata": {},
   "outputs": [],
   "source": [
    "model_name = 'conv_model_point_6_S_001'\n",
    "batch_size = 128\n",
    "epochs = 200\n",
    "learning_rate = 0.001\n",
    "patience = 12\n",
    "verbose = 1\n",
    "saving_frequency = 8"
   ]
  },
  {
   "cell_type": "code",
   "execution_count": 105,
   "metadata": {},
   "outputs": [
    {
     "name": "stdout",
     "output_type": "stream",
     "text": [
      "Model: \"sequential_7\"\n",
      "_________________________________________________________________\n",
      " Layer (type)                Output Shape              Param #   \n",
      "=================================================================\n",
      " conv1d_7 (Conv1D)           (None, 719, 64)           1344      \n",
      "                                                                 \n",
      " flatten_7 (Flatten)         (None, 46016)             0         \n",
      "                                                                 \n",
      " dense_14 (Dense)            (None, 8)                 368136    \n",
      "                                                                 \n",
      " dense_15 (Dense)            (None, 1)                 9         \n",
      "                                                                 \n",
      "=================================================================\n",
      "Total params: 369489 (1.41 MB)\n",
      "Trainable params: 369489 (1.41 MB)\n",
      "Non-trainable params: 0 (0.00 Byte)\n",
      "_________________________________________________________________\n"
     ]
    }
   ],
   "source": [
    "model = Sequential()\n",
    "model.add(InputLayer((window_size, (len(model_dataset.columns)-1))))\n",
    "\n",
    "model.add(Conv1D(64, kernel_size=2, activation='relu'))\n",
    "model.add(Flatten())\n",
    "\n",
    "model.add(Dense(8, activation='relu'))\n",
    "model.add(Dense(1, activation='linear'))\n",
    "model.summary()"
   ]
  },
  {
   "cell_type": "code",
   "execution_count": 106,
   "metadata": {},
   "outputs": [
    {
     "name": "stdout",
     "output_type": "stream",
     "text": [
      "Epoch 1/200\n",
      "148/149 [============================>.] - ETA: 0s - loss: 0.6397 - mae: 0.5228\n",
      "Epoch 1: val_loss improved from inf to 0.99934, saving model to c:\\Users\\erlih\\repos\\HeroysundBridge-ML-Assets\\gold\\conv_model_point_6_S_001\n",
      "INFO:tensorflow:Assets written to: c:\\Users\\erlih\\repos\\HeroysundBridge-ML-Assets\\gold\\conv_model_point_6_S_001\\assets\n"
     ]
    },
    {
     "name": "stderr",
     "output_type": "stream",
     "text": [
      "INFO:tensorflow:Assets written to: c:\\Users\\erlih\\repos\\HeroysundBridge-ML-Assets\\gold\\conv_model_point_6_S_001\\assets\n"
     ]
    },
    {
     "name": "stdout",
     "output_type": "stream",
     "text": [
      "149/149 [==============================] - 3s 20ms/step - loss: 0.6391 - mae: 0.5225 - val_loss: 0.9993 - val_mae: 0.7587\n",
      "Epoch 2/200\n",
      "148/149 [============================>.] - ETA: 0s - loss: 0.4516 - mae: 0.4036\n",
      "Epoch 2: val_loss improved from 0.99934 to 0.88186, saving model to c:\\Users\\erlih\\repos\\HeroysundBridge-ML-Assets\\gold\\conv_model_point_6_S_001\n",
      "INFO:tensorflow:Assets written to: c:\\Users\\erlih\\repos\\HeroysundBridge-ML-Assets\\gold\\conv_model_point_6_S_001\\assets\n"
     ]
    },
    {
     "name": "stderr",
     "output_type": "stream",
     "text": [
      "INFO:tensorflow:Assets written to: c:\\Users\\erlih\\repos\\HeroysundBridge-ML-Assets\\gold\\conv_model_point_6_S_001\\assets\n"
     ]
    },
    {
     "name": "stdout",
     "output_type": "stream",
     "text": [
      "149/149 [==============================] - 3s 20ms/step - loss: 0.4520 - mae: 0.4038 - val_loss: 0.8819 - val_mae: 0.7238\n",
      "Epoch 3/200\n",
      "149/149 [==============================] - ETA: 0s - loss: 0.3723 - mae: 0.3422\n",
      "Epoch 3: val_loss improved from 0.88186 to 0.80799, saving model to c:\\Users\\erlih\\repos\\HeroysundBridge-ML-Assets\\gold\\conv_model_point_6_S_001\n",
      "INFO:tensorflow:Assets written to: c:\\Users\\erlih\\repos\\HeroysundBridge-ML-Assets\\gold\\conv_model_point_6_S_001\\assets\n"
     ]
    },
    {
     "name": "stderr",
     "output_type": "stream",
     "text": [
      "INFO:tensorflow:Assets written to: c:\\Users\\erlih\\repos\\HeroysundBridge-ML-Assets\\gold\\conv_model_point_6_S_001\\assets\n"
     ]
    },
    {
     "name": "stdout",
     "output_type": "stream",
     "text": [
      "149/149 [==============================] - 3s 19ms/step - loss: 0.3723 - mae: 0.3422 - val_loss: 0.8080 - val_mae: 0.7040\n",
      "Epoch 4/200\n",
      "149/149 [==============================] - ETA: 0s - loss: 0.3119 - mae: 0.2962\n",
      "Epoch 4: val_loss improved from 0.80799 to 0.67669, saving model to c:\\Users\\erlih\\repos\\HeroysundBridge-ML-Assets\\gold\\conv_model_point_6_S_001\n",
      "INFO:tensorflow:Assets written to: c:\\Users\\erlih\\repos\\HeroysundBridge-ML-Assets\\gold\\conv_model_point_6_S_001\\assets\n"
     ]
    },
    {
     "name": "stderr",
     "output_type": "stream",
     "text": [
      "INFO:tensorflow:Assets written to: c:\\Users\\erlih\\repos\\HeroysundBridge-ML-Assets\\gold\\conv_model_point_6_S_001\\assets\n"
     ]
    },
    {
     "name": "stdout",
     "output_type": "stream",
     "text": [
      "149/149 [==============================] - 3s 19ms/step - loss: 0.3119 - mae: 0.2962 - val_loss: 0.6767 - val_mae: 0.6294\n",
      "Epoch 5/200\n",
      "146/149 [============================>.] - ETA: 0s - loss: 0.2662 - mae: 0.2624\n",
      "Epoch 5: val_loss improved from 0.67669 to 0.59340, saving model to c:\\Users\\erlih\\repos\\HeroysundBridge-ML-Assets\\gold\\conv_model_point_6_S_001\n",
      "INFO:tensorflow:Assets written to: c:\\Users\\erlih\\repos\\HeroysundBridge-ML-Assets\\gold\\conv_model_point_6_S_001\\assets\n"
     ]
    },
    {
     "name": "stderr",
     "output_type": "stream",
     "text": [
      "INFO:tensorflow:Assets written to: c:\\Users\\erlih\\repos\\HeroysundBridge-ML-Assets\\gold\\conv_model_point_6_S_001\\assets\n"
     ]
    },
    {
     "name": "stdout",
     "output_type": "stream",
     "text": [
      "149/149 [==============================] - 3s 19ms/step - loss: 0.2648 - mae: 0.2617 - val_loss: 0.5934 - val_mae: 0.5835\n",
      "Epoch 6/200\n",
      "148/149 [============================>.] - ETA: 0s - loss: 0.2281 - mae: 0.2367\n",
      "Epoch 6: val_loss did not improve from 0.59340\n",
      "149/149 [==============================] - 2s 15ms/step - loss: 0.2277 - mae: 0.2365 - val_loss: 0.6828 - val_mae: 0.6586\n",
      "Epoch 7/200\n",
      "148/149 [============================>.] - ETA: 0s - loss: 0.1966 - mae: 0.2112\n",
      "Epoch 7: val_loss did not improve from 0.59340\n",
      "149/149 [==============================] - 2s 13ms/step - loss: 0.1964 - mae: 0.2111 - val_loss: 0.6149 - val_mae: 0.6292\n",
      "Epoch 8/200\n",
      "148/149 [============================>.] - ETA: 0s - loss: 0.1709 - mae: 0.1899\n",
      "Epoch 8: val_loss improved from 0.59340 to 0.46872, saving model to c:\\Users\\erlih\\repos\\HeroysundBridge-ML-Assets\\gold\\conv_model_point_6_S_001\n",
      "INFO:tensorflow:Assets written to: c:\\Users\\erlih\\repos\\HeroysundBridge-ML-Assets\\gold\\conv_model_point_6_S_001\\assets\n"
     ]
    },
    {
     "name": "stderr",
     "output_type": "stream",
     "text": [
      "INFO:tensorflow:Assets written to: c:\\Users\\erlih\\repos\\HeroysundBridge-ML-Assets\\gold\\conv_model_point_6_S_001\\assets\n"
     ]
    },
    {
     "name": "stdout",
     "output_type": "stream",
     "text": [
      "149/149 [==============================] - 2s 14ms/step - loss: 0.1706 - mae: 0.1899 - val_loss: 0.4687 - val_mae: 0.5261\n",
      "Epoch 9/200\n",
      "147/149 [============================>.] - ETA: 0s - loss: 0.1505 - mae: 0.1769\n",
      "Epoch 9: val_loss improved from 0.46872 to 0.46689, saving model to c:\\Users\\erlih\\repos\\HeroysundBridge-ML-Assets\\gold\\conv_model_point_6_S_001\n",
      "INFO:tensorflow:Assets written to: c:\\Users\\erlih\\repos\\HeroysundBridge-ML-Assets\\gold\\conv_model_point_6_S_001\\assets\n"
     ]
    },
    {
     "name": "stderr",
     "output_type": "stream",
     "text": [
      "INFO:tensorflow:Assets written to: c:\\Users\\erlih\\repos\\HeroysundBridge-ML-Assets\\gold\\conv_model_point_6_S_001\\assets\n"
     ]
    },
    {
     "name": "stdout",
     "output_type": "stream",
     "text": [
      "149/149 [==============================] - 2s 14ms/step - loss: 0.1500 - mae: 0.1765 - val_loss: 0.4669 - val_mae: 0.5392\n",
      "Epoch 10/200\n",
      "148/149 [============================>.] - ETA: 0s - loss: 0.1308 - mae: 0.1572\n",
      "Epoch 10: val_loss did not improve from 0.46689\n",
      "149/149 [==============================] - 2s 12ms/step - loss: 0.1309 - mae: 0.1573 - val_loss: 0.5039 - val_mae: 0.5771\n",
      "Epoch 11/200\n",
      "148/149 [============================>.] - ETA: 0s - loss: 0.1161 - mae: 0.1459\n",
      "Epoch 11: val_loss improved from 0.46689 to 0.42540, saving model to c:\\Users\\erlih\\repos\\HeroysundBridge-ML-Assets\\gold\\conv_model_point_6_S_001\n",
      "INFO:tensorflow:Assets written to: c:\\Users\\erlih\\repos\\HeroysundBridge-ML-Assets\\gold\\conv_model_point_6_S_001\\assets\n"
     ]
    },
    {
     "name": "stderr",
     "output_type": "stream",
     "text": [
      "INFO:tensorflow:Assets written to: c:\\Users\\erlih\\repos\\HeroysundBridge-ML-Assets\\gold\\conv_model_point_6_S_001\\assets\n"
     ]
    },
    {
     "name": "stdout",
     "output_type": "stream",
     "text": [
      "149/149 [==============================] - 2s 14ms/step - loss: 0.1158 - mae: 0.1458 - val_loss: 0.4254 - val_mae: 0.5254\n",
      "Epoch 12/200\n",
      "144/149 [===========================>..] - ETA: 0s - loss: 0.1051 - mae: 0.1418\n",
      "Epoch 12: val_loss did not improve from 0.42540\n",
      "149/149 [==============================] - 2s 11ms/step - loss: 0.1042 - mae: 0.1411 - val_loss: 0.4852 - val_mae: 0.5806\n",
      "Epoch 13/200\n",
      "143/149 [===========================>..] - ETA: 0s - loss: 0.0906 - mae: 0.1184\n",
      "Epoch 13: val_loss did not improve from 0.42540\n",
      "149/149 [==============================] - 2s 11ms/step - loss: 0.0904 - mae: 0.1182 - val_loss: 0.5371 - val_mae: 0.6210\n",
      "Epoch 14/200\n",
      "147/149 [============================>.] - ETA: 0s - loss: 0.0823 - mae: 0.1178\n",
      "Epoch 14: val_loss improved from 0.42540 to 0.41422, saving model to c:\\Users\\erlih\\repos\\HeroysundBridge-ML-Assets\\gold\\conv_model_point_6_S_001\n",
      "INFO:tensorflow:Assets written to: c:\\Users\\erlih\\repos\\HeroysundBridge-ML-Assets\\gold\\conv_model_point_6_S_001\\assets\n"
     ]
    },
    {
     "name": "stderr",
     "output_type": "stream",
     "text": [
      "INFO:tensorflow:Assets written to: c:\\Users\\erlih\\repos\\HeroysundBridge-ML-Assets\\gold\\conv_model_point_6_S_001\\assets\n"
     ]
    },
    {
     "name": "stdout",
     "output_type": "stream",
     "text": [
      "149/149 [==============================] - 2s 15ms/step - loss: 0.0820 - mae: 0.1175 - val_loss: 0.4142 - val_mae: 0.5320\n",
      "Epoch 15/200\n",
      "143/149 [===========================>..] - ETA: 0s - loss: 0.0727 - mae: 0.1027\n",
      "Epoch 15: val_loss improved from 0.41422 to 0.32987, saving model to c:\\Users\\erlih\\repos\\HeroysundBridge-ML-Assets\\gold\\conv_model_point_6_S_001\n",
      "INFO:tensorflow:Assets written to: c:\\Users\\erlih\\repos\\HeroysundBridge-ML-Assets\\gold\\conv_model_point_6_S_001\\assets\n"
     ]
    },
    {
     "name": "stderr",
     "output_type": "stream",
     "text": [
      "INFO:tensorflow:Assets written to: c:\\Users\\erlih\\repos\\HeroysundBridge-ML-Assets\\gold\\conv_model_point_6_S_001\\assets\n"
     ]
    },
    {
     "name": "stdout",
     "output_type": "stream",
     "text": [
      "149/149 [==============================] - 2s 13ms/step - loss: 0.0723 - mae: 0.1025 - val_loss: 0.3299 - val_mae: 0.4645\n",
      "Epoch 16/200\n",
      "149/149 [==============================] - ETA: 0s - loss: 0.0671 - mae: 0.1084\n",
      "Epoch 16: val_loss did not improve from 0.32987\n",
      "149/149 [==============================] - 2s 11ms/step - loss: 0.0671 - mae: 0.1084 - val_loss: 0.4672 - val_mae: 0.5787\n",
      "Epoch 17/200\n",
      "149/149 [==============================] - ETA: 0s - loss: 0.0603 - mae: 0.1020\n",
      "Epoch 17: val_loss did not improve from 0.32987\n",
      "149/149 [==============================] - 2s 11ms/step - loss: 0.0603 - mae: 0.1020 - val_loss: 0.4977 - val_mae: 0.6004\n",
      "Epoch 18/200\n",
      "144/149 [===========================>..] - ETA: 0s - loss: 0.0543 - mae: 0.0927\n",
      "Epoch 18: val_loss did not improve from 0.32987\n",
      "149/149 [==============================] - 2s 12ms/step - loss: 0.0539 - mae: 0.0931 - val_loss: 0.5608 - val_mae: 0.6521\n",
      "Epoch 19/200\n",
      "144/149 [===========================>..] - ETA: 0s - loss: 0.0484 - mae: 0.0846\n",
      "Epoch 19: val_loss improved from 0.32987 to 0.31863, saving model to c:\\Users\\erlih\\repos\\HeroysundBridge-ML-Assets\\gold\\conv_model_point_6_S_001\n",
      "INFO:tensorflow:Assets written to: c:\\Users\\erlih\\repos\\HeroysundBridge-ML-Assets\\gold\\conv_model_point_6_S_001\\assets\n"
     ]
    },
    {
     "name": "stderr",
     "output_type": "stream",
     "text": [
      "INFO:tensorflow:Assets written to: c:\\Users\\erlih\\repos\\HeroysundBridge-ML-Assets\\gold\\conv_model_point_6_S_001\\assets\n"
     ]
    },
    {
     "name": "stdout",
     "output_type": "stream",
     "text": [
      "149/149 [==============================] - 2s 14ms/step - loss: 0.0483 - mae: 0.0849 - val_loss: 0.3186 - val_mae: 0.4651\n",
      "Epoch 20/200\n",
      "145/149 [============================>.] - ETA: 0s - loss: 0.0444 - mae: 0.0818\n",
      "Epoch 20: val_loss did not improve from 0.31863\n",
      "149/149 [==============================] - 2s 11ms/step - loss: 0.0441 - mae: 0.0819 - val_loss: 0.5164 - val_mae: 0.6252\n",
      "Epoch 21/200\n",
      "146/149 [============================>.] - ETA: 0s - loss: 0.0404 - mae: 0.0789\n",
      "Epoch 21: val_loss did not improve from 0.31863\n",
      "149/149 [==============================] - 2s 12ms/step - loss: 0.0401 - mae: 0.0787 - val_loss: 0.3587 - val_mae: 0.5021\n",
      "Epoch 22/200\n",
      "147/149 [============================>.] - ETA: 0s - loss: 0.0363 - mae: 0.0740\n",
      "Epoch 22: val_loss did not improve from 0.31863\n",
      "149/149 [==============================] - 2s 12ms/step - loss: 0.0364 - mae: 0.0739 - val_loss: 0.4203 - val_mae: 0.5532\n",
      "Epoch 23/200\n",
      "144/149 [===========================>..] - ETA: 0s - loss: 0.0343 - mae: 0.0755\n",
      "Epoch 23: val_loss did not improve from 0.31863\n",
      "149/149 [==============================] - 2s 12ms/step - loss: 0.0341 - mae: 0.0756 - val_loss: 0.4373 - val_mae: 0.5649\n",
      "Epoch 24/200\n",
      "148/149 [============================>.] - ETA: 0s - loss: 0.0305 - mae: 0.0670\n",
      "Epoch 24: val_loss did not improve from 0.31863\n",
      "149/149 [==============================] - 2s 12ms/step - loss: 0.0304 - mae: 0.0669 - val_loss: 0.4474 - val_mae: 0.5741\n",
      "Epoch 25/200\n",
      "146/149 [============================>.] - ETA: 0s - loss: 0.0281 - mae: 0.0661\n",
      "Epoch 25: val_loss did not improve from 0.31863\n",
      "149/149 [==============================] - 2s 11ms/step - loss: 0.0281 - mae: 0.0661 - val_loss: 0.4392 - val_mae: 0.5699\n",
      "Epoch 26/200\n",
      "148/149 [============================>.] - ETA: 0s - loss: 0.0256 - mae: 0.0621\n",
      "Epoch 26: val_loss did not improve from 0.31863\n",
      "149/149 [==============================] - 2s 12ms/step - loss: 0.0255 - mae: 0.0622 - val_loss: 0.3546 - val_mae: 0.5041\n",
      "Epoch 27/200\n",
      "145/149 [============================>.] - ETA: 0s - loss: 0.0240 - mae: 0.0636\n",
      "Epoch 27: val_loss did not improve from 0.31863\n",
      "149/149 [==============================] - 2s 12ms/step - loss: 0.0239 - mae: 0.0635 - val_loss: 0.4537 - val_mae: 0.5838\n",
      "Epoch 28/200\n",
      "146/149 [============================>.] - ETA: 0s - loss: 0.0212 - mae: 0.0554\n",
      "Epoch 28: val_loss did not improve from 0.31863\n",
      "149/149 [==============================] - 2s 11ms/step - loss: 0.0212 - mae: 0.0553 - val_loss: 0.4461 - val_mae: 0.5751\n",
      "Epoch 29/200\n",
      "148/149 [============================>.] - ETA: 0s - loss: 0.0210 - mae: 0.0651\n",
      "Epoch 29: val_loss did not improve from 0.31863\n",
      "149/149 [==============================] - 2s 11ms/step - loss: 0.0210 - mae: 0.0650 - val_loss: 0.4252 - val_mae: 0.5590\n",
      "Epoch 30/200\n",
      "149/149 [==============================] - ETA: 0s - loss: 0.0176 - mae: 0.0494\n",
      "Epoch 30: val_loss did not improve from 0.31863\n",
      "149/149 [==============================] - 2s 12ms/step - loss: 0.0176 - mae: 0.0494 - val_loss: 0.5397 - val_mae: 0.6413\n",
      "Epoch 31/200\n",
      "148/149 [============================>.] - ETA: 0s - loss: 0.0167 - mae: 0.0530\n",
      "Epoch 31: val_loss did not improve from 0.31863\n",
      "149/149 [==============================] - 2s 11ms/step - loss: 0.0167 - mae: 0.0530 - val_loss: 0.4179 - val_mae: 0.5525\n",
      "Epoch 31: early stopping\n"
     ]
    }
   ],
   "source": [
    "cp = ModelCheckpoint(os.path.join(asset_folder, 'gold', str(model_name)), save_best_only=True, mode='auto', verbose=verbose)\n",
    "es = EarlyStopping(monitor='val_loss', patience=patience, mode='auto', verbose=verbose)\n",
    "model.compile(optimizer=Adam(learning_rate), loss='mse', metrics=['mae'])\n",
    "history = model.fit(X_train_scaled, y_train_scaled, validation_data=(X_valid_scaled, y_valid_scaled), epochs=epochs, batch_size=batch_size, callbacks=[es,cp], verbose=verbose) "
   ]
  },
  {
   "cell_type": "markdown",
   "metadata": {},
   "source": [
    "**Visualization of ML-metrics**"
   ]
  },
  {
   "cell_type": "code",
   "execution_count": 107,
   "metadata": {},
   "outputs": [
    {
     "data": {
      "image/png": "[encoded data removed]",
      "text/plain": [
       "<Figure size 640x480 with 1 Axes>"
      ]
     },
     "metadata": {},
     "output_type": "display_data"
    }
   ],
   "source": [
    "train_loss = history.history['loss']\n",
    "val_loss = history.history['val_loss']\n",
    "\n",
    "# Get the number of epochs\n",
    "epochs = range(1, len(train_loss) + 1)\n",
    "\n",
    "# Get the index of the best model\n",
    "best_model_index = np.argmin(val_loss)\n",
    "\n",
    "# Plot the training loss vs validation loss\n",
    "plt.plot(epochs, train_loss, 'r', label='Training Loss')\n",
    "plt.plot(epochs, val_loss, 'b', label='Validation Loss')\n",
    "plt.scatter(best_model_index + 1, val_loss[best_model_index], color='g', label='Best Model')\n",
    "plt.title('Training Loss vs Validation Loss')\n",
    "plt.xlabel('Epochs',fontsize=16)\n",
    "plt.ylabel('Loss [MSE]',fontsize=16)\n",
    "plt.legend(fontsize=14)\n",
    "\n",
    "# Display the MAE value of the best model\n",
    "best_model_mae = val_loss[best_model_index]\n",
    "plt.annotate(f'MAE: {best_model_mae:.4f}', (best_model_index + 1, best_model_mae), xytext=(10, 10),\n",
    "             textcoords='offset points', color='g')\n",
    "\n",
    "plt.show()"
   ]
  },
  {
   "cell_type": "markdown",
   "metadata": {},
   "source": [
    "### Predictions"
   ]
  },
  {
   "cell_type": "code",
   "execution_count": 108,
   "metadata": {},
   "outputs": [
    {
     "name": "stdout",
     "output_type": "stream",
     "text": [
      "83/83 [==============================] - 0s 1ms/step\n"
     ]
    },
    {
     "data": {
      "image/png": "[encoded data removed]",
      "text/plain": [
       "<Figure size 1000x500 with 1 Axes>"
      ]
     },
     "metadata": {},
     "output_type": "display_data"
    },
    {
     "name": "stdout",
     "output_type": "stream",
     "text": [
      "MSE: 2249.098388671875\n",
      "MAE: 43.76907730102539\n",
      "R^2 Score: 0.2333396970652295\n"
     ]
    },
    {
     "data": {
      "text/html": [
       "<div>\n",
       "<style scoped>\n",
       "    .dataframe tbody tr th:only-of-type {\n",
       "        vertical-align: middle;\n",
       "    }\n",
       "\n",
       "    .dataframe tbody tr th {\n",
       "        vertical-align: top;\n",
       "    }\n",
       "\n",
       "    .dataframe thead th {\n",
       "        text-align: right;\n",
       "    }\n",
       "</style>\n",
       "<table border=\"1\" class=\"dataframe\">\n",
       "  <thead>\n",
       "    <tr style=\"text-align: right;\">\n",
       "      <th></th>\n",
       "      <th>Predictions</th>\n",
       "      <th>Actuals</th>\n",
       "    </tr>\n",
       "  </thead>\n",
       "  <tbody>\n",
       "    <tr>\n",
       "      <th>0</th>\n",
       "      <td>-120.615219</td>\n",
       "      <td>-85.490389</td>\n",
       "    </tr>\n",
       "    <tr>\n",
       "      <th>1</th>\n",
       "      <td>-123.632469</td>\n",
       "      <td>-88.955957</td>\n",
       "    </tr>\n",
       "    <tr>\n",
       "      <th>2</th>\n",
       "      <td>-129.219955</td>\n",
       "      <td>-92.945329</td>\n",
       "    </tr>\n",
       "    <tr>\n",
       "      <th>3</th>\n",
       "      <td>-133.584381</td>\n",
       "      <td>-96.300671</td>\n",
       "    </tr>\n",
       "    <tr>\n",
       "      <th>4</th>\n",
       "      <td>-136.867905</td>\n",
       "      <td>-98.819592</td>\n",
       "    </tr>\n",
       "    <tr>\n",
       "      <th>...</th>\n",
       "      <td>...</td>\n",
       "      <td>...</td>\n",
       "    </tr>\n",
       "    <tr>\n",
       "      <th>2635</th>\n",
       "      <td>-314.542603</td>\n",
       "      <td>-257.119294</td>\n",
       "    </tr>\n",
       "    <tr>\n",
       "      <th>2636</th>\n",
       "      <td>-316.506012</td>\n",
       "      <td>-256.383557</td>\n",
       "    </tr>\n",
       "    <tr>\n",
       "      <th>2637</th>\n",
       "      <td>-315.885803</td>\n",
       "      <td>-258.295017</td>\n",
       "    </tr>\n",
       "    <tr>\n",
       "      <th>2638</th>\n",
       "      <td>-316.944397</td>\n",
       "      <td>-259.567834</td>\n",
       "    </tr>\n",
       "    <tr>\n",
       "      <th>2639</th>\n",
       "      <td>-318.043427</td>\n",
       "      <td>-259.985386</td>\n",
       "    </tr>\n",
       "  </tbody>\n",
       "</table>\n",
       "<p>2640 rows × 2 columns</p>\n",
       "</div>"
      ],
      "text/plain": [
       "      Predictions     Actuals\n",
       "0     -120.615219  -85.490389\n",
       "1     -123.632469  -88.955957\n",
       "2     -129.219955  -92.945329\n",
       "3     -133.584381  -96.300671\n",
       "4     -136.867905  -98.819592\n",
       "...           ...         ...\n",
       "2635  -314.542603 -257.119294\n",
       "2636  -316.506012 -256.383557\n",
       "2637  -315.885803 -258.295017\n",
       "2638  -316.944397 -259.567834\n",
       "2639  -318.043427 -259.985386\n",
       "\n",
       "[2640 rows x 2 columns]"
      ]
     },
     "metadata": {},
     "output_type": "display_data"
    }
   ],
   "source": [
    "from sklearn.metrics import r2_score as score\n",
    "\n",
    "model_file_path = os.path.join(asset_folder, 'gold', model_name)\n",
    "model = load_model(model_file_path)\n",
    "plot_predictions(model_dataset, test_split, model, X_test_scaled, y_test, start=0, end=test_split, scaler=scaler_y)\n",
    "#print(f\"R^2 Score: {score(X_test_scaled, y_test)}\")"
   ]
  }
 ],
 "metadata": {
  "kernelspec": {
   "display_name": "venv",
   "language": "python",
   "name": "python3"
  },
  "language_info": {
   "codemirror_mode": {
    "name": "ipython",
    "version": 3
   },
   "file_extension": ".py",
   "mimetype": "text/x-python",
   "name": "python",
   "nbconvert_exporter": "python",
   "pygments_lexer": "ipython3",
   "version": "3.11.7"
  }
 },
 "nbformat": 4,
 "nbformat_minor": 2
}
