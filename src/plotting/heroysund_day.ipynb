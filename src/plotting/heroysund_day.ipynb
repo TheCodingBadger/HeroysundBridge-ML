{
 "cells": [
  {
   "cell_type": "code",
   "execution_count": null,
   "metadata": {},
   "outputs": [],
   "source": [
    "import numpy as np\n",
    "import pandas as pd\n",
    "import matplotlib.pyplot as plt\n",
    "import os"
   ]
  },
  {
   "cell_type": "code",
   "execution_count": null,
   "metadata": {},
   "outputs": [],
   "source": [
    "# Set the path to the git folder and the asset folder\n",
    "git_folder = os.path.abspath(os.path.join(os.getcwd(), '..', '..', '..', 'HeroysundBridge-ML'))\n",
    "asset_folder = os.path.abspath(os.path.join(os.getcwd(), '..', '..', '..', 'HeroysundBridge-ML-Assets'))\n",
    "\n",
    "print(\"Path to git folder:\", git_folder)\n",
    "print(\"Path to asset folder:\", asset_folder)\n",
    "\n",
    "# Read Parquet file\n",
    "file_path = os.path.join(asset_folder, 'bronze', 'heroysund_sensors', '2021', '02', '20210201083943.parquet')\n",
    "data = pd.read_parquet(file_path)\n",
    "display(data)"
   ]
  },
  {
   "cell_type": "code",
   "execution_count": null,
   "metadata": {},
   "outputs": [],
   "source": [
    "dfs = []\n",
    "\n",
    "for file_name in os.listdir(file_path):\n",
    "    if file_name.endswith('.parquet'):\n",
    "        full_file_path = os.path.join(file_path, file_name)\n",
    "        try:\n",
    "            df = pd.read_parquet(full_file_path)\n",
    "            dfs.append(df)\n",
    "        except Exception as e:\n",
    "            print(f\"Error reading file {full_file_path}: {e}\")\n",
    "\n",
    "if dfs:\n",
    "    combined_df = pd.concat(dfs, ignore_index=True)\n",
    "else:\n",
    "    print(\"No Parquet files found in the directory.\")\n",
    "\n",
    "display(combined_df)"
   ]
  },
  {
   "cell_type": "code",
   "execution_count": null,
   "metadata": {},
   "outputs": [],
   "source": [
    "df = pd.DataFrame(combined_df)\n",
    "\n",
    "# Exclude specific columns by name\n",
    "exclude_columns = ['Days_since_2019.12.31', 'Date', 'PT100_Temperature']\n",
    "sensor_columns = [col for col in df.columns if col not in exclude_columns]\n",
    "\n",
    "# Plot sensor data over time\n",
    "plt.figure(figsize=(12, 8))\n",
    "for column in sensor_columns:\n",
    "    plt.plot(df.index, df[column], label=column)\n",
    "\n",
    "# Plot temperature data\n",
    "plt.plot(df.index, df['PT100_Temperature'], label='PT100_Temperature', linestyle='--', color='black')\n",
    "\n",
    "plt.legend()\n",
    "plt.title('Sensor Data Over Time Excluding Omega Sensors')\n",
    "plt.xlabel('Index')\n",
    "plt.ylabel('Sensor Readings')\n",
    "plt.show()"
   ]
  },
  {
   "cell_type": "markdown",
   "metadata": {},
   "source": [
    "**Single sensor with temprature**"
   ]
  },
  {
   "cell_type": "code",
   "execution_count": null,
   "metadata": {},
   "outputs": [],
   "source": [
    "temp_std = df['PT100_Temperature'].std()\n",
    "temp_mean = df['PT100_Temperature'].mean()\n",
    "temp_ylim = (temp_mean - 3*temp_std, temp_mean + 3*temp_std)\n",
    "\n",
    "fig, ax1 = plt.subplots(figsize=(12, 8))\n",
    "\n",
    "# Plot the first sensor\n",
    "ax1.plot(df.index, df[sensor_to_plot], 'g-', label=sensor_to_plot)\n",
    "ax1.set_xlabel('Index')\n",
    "ax1.set_ylabel(sensor_to_plot, color='g')\n",
    "ax1.tick_params('y', colors='g')\n",
    "\n",
    "# Create a second y-axis for temperature\n",
    "ax2 = ax1.twinx()\n",
    "ax2.plot(df.index, df['PT100_Temperature'], 'b-', label='PT100_Temperature')\n",
    "ax2.set_ylabel('PT100_Temperature', color='b')\n",
    "ax2.tick_params('y', colors='b')\n",
    "ax2.set_ylim(temp_ylim)\n",
    "\n",
    "ax1.legend(loc='upper left')\n",
    "ax2.legend(loc='upper right')\n",
    "\n",
    "plt.title('Sensor Reading vs Temperature (with adjusted scale)')\n",
    "plt.show()"
   ]
  },
  {
   "cell_type": "markdown",
   "metadata": {},
   "source": [
    "**Experimental plot with rolling meadian over sensor data**"
   ]
  },
  {
   "cell_type": "code",
   "execution_count": null,
   "metadata": {},
   "outputs": [],
   "source": [
    "df_rolling_median = combined_df.copy()  # Make a copy to avoid modifying the original DataFrame (Note: Suggested by GitHub CoPiLot)\n",
    "\n",
    "window_size = 1000 \n",
    "\n",
    "# Rolling median filter\n",
    "df_rolling_median['Point_5_S_filtered'] = df_rolling_median['Point_5_S'].rolling(window=window_size, center=True).median()\n",
    "\n",
    "# Handle NaN values resulting from the rolling operation\n",
    "df_rolling_median['Point_5_S_filtered'] = df_rolling_median['Point_5_S_filtered'].fillna(method='bfill')\n",
    "df_rolling_median['Point_5_S_filtered'] = df_rolling_median['Point_5_S_filtered'].fillna(method='ffill')\n",
    "\n",
    "plt.figure(figsize=(20, 6))\n",
    "plt.plot(df_rolling_median['Point_5_S'], label='Original Data', color='lightgrey', alpha=0.5)\n",
    "plt.plot(df_rolling_median['Point_5_S_filtered'], label='Filtered Data', color='green')\n",
    "plt.legend()\n",
    "plt.title('Original vs Filtered Sensor Data')\n",
    "plt.xlabel('Index')\n",
    "plt.ylabel('Sensor Reading')\n",
    "plt.show()\n"
   ]
  },
  {
   "cell_type": "markdown",
   "metadata": {},
   "source": [
    "**Single sensor with temprature (Rolling average used)**"
   ]
  },
  {
   "cell_type": "code",
   "execution_count": null,
   "metadata": {},
   "outputs": [],
   "source": [
    "# Note: The following code is written more concise using ChatGPT's code generation capabilities.\n",
    "sensor_to_plot = 'Point_5_S_filtered'\n",
    "\n",
    "# Calculate temperature statistics\n",
    "temp_std = df['PT100_Temperature'].std()\n",
    "temp_mean = df['PT100_Temperature'].mean()\n",
    "temp_ylim = (temp_mean - 3 * temp_std, temp_mean + 3 * temp_std)\n",
    "\n",
    "# Plot sensor data and temperature on the same plot\n",
    "fig, ax1 = plt.subplots(figsize=(12, 8))\n",
    "\n",
    "ax1.plot(df_rolling_median.index, df_rolling_median[sensor_to_plot], 'g-', label=sensor_to_plot)\n",
    "ax1.set_xlabel('Index')\n",
    "ax1.set_ylabel(sensor_to_plot, color='g')\n",
    "\n",
    "ax2 = ax1.twinx()\n",
    "ax2.plot(df.index, df['PT100_Temperature'], 'b-', label='PT100_Temperature')\n",
    "ax2.set_ylabel('PT100_Temperature', color='b')\n",
    "\n",
    "# Set temperature y-axis limits\n",
    "ax2.set_ylim(temp_ylim)\n",
    "\n",
    "# Add legends and title\n",
    "ax1.legend(loc='upper left')\n",
    "ax2.legend(loc='upper right')\n",
    "plt.title('Sensor Reading vs Temperature (with adjusted scale)')\n",
    "\n",
    "plt.show()"
   ]
  }
 ],
 "metadata": {
  "kernelspec": {
   "display_name": "venv",
   "language": "python",
   "name": "python3"
  },
  "language_info": {
   "codemirror_mode": {
    "name": "ipython",
    "version": 3
   },
   "file_extension": ".py",
   "mimetype": "text/x-python",
   "name": "python",
   "nbconvert_exporter": "python",
   "pygments_lexer": "ipython3",
   "version": "3.11.7"
  }
 },
 "nbformat": 4,
 "nbformat_minor": 2
}
