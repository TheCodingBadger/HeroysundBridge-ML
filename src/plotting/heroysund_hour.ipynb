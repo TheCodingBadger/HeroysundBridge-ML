{
 "cells": [
  {
   "cell_type": "code",
   "execution_count": null,
   "metadata": {},
   "outputs": [],
   "source": [
    "import numpy as np\n",
    "import pandas as pd\n",
    "import matplotlib.pyplot as plt\n",
    "import os"
   ]
  },
  {
   "cell_type": "code",
   "execution_count": null,
   "metadata": {},
   "outputs": [],
   "source": [
    "# Set the path to the git folder and the asset folder\n",
    "git_folder = os.path.abspath(os.path.join(os.getcwd(), '..', '..', '..', 'HeroysundBridge-ML'))\n",
    "asset_folder = os.path.abspath(os.path.join(os.getcwd(), '..', '..', '..', 'HeroysundBridge-ML-Assets'))\n",
    "\n",
    "print(\"Path to git folder:\", git_folder)\n",
    "print(\"Path to asset folder:\", asset_folder)\n",
    "\n",
    "# Read Parquet file\n",
    "file_path = os.path.join(asset_folder, 'bronze', 'heroysund_sensors', '2021', '02', '20210201083943.parquet')\n",
    "data = pd.read_parquet(file_path)\n",
    "display(data)"
   ]
  },
  {
   "cell_type": "code",
   "execution_count": null,
   "metadata": {},
   "outputs": [],
   "source": [
    "columns_to_plot = ['Point_1_N', 'Point_2_N', 'Point_3_N', 'Point_4_S', 'Point_5_S', 'Point_6_S', 'Omega_N', \n",
    "                    'Omega_S', 'PT100_Temperature', 'Point_N+1500', 'Point_N-1500', 'Point_S+2000',\n",
    "                    'Point_S+1000', 'Point_S+0', 'Point_S-1000', 'Point_S-2000']\n",
    "\n",
    "for i, col in enumerate(columns_to_plot):\n",
    "    axs[i].plot(data[col], label=col)\n",
    "    axs[i].set_title(col)\n",
    "    axs[i].legend()\n",
    "\n",
    "fig, axs = plt.subplots(len(columns_to_plot), 1, figsize=(10, 50))\n",
    "plt.tight_layout()\n",
    "plt.show()"
   ]
  },
  {
   "cell_type": "markdown",
   "metadata": {},
   "source": [
    "**Hourly variation compared to hour-mean value**"
   ]
  },
  {
   "cell_type": "code",
   "execution_count": null,
   "metadata": {},
   "outputs": [],
   "source": [
    "# Note: This Code Cell was modified with GitHub Copilot\n",
    "average_values = data[['Point_1_N', 'Point_2_N', 'Point_3_N', 'Point_4_S', 'Point_5_S', 'Point_6_S', 'Omega_N', 'Omega_S', 'PT100_Temperature']].mean()\n",
    "\n",
    "# Generate column names for aggregated DataFrame\n",
    "column_names = [f\"{col}_mean\" for col in average_values.index]\n",
    "aggregated_df = pd.DataFrame([average_values], columns=column_names)\n",
    "\n",
    "aggregated_df"
   ]
  },
  {
   "cell_type": "code",
   "execution_count": null,
   "metadata": {},
   "outputs": [],
   "source": [
    "# Note: This Code Cell was modified with GitHub Copilot\n",
    "fig, axs = plt.subplots(len(aggregated_df.columns), 1, figsize=(20, 30), sharex=True)\n",
    "\n",
    "for i, column in enumerate(aggregated_df.columns):\n",
    "    # Extract the original column name without '_mean' to match with 'data' DataFrame\n",
    "    original_column = column.replace('_mean', '')\n",
    "    \n",
    "    # Plot original data\n",
    "    axs[i].plot(data.index, data[original_column], label=f'Original {original_column}', color='blue', alpha=0.5)\n",
    "    \n",
    "    # Plot average value as a horizontal line\n",
    "    mean_value = aggregated_df[column].iloc[0]\n",
    "    axs[i].axhline(y=mean_value, color='red', linestyle='--', label=f'Average {column}')\n",
    "    \n",
    "    axs[i].set_ylabel('Value')\n",
    "    axs[i].legend()\n",
    "    axs[i].set_title(f'{original_column} Sensor Data vs. Average')\n",
    "\n",
    "# Set common labels\n",
    "plt.xlabel('Index')\n",
    "plt.tight_layout()\n",
    "plt.show()"
   ]
  },
  {
   "cell_type": "markdown",
   "metadata": {},
   "source": [
    "**With outlier handling (Excluding vechile affected abnormalty)**"
   ]
  },
  {
   "cell_type": "code",
   "execution_count": null,
   "metadata": {},
   "outputs": [],
   "source": [
    "# Note: This Code Cell was modified with GitHub Copilot\n",
    "data.index = np.arange(0, 72037)\n",
    "\n",
    "# Prepare the plot\n",
    "fig, axs = plt.subplots(len(aggregated_df.columns), 1, figsize=(20, 30), sharex=True)\n",
    "\n",
    "for i, column in enumerate(aggregated_df.columns):\n",
    "    original_column = column.replace('_mean', '')\n",
    "    mean_value = aggregated_df[column].iloc[0]\n",
    "\n",
    "    # Filter values more than 10 units above the mean\n",
    "    filtered_data = data.loc[(data[original_column] <= (mean_value + 10)) & (data[original_column] >= (mean_value - 10)), original_column]\n",
    "\n",
    "    # Plot filtered data\n",
    "    axs[i].plot(filtered_data.index, filtered_data, label=f'Original {original_column}', color='blue', alpha=0.5)\n",
    "    \n",
    "    # Plot average value as a horizontal line\n",
    "    axs[i].axhline(y=mean_value, color='red', linestyle='--', label=f'Average {column}')\n",
    "    \n",
    "    axs[i].set_ylabel('Value')\n",
    "    axs[i].legend()\n",
    "    axs[i].set_title(f'{original_column} Sensor Data vs. Average')\n",
    "\n",
    "# Adjusting the x-axis to show minutes from 0 to 60\n",
    "plt.xticks(np.arange(0, 61, 5))  # Set x-axis ticks to every 5 minutes for clarity\n",
    "plt.xlabel('Time (minutes)')\n",
    "plt.tight_layout()\n",
    "plt.show()"
   ]
  }
 ],
 "metadata": {
  "kernelspec": {
   "display_name": "venv",
   "language": "python",
   "name": "python3"
  },
  "language_info": {
   "codemirror_mode": {
    "name": "ipython",
    "version": 3
   },
   "file_extension": ".py",
   "mimetype": "text/x-python",
   "name": "python",
   "nbconvert_exporter": "python",
   "pygments_lexer": "ipython3",
   "version": "3.11.7"
  }
 },
 "nbformat": 4,
 "nbformat_minor": 2
}
