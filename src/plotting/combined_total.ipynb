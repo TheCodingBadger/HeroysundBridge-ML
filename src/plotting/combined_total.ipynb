{
 "cells": [
  {
   "cell_type": "code",
   "execution_count": null,
   "metadata": {},
   "outputs": [],
   "source": [
    "import pandas as pd\n",
    "import matplotlib.pyplot as plt\n",
    "import numpy as np\n",
    "import os"
   ]
  },
  {
   "cell_type": "code",
   "execution_count": null,
   "metadata": {},
   "outputs": [],
   "source": [
    "# Set the path to the git folder and the asset folder\n",
    "git_folder = os.path.abspath(os.path.join(os.getcwd(), '..', '..', '..', 'HeroysundBridge-ML'))\n",
    "asset_folder = os.path.abspath(os.path.join(os.getcwd(), '..', '..', '..', 'HeroysundBridge-ML-Assets'))\n",
    "\n",
    "print(\"Path to git folder:\", git_folder)\n",
    "print(\"Path to asset folder:\", asset_folder)\n",
    "\n",
    "# Read Parquet file\n",
    "file_path = os.path.join(asset_folder, 'bronze', 'heroysund_sensors', '2021', '02', '20210201083943.parquet')\n",
    "data = pd.read_parquet(file_path)\n",
    "display(data)"
   ]
  },
  {
   "cell_type": "markdown",
   "metadata": {},
   "source": [
    "**Plotting total dataset**"
   ]
  },
  {
   "cell_type": "code",
   "execution_count": null,
   "metadata": {},
   "outputs": [],
   "source": [
    "data.set_index('Date', inplace=True)\n",
    "\n",
    "for column in data.columns:\n",
    "    # Create a new figure\n",
    "    plt.figure(figsize=(10,6))\n",
    "    # Plot the column\n",
    "    data[column].plot()\n",
    "    # Add a title\n",
    "    plt.title(column)\n",
    "    # Show the plot\n",
    "    plt.show()\n",
    "    \n",
    "# Convert 'Date' column to datetime object\n",
    "#data['Date'] = pd.to_datetime(data['Date'], format='%Y%m%d%H')\n"
   ]
  },
  {
   "cell_type": "markdown",
   "metadata": {},
   "source": [
    "**Plotting total dataset with outlier removal**"
   ]
  },
  {
   "cell_type": "code",
   "execution_count": null,
   "metadata": {},
   "outputs": [],
   "source": [
    "for column in data.columns:\n",
    "    plt.figure(figsize=(10, 6))\n",
    "    \n",
    "    # If plotting Omega columns, adjust values on the fly without modifying the DataFrame\n",
    "    if column in ['Omega_N_mean', 'Omega_S_mean']:\n",
    "        # Temporarily adjust Omega values for plotting: set values < -1.8 or == 0 to NaN\n",
    "        adjusted_values = data[column].apply(lambda x: np.nan if x < -1.8 else x)\n",
    "        plt.plot(data.index, adjusted_values, label=column, color='r')\n",
    "    else:\n",
    "        # Plot other sensor data directly\n",
    "        plt.plot(data.index, data[column], label=column)\n",
    "    \n",
    "    plt.title(column)\n",
    "    plt.legend()\n",
    "    plt.gcf().autofmt_xdate()  # Auto-format date labels for readability\n",
    "    plt.show()"
   ]
  }
 ],
 "metadata": {
  "kernelspec": {
   "display_name": "venv",
   "language": "python",
   "name": "python3"
  },
  "language_info": {
   "codemirror_mode": {
    "name": "ipython",
    "version": 3
   },
   "file_extension": ".py",
   "mimetype": "text/x-python",
   "name": "python",
   "nbconvert_exporter": "python",
   "pygments_lexer": "ipython3",
   "version": "3.11.7"
  }
 },
 "nbformat": 4,
 "nbformat_minor": 2
}
